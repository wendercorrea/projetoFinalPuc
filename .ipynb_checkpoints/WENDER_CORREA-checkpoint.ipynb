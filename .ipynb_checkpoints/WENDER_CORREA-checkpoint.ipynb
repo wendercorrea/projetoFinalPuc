{
 "cells": [
  {
   "cell_type": "markdown",
   "id": "c65f1125",
   "metadata": {},
   "source": [
    "# <h1><center>PUC Minas - PONTIFÍCIA UNIVERSIDADE CATÓLICA DE MINAS GERAIS</center></h1>\n",
    "\n",
    "<h2><center>Pós-Graduação em Ciência de Dados e Big Data</center></h2>\n",
    "\n",
    "<h3><center>TRABALHO DE CONCLUSÃO DE CURSO</center><br>\n",
    "TÍTULO:<br>\n",
    "<br>\n",
    "ALUNO: Wender Pereira Corrêa</h3>\n",
    "Matrícula:\n",
    "<p>Este notebook é referente ao Trabalho de Conclusão de Curso em Ciência de Dados e Big Data.</p>"
   ]
  },
  {
   "cell_type": "markdown",
   "id": "51598541",
   "metadata": {},
   "source": [
    "#Leitura dos dados e importação das bibliotecas utilizadas"
   ]
  },
  {
   "cell_type": "code",
   "execution_count": 1,
   "id": "6ec53464",
   "metadata": {},
   "outputs": [],
   "source": [
    "#IMPORTAÇÃO DAS BIBLIOTECAS\n",
    "import pandas as pd\n",
    "import numpy as np\n",
    "import zipfile\n",
    "import requests\n",
    "from io import BytesIO\n",
    "import os\n",
    "import glob\n",
    "import seaborn as sns\n",
    "sns.set_theme(style=\"whitegrid\", palette=\"muted\")\n",
    "import time"
   ]
  },
  {
   "cell_type": "code",
   "execution_count": 2,
   "id": "e22cc0a6",
   "metadata": {},
   "outputs": [],
   "source": [
    "#Importação da função Counter e da biblioteca matplotlib.pyplot\n",
    "from collections import Counter\n",
    "import matplotlib.pyplot as plt"
   ]
  },
  {
   "cell_type": "code",
   "execution_count": 3,
   "id": "7350e7af",
   "metadata": {},
   "outputs": [],
   "source": [
    "#Plotação de um gráfico para mostrar a dispersão dos dados. \n",
    "#O % e inline significa que o gráfico será mostrado aqui no notebook, e não em um arquivo\n",
    "%matplotlib inline"
   ]
  },
  {
   "cell_type": "code",
   "execution_count": 4,
   "id": "4e594484",
   "metadata": {},
   "outputs": [],
   "source": [
    "#Definindo a pasta de trabalho\n",
    "dirCandidatoAnalise = \"./candidatoAnalise\"\n",
    "dirCandidatoCassacaoAnalise = \"./candidatoCassacaoAnalise\" \n",
    "dirBemCandidato = \"./bemCandidatoAnalise\" \n",
    " \n",
    "os.makedirs(dirCandidatoAnalise, exist_ok=True)\n",
    "os.makedirs(dirCandidatoCassacaoAnalise, exist_ok=True)\n",
    "os.makedirs(dirBemCandidato, exist_ok=True)"
   ]
  },
  {
   "cell_type": "code",
   "execution_count": 5,
   "id": "5e367389",
   "metadata": {},
   "outputs": [],
   "source": [
    "def descompactar(nome_arquivo_compactado, diretorio):\n",
    "    #Lê o arquivo compactado e extrai o conteúdo\n",
    "    #print(nome_arquivo_compactado)\n",
    "    filebytes = BytesIO(\n",
    "        requests.get(nome_arquivo_compactado).content\n",
    "    )\n",
    "    myzip = zipfile.ZipFile(filebytes)\n",
    "    myzip.extractall(diretorio)\n",
    "    return \"Concluído\""
   ]
  },
  {
   "cell_type": "markdown",
   "id": "99164951",
   "metadata": {},
   "source": [
    "<b>1) Dados Politicos</b>"
   ]
  },
  {
   "cell_type": "code",
   "execution_count": 6,
   "id": "ef4a0be6",
   "metadata": {},
   "outputs": [],
   "source": [
    "ca = 2014\n",
    "while ca < 2022:\n",
    "    urlCandidatoAnalise = \"https://cdn.tse.jus.br/estatistica/sead/odsele/consulta_cand/consulta_cand_\" + str(ca)+ \".zip\"\n",
    "    #descompactar(urlCandidatoAnalise,dirCandidatoAnalise)\n",
    "    urlCandidatoCassacaoAnalise = \"https://cdn.tse.jus.br/estatistica/sead/odsele/motivo_cassacao/motivo_cassacao_\" + str(ca)+ \".zip\"\n",
    "    #descompactar(urlCandidatoCassacaoAnalise,dirCandidatoCassacaoAnalise)\n",
    "    urlBemCandidatoAnalise = \"https://cdn.tse.jus.br/estatistica/sead/odsele/bem_candidato/bem_candidato_\" + str(ca)+ \".zip\"\n",
    "    #descompactar(urlBemCandidatoAnalise,dirBemCandidato)    \n",
    "    ca+=2"
   ]
  },
  {
   "cell_type": "markdown",
   "id": "391c6b73",
   "metadata": {},
   "source": [
    "<b>1) Dados Candidato</b>"
   ]
  },
  {
   "cell_type": "code",
   "execution_count": 7,
   "id": "92f989ff",
   "metadata": {
    "scrolled": false
   },
   "outputs": [
    {
     "name": "stdout",
     "output_type": "stream",
     "text": [
      "Arquivos com extensão csv Candidato:\n",
      "consulta_cand_2014_AC.csv\n",
      "consulta_cand_2014_AL.csv\n",
      "consulta_cand_2014_AM.csv\n",
      "consulta_cand_2014_AP.csv\n",
      "consulta_cand_2014_BA.csv\n",
      "consulta_cand_2014_BR.csv\n",
      "consulta_cand_2014_BRASIL.csv\n",
      "consulta_cand_2014_CE.csv\n",
      "consulta_cand_2014_DF.csv\n",
      "consulta_cand_2014_ES.csv\n",
      "consulta_cand_2014_GO.csv\n",
      "consulta_cand_2014_MA.csv\n",
      "consulta_cand_2014_MG.csv\n",
      "consulta_cand_2014_MS.csv\n",
      "consulta_cand_2014_MT.csv\n",
      "consulta_cand_2014_PA.csv\n",
      "consulta_cand_2014_PB.csv\n",
      "consulta_cand_2014_PE.csv\n",
      "consulta_cand_2014_PI.csv\n",
      "consulta_cand_2014_PR.csv\n",
      "consulta_cand_2014_RJ.csv\n",
      "consulta_cand_2014_RN.csv\n",
      "consulta_cand_2014_RO.csv\n",
      "consulta_cand_2014_RR.csv\n",
      "consulta_cand_2014_RS.csv\n",
      "consulta_cand_2014_SC.csv\n",
      "consulta_cand_2014_SE.csv\n",
      "consulta_cand_2014_SP.csv\n",
      "consulta_cand_2014_TO.csv\n",
      "consulta_cand_2016_AC.csv\n",
      "consulta_cand_2016_AL.csv\n",
      "consulta_cand_2016_AM.csv\n",
      "consulta_cand_2016_AP.csv\n",
      "consulta_cand_2016_BA.csv\n",
      "consulta_cand_2016_BRASIL.csv\n",
      "consulta_cand_2016_CE.csv\n",
      "consulta_cand_2016_ES.csv\n",
      "consulta_cand_2016_GO.csv\n",
      "consulta_cand_2016_MA.csv\n",
      "consulta_cand_2016_MG.csv\n",
      "consulta_cand_2016_MS.csv\n",
      "consulta_cand_2016_MT.csv\n",
      "consulta_cand_2016_PA.csv\n",
      "consulta_cand_2016_PB.csv\n",
      "consulta_cand_2016_PE.csv\n",
      "consulta_cand_2016_PI.csv\n",
      "consulta_cand_2016_PR.csv\n",
      "consulta_cand_2016_RJ.csv\n",
      "consulta_cand_2016_RN.csv\n",
      "consulta_cand_2016_RO.csv\n",
      "consulta_cand_2016_RR.csv\n",
      "consulta_cand_2016_RS.csv\n",
      "consulta_cand_2016_SC.csv\n",
      "consulta_cand_2016_SE.csv\n",
      "consulta_cand_2016_SP.csv\n",
      "consulta_cand_2016_TO.csv\n",
      "consulta_cand_2018_AC.csv\n",
      "consulta_cand_2018_AL.csv\n",
      "consulta_cand_2018_AM.csv\n",
      "consulta_cand_2018_AP.csv\n",
      "consulta_cand_2018_BA.csv\n",
      "consulta_cand_2018_BR.csv\n",
      "consulta_cand_2018_BRASIL.csv\n",
      "consulta_cand_2018_CE.csv\n",
      "consulta_cand_2018_DF.csv\n",
      "consulta_cand_2018_ES.csv\n",
      "consulta_cand_2018_GO.csv\n",
      "consulta_cand_2018_MA.csv\n",
      "consulta_cand_2018_MG.csv\n",
      "consulta_cand_2018_MS.csv\n",
      "consulta_cand_2018_MT.csv\n",
      "consulta_cand_2018_PA.csv\n",
      "consulta_cand_2018_PB.csv\n",
      "consulta_cand_2018_PE.csv\n",
      "consulta_cand_2018_PI.csv\n",
      "consulta_cand_2018_PR.csv\n",
      "consulta_cand_2018_RJ.csv\n",
      "consulta_cand_2018_RN.csv\n",
      "consulta_cand_2018_RO.csv\n",
      "consulta_cand_2018_RR.csv\n",
      "consulta_cand_2018_RS.csv\n",
      "consulta_cand_2018_SC.csv\n",
      "consulta_cand_2018_SE.csv\n",
      "consulta_cand_2018_SP.csv\n",
      "consulta_cand_2018_TO.csv\n",
      "consulta_cand_2020_AC.csv\n",
      "consulta_cand_2020_AL.csv\n",
      "consulta_cand_2020_AM.csv\n",
      "consulta_cand_2020_AP.csv\n",
      "consulta_cand_2020_BA.csv\n",
      "consulta_cand_2020_BRASIL.csv\n",
      "consulta_cand_2020_CE.csv\n",
      "consulta_cand_2020_ES.csv\n",
      "consulta_cand_2020_GO.csv\n",
      "consulta_cand_2020_MA.csv\n",
      "consulta_cand_2020_MG.csv\n",
      "consulta_cand_2020_MS.csv\n",
      "consulta_cand_2020_MT.csv\n",
      "consulta_cand_2020_PA.csv\n",
      "consulta_cand_2020_PB.csv\n",
      "consulta_cand_2020_PE.csv\n",
      "consulta_cand_2020_PI.csv\n",
      "consulta_cand_2020_PR.csv\n",
      "consulta_cand_2020_RJ.csv\n",
      "consulta_cand_2020_RN.csv\n",
      "consulta_cand_2020_RO.csv\n",
      "consulta_cand_2020_RR.csv\n",
      "consulta_cand_2020_RS.csv\n",
      "consulta_cand_2020_SC.csv\n",
      "consulta_cand_2020_SE.csv\n",
      "consulta_cand_2020_SP.csv\n",
      "consulta_cand_2020_TO.csv\n"
     ]
    }
   ],
   "source": [
    "print('Arquivos com extensão csv Candidato:')\n",
    "concatenar = []\n",
    "with os.scandir(dirCandidatoAnalise) as arqs:\n",
    "    for arq in arqs:\n",
    "        if arq.is_file() and  arq.name.endswith('.csv'):\n",
    "             print(arq.name)\n",
    "    path = dirCandidatoAnalise\n",
    "    # csv files in the path\n",
    "    files = glob.glob(path + \"/*.csv\")\n",
    "    # defining an empty list to store \n",
    "    # content\n",
    "    data_frame = pd.DataFrame()\n",
    "    content = []\n",
    "    # checking all the csv files in the \n",
    "    # specified path\n",
    "    for filename in files:\n",
    "        df = pd.read_csv(filename, encoding = \"Latin 1\", sep= \";\", decimal = ',', \n",
    "            error_bad_lines=False,dtype={\"SQ_CANDIDATO\": int, \"ANO_ELEICAO\": int,\"SG_UF\" : \"string\", \"NR_TURNO\": int,\"HH_GERACAO\" : object ,\"CD_TIPO_ELEICAO\" : int,\"NM_TIPO_ELEICAO\" : \"string\",\"CD_ELEICAO\" : \"string\",\"DS_ELEICAO\" :\"string\",\"TP_ABRANGENCIA\" : \"string\",\"SG_UE\" : \"string\",\"NM_UE\" : \"string\",\"CD_CARGO\" : int,\"DS_CARGO\" : \"string\",\"NR_CANDIDATO\" : int,\"NM_CANDIDATO\" : \"string\",\"NM_URNA_CANDIDATO\" : \"string\",\"NM_SOCIAL_CANDIDATO\" : \"string\",\"NR_CPF_CANDIDATO\" : \"string\",\"NM_EMAIL\" : \"string\",\"CD_SITUACAO_CANDIDATURA\" : \"string\",\"DS_SITUACAO_CANDIDATURA\" : \"string\",\"CD_DETALHE_SITUACAO_CAND\" : \"string\",\"DS_DETALHE_SITUACAO_CAND\" : \"string\",\"TP_AGREMIACAO\" : \"string\",\"NR_PARTIDO\" : int,\"SG_PARTIDO\" : \"string\",\"NM_PARTIDO\" : \"string\",\"SQ_COLIGACAO\" : \"string\",\"NM_COLIGACAO\" : \"string\",\"DS_COMPOSICAO_COLIGACAO\" : \"string\",\"CD_NACIONALIDADE\" : int,\"DS_NACIONALIDADE\" : \"string\",\"SG_UF_NASCIMENTO\" : \"string\",\"CD_MUNICIPIO_NASCIMENTO\" : \"string\",\"NM_MUNICIPIO_NASCIMENTO\" : \"string\",\"DT_NASCIMENTO\" : \"string\",\"NR_IDADE_DATA_POSSE\" : float ,\"NR_TITULO_ELEITORAL_CANDIDATO\" : \"string\",\"CD_GENERO\" : int,\"DS_GENERO\" : \"string\",\"CD_GRAU_INSTRUCAO\" : int,\"DS_GRAU_INSTRUCAO\" : \"string\",\"CD_ESTADO_CIVIL\" : int,\"DS_ESTADO_CIVIL\" : \"string\",\"CD_OCUPACAO\" : \"string\", \"DS_OCUPACAO\" : \"string\",\"VR_DESPESA_MAX_CAMPANHA\" : \"string\",\"CD_SIT_TOT_TURNO\" : \"string\",\"DS_SIT_TOT_TURNO\" : \"string\",\"ST_REELEICAO\" : \"string\",\"ST_DECLARAR_BENS\" : \"string\",\"NR_PROTOCOLO_CANDIDATURA\" : \"string\",\"NR_PROCESSO\" : \"string\" ,\"CD_SITUACAO_CANDIDATO_PLEITO\" : \"string\",\"DS_SITUACAO_CANDIDATO_PLEITO\" : \"string\",\"CD_SITUACAO_CANDIDATO_URNA\" : \"string\", \"DS_SITUACAO_CANDIDATO_URNA\" : \"string\",\"ST_CANDIDATO_INSERIDO_URNA\" : \"string\"})\n",
    "        df.drop_duplicates()\n",
    "        content.append(df)\n",
    "    # converting content to data frame\n",
    "    data_frame = pd.concat(content).drop_duplicates()"
   ]
  },
  {
   "cell_type": "code",
   "execution_count": 8,
   "id": "8a6b0579",
   "metadata": {},
   "outputs": [
    {
     "data": {
      "text/plain": [
       "<AxesSubplot:>"
      ]
     },
     "execution_count": 8,
     "metadata": {},
     "output_type": "execute_result"
    },
    {
     "data": {
      "image/png": "[encoded data removed]",
      "text/plain": [
       "<Figure size 432x288 with 1 Axes>"
      ]
     },
     "metadata": {
      "needs_background": "light"
     },
     "output_type": "display_data"
    }
   ],
   "source": [
    "import seaborn as sns\n",
    "sns.heatmap(data_frame.isnull(), \n",
    "            yticklabels=False, \n",
    "            cbar=False, \n",
    "            cmap='viridis')"
   ]
  },
  {
   "cell_type": "markdown",
   "id": "0a8676e1",
   "metadata": {},
   "source": [
    "data_frame_idade_or = Counter(data_frame['NR_IDADE_DATA_POSSE'])"
   ]
  },
  {
   "cell_type": "markdown",
   "id": "64331467",
   "metadata": {},
   "source": []
  },
  {
   "cell_type": "code",
   "execution_count": 9,
   "id": "28b2fa3b",
   "metadata": {},
   "outputs": [
    {
     "data": {
      "text/plain": [
       "DT_GERACAO                      object\n",
       "HH_GERACAO                      object\n",
       "ANO_ELEICAO                      int32\n",
       "CD_TIPO_ELEICAO                  int32\n",
       "NM_TIPO_ELEICAO                 string\n",
       "                                 ...  \n",
       "CD_SITUACAO_CANDIDATO_PLEITO    string\n",
       "DS_SITUACAO_CANDIDATO_PLEITO    string\n",
       "CD_SITUACAO_CANDIDATO_URNA      string\n",
       "DS_SITUACAO_CANDIDATO_URNA      string\n",
       "ST_CANDIDATO_INSERIDO_URNA      string\n",
       "Length: 63, dtype: object"
      ]
     },
     "execution_count": 9,
     "metadata": {},
     "output_type": "execute_result"
    }
   ],
   "source": [
    "data_frame.dtypes"
   ]
  },
  {
   "cell_type": "code",
   "execution_count": 10,
   "id": "9b17bb14",
   "metadata": {},
   "outputs": [
    {
     "data": {
      "text/html": [
       "<div>\n",
       "<style scoped>\n",
       "    .dataframe tbody tr th:only-of-type {\n",
       "        vertical-align: middle;\n",
       "    }\n",
       "\n",
       "    .dataframe tbody tr th {\n",
       "        vertical-align: top;\n",
       "    }\n",
       "\n",
       "    .dataframe thead th {\n",
       "        text-align: right;\n",
       "    }\n",
       "</style>\n",
       "<table border=\"1\" class=\"dataframe\">\n",
       "  <thead>\n",
       "    <tr style=\"text-align: right;\">\n",
       "      <th></th>\n",
       "      <th>Coluna</th>\n",
       "      <th>Dados ausentes</th>\n",
       "      <th>Porcentagem</th>\n",
       "    </tr>\n",
       "  </thead>\n",
       "  <tbody>\n",
       "    <tr>\n",
       "      <th>DT_GERACAO</th>\n",
       "      <td>DT_GERACAO</td>\n",
       "      <td>0</td>\n",
       "      <td>0.0</td>\n",
       "    </tr>\n",
       "    <tr>\n",
       "      <th>HH_GERACAO</th>\n",
       "      <td>HH_GERACAO</td>\n",
       "      <td>0</td>\n",
       "      <td>0.0</td>\n",
       "    </tr>\n",
       "    <tr>\n",
       "      <th>ANO_ELEICAO</th>\n",
       "      <td>ANO_ELEICAO</td>\n",
       "      <td>0</td>\n",
       "      <td>0.0</td>\n",
       "    </tr>\n",
       "    <tr>\n",
       "      <th>CD_TIPO_ELEICAO</th>\n",
       "      <td>CD_TIPO_ELEICAO</td>\n",
       "      <td>0</td>\n",
       "      <td>0.0</td>\n",
       "    </tr>\n",
       "    <tr>\n",
       "      <th>NM_TIPO_ELEICAO</th>\n",
       "      <td>NM_TIPO_ELEICAO</td>\n",
       "      <td>0</td>\n",
       "      <td>0.0</td>\n",
       "    </tr>\n",
       "    <tr>\n",
       "      <th>...</th>\n",
       "      <td>...</td>\n",
       "      <td>...</td>\n",
       "      <td>...</td>\n",
       "    </tr>\n",
       "    <tr>\n",
       "      <th>CD_SITUACAO_CANDIDATO_PLEITO</th>\n",
       "      <td>CD_SITUACAO_CANDIDATO_PLEITO</td>\n",
       "      <td>0</td>\n",
       "      <td>0.0</td>\n",
       "    </tr>\n",
       "    <tr>\n",
       "      <th>DS_SITUACAO_CANDIDATO_PLEITO</th>\n",
       "      <td>DS_SITUACAO_CANDIDATO_PLEITO</td>\n",
       "      <td>0</td>\n",
       "      <td>0.0</td>\n",
       "    </tr>\n",
       "    <tr>\n",
       "      <th>CD_SITUACAO_CANDIDATO_URNA</th>\n",
       "      <td>CD_SITUACAO_CANDIDATO_URNA</td>\n",
       "      <td>0</td>\n",
       "      <td>0.0</td>\n",
       "    </tr>\n",
       "    <tr>\n",
       "      <th>DS_SITUACAO_CANDIDATO_URNA</th>\n",
       "      <td>DS_SITUACAO_CANDIDATO_URNA</td>\n",
       "      <td>0</td>\n",
       "      <td>0.0</td>\n",
       "    </tr>\n",
       "    <tr>\n",
       "      <th>ST_CANDIDATO_INSERIDO_URNA</th>\n",
       "      <td>ST_CANDIDATO_INSERIDO_URNA</td>\n",
       "      <td>0</td>\n",
       "      <td>0.0</td>\n",
       "    </tr>\n",
       "  </tbody>\n",
       "</table>\n",
       "<p>63 rows × 3 columns</p>\n",
       "</div>"
      ],
      "text/plain": [
       "                                                    Coluna  Dados ausentes  \\\n",
       "DT_GERACAO                                      DT_GERACAO               0   \n",
       "HH_GERACAO                                      HH_GERACAO               0   \n",
       "ANO_ELEICAO                                    ANO_ELEICAO               0   \n",
       "CD_TIPO_ELEICAO                            CD_TIPO_ELEICAO               0   \n",
       "NM_TIPO_ELEICAO                            NM_TIPO_ELEICAO               0   \n",
       "...                                                    ...             ...   \n",
       "CD_SITUACAO_CANDIDATO_PLEITO  CD_SITUACAO_CANDIDATO_PLEITO               0   \n",
       "DS_SITUACAO_CANDIDATO_PLEITO  DS_SITUACAO_CANDIDATO_PLEITO               0   \n",
       "CD_SITUACAO_CANDIDATO_URNA      CD_SITUACAO_CANDIDATO_URNA               0   \n",
       "DS_SITUACAO_CANDIDATO_URNA      DS_SITUACAO_CANDIDATO_URNA               0   \n",
       "ST_CANDIDATO_INSERIDO_URNA      ST_CANDIDATO_INSERIDO_URNA               0   \n",
       "\n",
       "                              Porcentagem  \n",
       "DT_GERACAO                            0.0  \n",
       "HH_GERACAO                            0.0  \n",
       "ANO_ELEICAO                           0.0  \n",
       "CD_TIPO_ELEICAO                       0.0  \n",
       "NM_TIPO_ELEICAO                       0.0  \n",
       "...                                   ...  \n",
       "CD_SITUACAO_CANDIDATO_PLEITO          0.0  \n",
       "DS_SITUACAO_CANDIDATO_PLEITO          0.0  \n",
       "CD_SITUACAO_CANDIDATO_URNA            0.0  \n",
       "DS_SITUACAO_CANDIDATO_URNA            0.0  \n",
       "ST_CANDIDATO_INSERIDO_URNA            0.0  \n",
       "\n",
       "[63 rows x 3 columns]"
      ]
     },
     "execution_count": 10,
     "metadata": {},
     "output_type": "execute_result"
    }
   ],
   "source": [
    "#Calcula o total e a % de valores ausentes\n",
    "num_ausentes = data_frame.isna().sum()\n",
    "porc_ausentes = data_frame.isna().sum() * 100 / len(data_frame)\n",
    "df_ausentes = pd.DataFrame({\n",
    "    'Coluna': data_frame.columns,\n",
    "    'Dados ausentes': num_ausentes,\n",
    "    'Porcentagem': porc_ausentes\n",
    "})\n",
    "df_ausentes"
   ]
  },
  {
   "cell_type": "code",
   "execution_count": 11,
   "id": "34e25595",
   "metadata": {
    "scrolled": true
   },
   "outputs": [
    {
     "data": {
      "text/html": [
       "<div>\n",
       "<style scoped>\n",
       "    .dataframe tbody tr th:only-of-type {\n",
       "        vertical-align: middle;\n",
       "    }\n",
       "\n",
       "    .dataframe tbody tr th {\n",
       "        vertical-align: top;\n",
       "    }\n",
       "\n",
       "    .dataframe thead th {\n",
       "        text-align: right;\n",
       "    }\n",
       "</style>\n",
       "<table border=\"1\" class=\"dataframe\">\n",
       "  <thead>\n",
       "    <tr style=\"text-align: right;\">\n",
       "      <th></th>\n",
       "      <th>DT_GERACAO</th>\n",
       "      <th>HH_GERACAO</th>\n",
       "      <th>ANO_ELEICAO</th>\n",
       "      <th>CD_TIPO_ELEICAO</th>\n",
       "      <th>NM_TIPO_ELEICAO</th>\n",
       "      <th>NR_TURNO</th>\n",
       "      <th>CD_ELEICAO</th>\n",
       "      <th>DS_ELEICAO</th>\n",
       "      <th>DT_ELEICAO</th>\n",
       "      <th>TP_ABRANGENCIA</th>\n",
       "      <th>...</th>\n",
       "      <th>DS_SIT_TOT_TURNO</th>\n",
       "      <th>ST_REELEICAO</th>\n",
       "      <th>ST_DECLARAR_BENS</th>\n",
       "      <th>NR_PROTOCOLO_CANDIDATURA</th>\n",
       "      <th>NR_PROCESSO</th>\n",
       "      <th>CD_SITUACAO_CANDIDATO_PLEITO</th>\n",
       "      <th>DS_SITUACAO_CANDIDATO_PLEITO</th>\n",
       "      <th>CD_SITUACAO_CANDIDATO_URNA</th>\n",
       "      <th>DS_SITUACAO_CANDIDATO_URNA</th>\n",
       "      <th>ST_CANDIDATO_INSERIDO_URNA</th>\n",
       "    </tr>\n",
       "  </thead>\n",
       "  <tbody>\n",
       "    <tr>\n",
       "      <th>0</th>\n",
       "      <td>08/04/2021</td>\n",
       "      <td>11:38:25</td>\n",
       "      <td>2014</td>\n",
       "      <td>2</td>\n",
       "      <td>ELEIÇÃO ORDINÁRIA</td>\n",
       "      <td>1</td>\n",
       "      <td>143</td>\n",
       "      <td>Eleições Gerais 2014</td>\n",
       "      <td>05/10/2014</td>\n",
       "      <td>FEDERAL</td>\n",
       "      <td>...</td>\n",
       "      <td>SUPLENTE</td>\n",
       "      <td>N</td>\n",
       "      <td>S</td>\n",
       "      <td>54232014</td>\n",
       "      <td>3506420146010000</td>\n",
       "      <td>2</td>\n",
       "      <td>DEFERIDO</td>\n",
       "      <td>2</td>\n",
       "      <td>DEFERIDO</td>\n",
       "      <td>SIM</td>\n",
       "    </tr>\n",
       "    <tr>\n",
       "      <th>1</th>\n",
       "      <td>08/04/2021</td>\n",
       "      <td>11:38:25</td>\n",
       "      <td>2014</td>\n",
       "      <td>2</td>\n",
       "      <td>ELEIÇÃO ORDINÁRIA</td>\n",
       "      <td>1</td>\n",
       "      <td>143</td>\n",
       "      <td>Eleições Gerais 2014</td>\n",
       "      <td>05/10/2014</td>\n",
       "      <td>FEDERAL</td>\n",
       "      <td>...</td>\n",
       "      <td>SUPLENTE</td>\n",
       "      <td>N</td>\n",
       "      <td>S</td>\n",
       "      <td>56222014</td>\n",
       "      <td>5212120146010000</td>\n",
       "      <td>2</td>\n",
       "      <td>DEFERIDO</td>\n",
       "      <td>2</td>\n",
       "      <td>DEFERIDO</td>\n",
       "      <td>SIM</td>\n",
       "    </tr>\n",
       "    <tr>\n",
       "      <th>2</th>\n",
       "      <td>08/04/2021</td>\n",
       "      <td>11:38:25</td>\n",
       "      <td>2014</td>\n",
       "      <td>2</td>\n",
       "      <td>ELEIÇÃO ORDINÁRIA</td>\n",
       "      <td>1</td>\n",
       "      <td>143</td>\n",
       "      <td>Eleições Gerais 2014</td>\n",
       "      <td>05/10/2014</td>\n",
       "      <td>FEDERAL</td>\n",
       "      <td>...</td>\n",
       "      <td>SUPLENTE</td>\n",
       "      <td>N</td>\n",
       "      <td>S</td>\n",
       "      <td>54682014</td>\n",
       "      <td>3757720146010000</td>\n",
       "      <td>2</td>\n",
       "      <td>DEFERIDO</td>\n",
       "      <td>2</td>\n",
       "      <td>DEFERIDO</td>\n",
       "      <td>SIM</td>\n",
       "    </tr>\n",
       "    <tr>\n",
       "      <th>3</th>\n",
       "      <td>08/04/2021</td>\n",
       "      <td>11:38:25</td>\n",
       "      <td>2014</td>\n",
       "      <td>2</td>\n",
       "      <td>ELEIÇÃO ORDINÁRIA</td>\n",
       "      <td>1</td>\n",
       "      <td>143</td>\n",
       "      <td>Eleições Gerais 2014</td>\n",
       "      <td>05/10/2014</td>\n",
       "      <td>FEDERAL</td>\n",
       "      <td>...</td>\n",
       "      <td>SUPLENTE</td>\n",
       "      <td>N</td>\n",
       "      <td>S</td>\n",
       "      <td>55432014</td>\n",
       "      <td>4501920146010000</td>\n",
       "      <td>2</td>\n",
       "      <td>DEFERIDO</td>\n",
       "      <td>2</td>\n",
       "      <td>DEFERIDO</td>\n",
       "      <td>SIM</td>\n",
       "    </tr>\n",
       "    <tr>\n",
       "      <th>4</th>\n",
       "      <td>08/04/2021</td>\n",
       "      <td>11:38:25</td>\n",
       "      <td>2014</td>\n",
       "      <td>2</td>\n",
       "      <td>ELEIÇÃO ORDINÁRIA</td>\n",
       "      <td>1</td>\n",
       "      <td>143</td>\n",
       "      <td>Eleições Gerais 2014</td>\n",
       "      <td>05/10/2014</td>\n",
       "      <td>FEDERAL</td>\n",
       "      <td>...</td>\n",
       "      <td>SUPLENTE</td>\n",
       "      <td>N</td>\n",
       "      <td>N</td>\n",
       "      <td>55672014</td>\n",
       "      <td>4744720146010000</td>\n",
       "      <td>2</td>\n",
       "      <td>DEFERIDO</td>\n",
       "      <td>2</td>\n",
       "      <td>DEFERIDO</td>\n",
       "      <td>SIM</td>\n",
       "    </tr>\n",
       "  </tbody>\n",
       "</table>\n",
       "<p>5 rows × 63 columns</p>\n",
       "</div>"
      ],
      "text/plain": [
       "   DT_GERACAO HH_GERACAO  ANO_ELEICAO  CD_TIPO_ELEICAO    NM_TIPO_ELEICAO  \\\n",
       "0  08/04/2021   11:38:25         2014                2  ELEIÇÃO ORDINÁRIA   \n",
       "1  08/04/2021   11:38:25         2014                2  ELEIÇÃO ORDINÁRIA   \n",
       "2  08/04/2021   11:38:25         2014                2  ELEIÇÃO ORDINÁRIA   \n",
       "3  08/04/2021   11:38:25         2014                2  ELEIÇÃO ORDINÁRIA   \n",
       "4  08/04/2021   11:38:25         2014                2  ELEIÇÃO ORDINÁRIA   \n",
       "\n",
       "   NR_TURNO CD_ELEICAO            DS_ELEICAO  DT_ELEICAO TP_ABRANGENCIA  ...  \\\n",
       "0         1        143  Eleições Gerais 2014  05/10/2014        FEDERAL  ...   \n",
       "1         1        143  Eleições Gerais 2014  05/10/2014        FEDERAL  ...   \n",
       "2         1        143  Eleições Gerais 2014  05/10/2014        FEDERAL  ...   \n",
       "3         1        143  Eleições Gerais 2014  05/10/2014        FEDERAL  ...   \n",
       "4         1        143  Eleições Gerais 2014  05/10/2014        FEDERAL  ...   \n",
       "\n",
       "  DS_SIT_TOT_TURNO ST_REELEICAO ST_DECLARAR_BENS  NR_PROTOCOLO_CANDIDATURA  \\\n",
       "0         SUPLENTE            N                S                  54232014   \n",
       "1         SUPLENTE            N                S                  56222014   \n",
       "2         SUPLENTE            N                S                  54682014   \n",
       "3         SUPLENTE            N                S                  55432014   \n",
       "4         SUPLENTE            N                N                  55672014   \n",
       "\n",
       "        NR_PROCESSO  CD_SITUACAO_CANDIDATO_PLEITO  \\\n",
       "0  3506420146010000                             2   \n",
       "1  5212120146010000                             2   \n",
       "2  3757720146010000                             2   \n",
       "3  4501920146010000                             2   \n",
       "4  4744720146010000                             2   \n",
       "\n",
       "   DS_SITUACAO_CANDIDATO_PLEITO CD_SITUACAO_CANDIDATO_URNA  \\\n",
       "0                      DEFERIDO                          2   \n",
       "1                      DEFERIDO                          2   \n",
       "2                      DEFERIDO                          2   \n",
       "3                      DEFERIDO                          2   \n",
       "4                      DEFERIDO                          2   \n",
       "\n",
       "  DS_SITUACAO_CANDIDATO_URNA ST_CANDIDATO_INSERIDO_URNA  \n",
       "0                   DEFERIDO                        SIM  \n",
       "1                   DEFERIDO                        SIM  \n",
       "2                   DEFERIDO                        SIM  \n",
       "3                   DEFERIDO                        SIM  \n",
       "4                   DEFERIDO                        SIM  \n",
       "\n",
       "[5 rows x 63 columns]"
      ]
     },
     "metadata": {},
     "output_type": "display_data"
    },
    {
     "data": {
      "text/html": [
       "<div>\n",
       "<style scoped>\n",
       "    .dataframe tbody tr th:only-of-type {\n",
       "        vertical-align: middle;\n",
       "    }\n",
       "\n",
       "    .dataframe tbody tr th {\n",
       "        vertical-align: top;\n",
       "    }\n",
       "\n",
       "    .dataframe thead th {\n",
       "        text-align: right;\n",
       "    }\n",
       "</style>\n",
       "<table border=\"1\" class=\"dataframe\">\n",
       "  <thead>\n",
       "    <tr style=\"text-align: right;\">\n",
       "      <th></th>\n",
       "      <th>DT_GERACAO</th>\n",
       "      <th>HH_GERACAO</th>\n",
       "      <th>ANO_ELEICAO</th>\n",
       "      <th>CD_TIPO_ELEICAO</th>\n",
       "      <th>NM_TIPO_ELEICAO</th>\n",
       "      <th>NR_TURNO</th>\n",
       "      <th>CD_ELEICAO</th>\n",
       "      <th>DS_ELEICAO</th>\n",
       "      <th>DT_ELEICAO</th>\n",
       "      <th>TP_ABRANGENCIA</th>\n",
       "      <th>...</th>\n",
       "      <th>DS_SIT_TOT_TURNO</th>\n",
       "      <th>ST_REELEICAO</th>\n",
       "      <th>ST_DECLARAR_BENS</th>\n",
       "      <th>NR_PROTOCOLO_CANDIDATURA</th>\n",
       "      <th>NR_PROCESSO</th>\n",
       "      <th>CD_SITUACAO_CANDIDATO_PLEITO</th>\n",
       "      <th>DS_SITUACAO_CANDIDATO_PLEITO</th>\n",
       "      <th>CD_SITUACAO_CANDIDATO_URNA</th>\n",
       "      <th>DS_SITUACAO_CANDIDATO_URNA</th>\n",
       "      <th>ST_CANDIDATO_INSERIDO_URNA</th>\n",
       "    </tr>\n",
       "  </thead>\n",
       "  <tbody>\n",
       "    <tr>\n",
       "      <th>558003</th>\n",
       "      <td>26/02/2022</td>\n",
       "      <td>07:32:12</td>\n",
       "      <td>2020</td>\n",
       "      <td>2</td>\n",
       "      <td>ELEIÇÃO ORDINÁRIA</td>\n",
       "      <td>1</td>\n",
       "      <td>426</td>\n",
       "      <td>Eleições Municipais 2020</td>\n",
       "      <td>15/11/2020</td>\n",
       "      <td>MUNICIPAL</td>\n",
       "      <td>...</td>\n",
       "      <td>ELEITO POR QP</td>\n",
       "      <td>N</td>\n",
       "      <td>S</td>\n",
       "      <td>-1</td>\n",
       "      <td>06003782920206240033</td>\n",
       "      <td>2</td>\n",
       "      <td>DEFERIDO</td>\n",
       "      <td>2</td>\n",
       "      <td>DEFERIDO</td>\n",
       "      <td>SIM</td>\n",
       "    </tr>\n",
       "    <tr>\n",
       "      <th>558004</th>\n",
       "      <td>26/02/2022</td>\n",
       "      <td>07:32:12</td>\n",
       "      <td>2020</td>\n",
       "      <td>2</td>\n",
       "      <td>ELEIÇÃO ORDINÁRIA</td>\n",
       "      <td>1</td>\n",
       "      <td>426</td>\n",
       "      <td>Eleições Municipais 2020</td>\n",
       "      <td>15/11/2020</td>\n",
       "      <td>MUNICIPAL</td>\n",
       "      <td>...</td>\n",
       "      <td>NÃO ELEITO</td>\n",
       "      <td>N</td>\n",
       "      <td>S</td>\n",
       "      <td>-1</td>\n",
       "      <td>06001765820206260401</td>\n",
       "      <td>2</td>\n",
       "      <td>DEFERIDO</td>\n",
       "      <td>2</td>\n",
       "      <td>DEFERIDO</td>\n",
       "      <td>SIM</td>\n",
       "    </tr>\n",
       "    <tr>\n",
       "      <th>558005</th>\n",
       "      <td>26/02/2022</td>\n",
       "      <td>07:32:12</td>\n",
       "      <td>2020</td>\n",
       "      <td>2</td>\n",
       "      <td>ELEIÇÃO ORDINÁRIA</td>\n",
       "      <td>1</td>\n",
       "      <td>426</td>\n",
       "      <td>Eleições Municipais 2020</td>\n",
       "      <td>15/11/2020</td>\n",
       "      <td>MUNICIPAL</td>\n",
       "      <td>...</td>\n",
       "      <td>ELEITO POR MÉDIA</td>\n",
       "      <td>S</td>\n",
       "      <td>S</td>\n",
       "      <td>-1</td>\n",
       "      <td>06003452920206260083</td>\n",
       "      <td>2</td>\n",
       "      <td>DEFERIDO</td>\n",
       "      <td>2</td>\n",
       "      <td>DEFERIDO</td>\n",
       "      <td>SIM</td>\n",
       "    </tr>\n",
       "    <tr>\n",
       "      <th>558006</th>\n",
       "      <td>26/02/2022</td>\n",
       "      <td>07:32:12</td>\n",
       "      <td>2020</td>\n",
       "      <td>2</td>\n",
       "      <td>ELEIÇÃO ORDINÁRIA</td>\n",
       "      <td>1</td>\n",
       "      <td>426</td>\n",
       "      <td>Eleições Municipais 2020</td>\n",
       "      <td>15/11/2020</td>\n",
       "      <td>MUNICIPAL</td>\n",
       "      <td>...</td>\n",
       "      <td>ELEITO</td>\n",
       "      <td>N</td>\n",
       "      <td>S</td>\n",
       "      <td>-1</td>\n",
       "      <td>06001334120206240090</td>\n",
       "      <td>2</td>\n",
       "      <td>DEFERIDO</td>\n",
       "      <td>2</td>\n",
       "      <td>DEFERIDO</td>\n",
       "      <td>SIM</td>\n",
       "    </tr>\n",
       "    <tr>\n",
       "      <th>558007</th>\n",
       "      <td>26/02/2022</td>\n",
       "      <td>07:32:12</td>\n",
       "      <td>2020</td>\n",
       "      <td>2</td>\n",
       "      <td>ELEIÇÃO ORDINÁRIA</td>\n",
       "      <td>1</td>\n",
       "      <td>426</td>\n",
       "      <td>Eleições Municipais 2020</td>\n",
       "      <td>15/11/2020</td>\n",
       "      <td>MUNICIPAL</td>\n",
       "      <td>...</td>\n",
       "      <td>NÃO ELEITO</td>\n",
       "      <td>N</td>\n",
       "      <td>S</td>\n",
       "      <td>-1</td>\n",
       "      <td>06007268020206260295</td>\n",
       "      <td>2</td>\n",
       "      <td>DEFERIDO</td>\n",
       "      <td>2</td>\n",
       "      <td>DEFERIDO</td>\n",
       "      <td>SIM</td>\n",
       "    </tr>\n",
       "  </tbody>\n",
       "</table>\n",
       "<p>5 rows × 63 columns</p>\n",
       "</div>"
      ],
      "text/plain": [
       "        DT_GERACAO HH_GERACAO  ANO_ELEICAO  CD_TIPO_ELEICAO  \\\n",
       "558003  26/02/2022   07:32:12         2020                2   \n",
       "558004  26/02/2022   07:32:12         2020                2   \n",
       "558005  26/02/2022   07:32:12         2020                2   \n",
       "558006  26/02/2022   07:32:12         2020                2   \n",
       "558007  26/02/2022   07:32:12         2020                2   \n",
       "\n",
       "          NM_TIPO_ELEICAO  NR_TURNO CD_ELEICAO                DS_ELEICAO  \\\n",
       "558003  ELEIÇÃO ORDINÁRIA         1        426  Eleições Municipais 2020   \n",
       "558004  ELEIÇÃO ORDINÁRIA         1        426  Eleições Municipais 2020   \n",
       "558005  ELEIÇÃO ORDINÁRIA         1        426  Eleições Municipais 2020   \n",
       "558006  ELEIÇÃO ORDINÁRIA         1        426  Eleições Municipais 2020   \n",
       "558007  ELEIÇÃO ORDINÁRIA         1        426  Eleições Municipais 2020   \n",
       "\n",
       "        DT_ELEICAO TP_ABRANGENCIA  ...  DS_SIT_TOT_TURNO ST_REELEICAO  \\\n",
       "558003  15/11/2020      MUNICIPAL  ...     ELEITO POR QP            N   \n",
       "558004  15/11/2020      MUNICIPAL  ...        NÃO ELEITO            N   \n",
       "558005  15/11/2020      MUNICIPAL  ...  ELEITO POR MÉDIA            S   \n",
       "558006  15/11/2020      MUNICIPAL  ...            ELEITO            N   \n",
       "558007  15/11/2020      MUNICIPAL  ...        NÃO ELEITO            N   \n",
       "\n",
       "       ST_DECLARAR_BENS  NR_PROTOCOLO_CANDIDATURA           NR_PROCESSO  \\\n",
       "558003                S                        -1  06003782920206240033   \n",
       "558004                S                        -1  06001765820206260401   \n",
       "558005                S                        -1  06003452920206260083   \n",
       "558006                S                        -1  06001334120206240090   \n",
       "558007                S                        -1  06007268020206260295   \n",
       "\n",
       "        CD_SITUACAO_CANDIDATO_PLEITO  DS_SITUACAO_CANDIDATO_PLEITO  \\\n",
       "558003                             2                      DEFERIDO   \n",
       "558004                             2                      DEFERIDO   \n",
       "558005                             2                      DEFERIDO   \n",
       "558006                             2                      DEFERIDO   \n",
       "558007                             2                      DEFERIDO   \n",
       "\n",
       "       CD_SITUACAO_CANDIDATO_URNA DS_SITUACAO_CANDIDATO_URNA  \\\n",
       "558003                          2                   DEFERIDO   \n",
       "558004                          2                   DEFERIDO   \n",
       "558005                          2                   DEFERIDO   \n",
       "558006                          2                   DEFERIDO   \n",
       "558007                          2                   DEFERIDO   \n",
       "\n",
       "       ST_CANDIDATO_INSERIDO_URNA  \n",
       "558003                        SIM  \n",
       "558004                        SIM  \n",
       "558005                        SIM  \n",
       "558006                        SIM  \n",
       "558007                        SIM  \n",
       "\n",
       "[5 rows x 63 columns]"
      ]
     },
     "metadata": {},
     "output_type": "display_data"
    },
    {
     "data": {
      "text/plain": [
       "(1111801, 63)"
      ]
     },
     "execution_count": 11,
     "metadata": {},
     "output_type": "execute_result"
    }
   ],
   "source": [
    "display(data_frame.head())\n",
    "# Imprimindo as últimas linhas\n",
    "display(data_frame.tail())\n",
    "# Informações do nosso DataFrame\n",
    "data_frame.describe()\n",
    "# Dimensões do df_dados\n",
    "data_frame.shape"
   ]
  },
  {
   "cell_type": "code",
   "execution_count": 12,
   "id": "742615ff",
   "metadata": {},
   "outputs": [
    {
     "data": {
      "image/png": "[encoded data removed]",
      "text/plain": [
       "<Figure size 432x288 with 1 Axes>"
      ]
     },
     "metadata": {
      "needs_background": "light"
     },
     "output_type": "display_data"
    },
    {
     "data": {
      "text/plain": [
       "<Figure size 1152x576 with 0 Axes>"
      ]
     },
     "metadata": {},
     "output_type": "display_data"
    }
   ],
   "source": [
    "res = sns.scatterplot(x=data_frame['ANO_ELEICAO'],y=data_frame['DS_CARGO'])\n",
    "fig = plt.figure(figsize=(16,8))\n",
    "plt.show()"
   ]
  },
  {
   "cell_type": "code",
   "execution_count": 13,
   "id": "ac3e8ac3",
   "metadata": {},
   "outputs": [
    {
     "data": {
      "text/plain": [
       "Index(['DT_GERACAO', 'HH_GERACAO', 'ANO_ELEICAO', 'CD_TIPO_ELEICAO',\n",
       "       'NM_TIPO_ELEICAO', 'NR_TURNO', 'CD_ELEICAO', 'DS_ELEICAO', 'DT_ELEICAO',\n",
       "       'TP_ABRANGENCIA', 'SG_UF', 'SG_UE', 'NM_UE', 'CD_CARGO', 'DS_CARGO',\n",
       "       'SQ_CANDIDATO', 'NR_CANDIDATO', 'NM_CANDIDATO', 'NM_URNA_CANDIDATO',\n",
       "       'NM_SOCIAL_CANDIDATO', 'NR_CPF_CANDIDATO', 'NM_EMAIL',\n",
       "       'CD_SITUACAO_CANDIDATURA', 'DS_SITUACAO_CANDIDATURA',\n",
       "       'CD_DETALHE_SITUACAO_CAND', 'DS_DETALHE_SITUACAO_CAND', 'TP_AGREMIACAO',\n",
       "       'NR_PARTIDO', 'SG_PARTIDO', 'NM_PARTIDO', 'SQ_COLIGACAO',\n",
       "       'NM_COLIGACAO', 'DS_COMPOSICAO_COLIGACAO', 'CD_NACIONALIDADE',\n",
       "       'DS_NACIONALIDADE', 'SG_UF_NASCIMENTO', 'CD_MUNICIPIO_NASCIMENTO',\n",
       "       'NM_MUNICIPIO_NASCIMENTO', 'DT_NASCIMENTO', 'NR_IDADE_DATA_POSSE',\n",
       "       'NR_TITULO_ELEITORAL_CANDIDATO', 'CD_GENERO', 'DS_GENERO',\n",
       "       'CD_GRAU_INSTRUCAO', 'DS_GRAU_INSTRUCAO', 'CD_ESTADO_CIVIL',\n",
       "       'DS_ESTADO_CIVIL', 'CD_COR_RACA', 'DS_COR_RACA', 'CD_OCUPACAO',\n",
       "       'DS_OCUPACAO', 'VR_DESPESA_MAX_CAMPANHA', 'CD_SIT_TOT_TURNO',\n",
       "       'DS_SIT_TOT_TURNO', 'ST_REELEICAO', 'ST_DECLARAR_BENS',\n",
       "       'NR_PROTOCOLO_CANDIDATURA', 'NR_PROCESSO',\n",
       "       'CD_SITUACAO_CANDIDATO_PLEITO', 'DS_SITUACAO_CANDIDATO_PLEITO',\n",
       "       'CD_SITUACAO_CANDIDATO_URNA', 'DS_SITUACAO_CANDIDATO_URNA',\n",
       "       'ST_CANDIDATO_INSERIDO_URNA'],\n",
       "      dtype='object')"
      ]
     },
     "execution_count": 13,
     "metadata": {},
     "output_type": "execute_result"
    }
   ],
   "source": [
    "data_frame.columns"
   ]
  },
  {
   "cell_type": "markdown",
   "id": "34daae8a",
   "metadata": {},
   "source": [
    "<b> Matriz de correlação de atributos </b>"
   ]
  },
  {
   "cell_type": "code",
   "execution_count": 14,
   "id": "17292d23",
   "metadata": {},
   "outputs": [
    {
     "data": {
      "text/plain": [
       "Text(-23.500000000000007, 0.5, 'características do núcleo da célula')"
      ]
     },
     "execution_count": 14,
     "metadata": {},
     "output_type": "execute_result"
    },
    {
     "data": {
      "image/png": "[encoded data removed]",
      "text/plain": [
       "<Figure size 576x288 with 2 Axes>"
      ]
     },
     "metadata": {
      "needs_background": "light"
     },
     "output_type": "display_data"
    }
   ],
   "source": [
    "# O corr() método do Pandas DataFrame  é usado para calcular a matriz. \n",
    "# Por padrão, ele calcula o coeficiente de correlação de Pearson\n",
    "correlation_mat = data_frame.corr(method='pearson')\n",
    "# Definindo as configurações do Gráfico\n",
    "fig = plt.figure(figsize=(8,4))\n",
    "eixo = fig.add_axes([0, 0, 1, 1])\n",
    "# Usando o método heatmap para traçar a Matriz\n",
    "# O parâmetro ' annot=True' exibe os valores do coeficiente de correlação em cada célula.\n",
    "sns.heatmap(correlation_mat, annot = True, linewidth=0.5)\n",
    "# Definindo titulo e labels do gráfico\n",
    "eixo.set_title('Matriz de Correlação dos atributos', fontsize=15, pad=20)\n",
    "eixo.set_xlabel (\"características do núcleo da célula\")\n",
    "eixo.set_ylabel (\"características do núcleo da célula\")"
   ]
  },
  {
   "cell_type": "markdown",
   "id": "b579a1cf",
   "metadata": {},
   "source": [
    "<b> 2 - Dados Cassação </b>"
   ]
  },
  {
   "cell_type": "code",
   "execution_count": 15,
   "id": "0bd4c708",
   "metadata": {},
   "outputs": [
    {
     "name": "stdout",
     "output_type": "stream",
     "text": [
      "Arquivos com extensão csv Cassação:\n",
      "motivo_cassacao_2014_AC.csv\n",
      "motivo_cassacao_2014_AL.csv\n",
      "motivo_cassacao_2014_AM.csv\n",
      "motivo_cassacao_2014_AP.csv\n",
      "motivo_cassacao_2014_BA.csv\n",
      "motivo_cassacao_2014_BR.csv\n",
      "motivo_cassacao_2014_BRASIL.csv\n",
      "motivo_cassacao_2014_CE.csv\n",
      "motivo_cassacao_2014_DF.csv\n",
      "motivo_cassacao_2014_ES.csv\n",
      "motivo_cassacao_2014_GO.csv\n",
      "motivo_cassacao_2014_MA.csv\n",
      "motivo_cassacao_2014_MG.csv\n",
      "motivo_cassacao_2014_MS.csv\n",
      "motivo_cassacao_2014_MT.csv\n",
      "motivo_cassacao_2014_PA.csv\n",
      "motivo_cassacao_2014_PB.csv\n",
      "motivo_cassacao_2014_PE.csv\n",
      "motivo_cassacao_2014_PI.csv\n",
      "motivo_cassacao_2014_PR.csv\n",
      "motivo_cassacao_2014_RJ.csv\n",
      "motivo_cassacao_2014_RN.csv\n",
      "motivo_cassacao_2014_RO.csv\n",
      "motivo_cassacao_2014_RR.csv\n",
      "motivo_cassacao_2014_RS.csv\n",
      "motivo_cassacao_2014_SC.csv\n",
      "motivo_cassacao_2014_SE.csv\n",
      "motivo_cassacao_2014_SP.csv\n",
      "motivo_cassacao_2014_TO.csv\n",
      "motivo_cassacao_2016_AC.csv\n",
      "motivo_cassacao_2016_AL.csv\n",
      "motivo_cassacao_2016_AM.csv\n",
      "motivo_cassacao_2016_AP.csv\n",
      "motivo_cassacao_2016_BA.csv\n",
      "motivo_cassacao_2016_BRASIL.csv\n",
      "motivo_cassacao_2016_CE.csv\n",
      "motivo_cassacao_2016_ES.csv\n",
      "motivo_cassacao_2016_GO.csv\n",
      "motivo_cassacao_2016_MA.csv\n",
      "motivo_cassacao_2016_MG.csv\n",
      "motivo_cassacao_2016_MS.csv\n",
      "motivo_cassacao_2016_MT.csv\n",
      "motivo_cassacao_2016_PA.csv\n",
      "motivo_cassacao_2016_PB.csv\n",
      "motivo_cassacao_2016_PE.csv\n",
      "motivo_cassacao_2016_PI.csv\n",
      "motivo_cassacao_2016_PR.csv\n",
      "motivo_cassacao_2016_RJ.csv\n",
      "motivo_cassacao_2016_RN.csv\n",
      "motivo_cassacao_2016_RO.csv\n",
      "motivo_cassacao_2016_RR.csv\n",
      "motivo_cassacao_2016_RS.csv\n",
      "motivo_cassacao_2016_SC.csv\n",
      "motivo_cassacao_2016_SE.csv\n",
      "motivo_cassacao_2016_SP.csv\n",
      "motivo_cassacao_2016_TO.csv\n",
      "motivo_cassacao_2018_AC.csv\n",
      "motivo_cassacao_2018_AL.csv\n",
      "motivo_cassacao_2018_AM.csv\n",
      "motivo_cassacao_2018_AP.csv\n",
      "motivo_cassacao_2018_BA.csv\n",
      "motivo_cassacao_2018_BR.csv\n",
      "motivo_cassacao_2018_BRASIL.csv\n",
      "motivo_cassacao_2018_CE.csv\n",
      "motivo_cassacao_2018_DF.csv\n",
      "motivo_cassacao_2018_ES.csv\n",
      "motivo_cassacao_2018_GO.csv\n",
      "motivo_cassacao_2018_MA.csv\n",
      "motivo_cassacao_2018_MG.csv\n",
      "motivo_cassacao_2018_MS.csv\n",
      "motivo_cassacao_2018_MT.csv\n",
      "motivo_cassacao_2018_PA.csv\n",
      "motivo_cassacao_2018_PB.csv\n",
      "motivo_cassacao_2018_PE.csv\n",
      "motivo_cassacao_2018_PI.csv\n",
      "motivo_cassacao_2018_PR.csv\n",
      "motivo_cassacao_2018_RJ.csv\n",
      "motivo_cassacao_2018_RN.csv\n",
      "motivo_cassacao_2018_RO.csv\n",
      "motivo_cassacao_2018_RR.csv\n",
      "motivo_cassacao_2018_RS.csv\n",
      "motivo_cassacao_2018_SC.csv\n",
      "motivo_cassacao_2018_SE.csv\n",
      "motivo_cassacao_2018_SP.csv\n",
      "motivo_cassacao_2018_TO.csv\n",
      "motivo_cassacao_2020_AC.csv\n",
      "motivo_cassacao_2020_AL.csv\n",
      "motivo_cassacao_2020_AM.csv\n",
      "motivo_cassacao_2020_AP.csv\n",
      "motivo_cassacao_2020_BA.csv\n",
      "motivo_cassacao_2020_BRASIL.csv\n",
      "motivo_cassacao_2020_CE.csv\n",
      "motivo_cassacao_2020_ES.csv\n",
      "motivo_cassacao_2020_GO.csv\n",
      "motivo_cassacao_2020_MA.csv\n",
      "motivo_cassacao_2020_MG.csv\n",
      "motivo_cassacao_2020_MS.csv\n",
      "motivo_cassacao_2020_MT.csv\n",
      "motivo_cassacao_2020_PA.csv\n",
      "motivo_cassacao_2020_PB.csv\n",
      "motivo_cassacao_2020_PE.csv\n",
      "motivo_cassacao_2020_PI.csv\n",
      "motivo_cassacao_2020_PR.csv\n",
      "motivo_cassacao_2020_RJ.csv\n",
      "motivo_cassacao_2020_RN.csv\n",
      "motivo_cassacao_2020_RO.csv\n",
      "motivo_cassacao_2020_RR.csv\n",
      "motivo_cassacao_2020_RS.csv\n",
      "motivo_cassacao_2020_SC.csv\n",
      "motivo_cassacao_2020_SE.csv\n",
      "motivo_cassacao_2020_SP.csv\n",
      "motivo_cassacao_2020_TO.csv\n"
     ]
    }
   ],
   "source": [
    "print('Arquivos com extensão csv Cassação:')\n",
    "concatenar = []\n",
    "with os.scandir(dirCandidatoCassacaoAnalise) as arqs:\n",
    "    for arq in arqs:\n",
    "        if arq.is_file() and  arq.name.endswith('.csv'):\n",
    "             print(arq.name)\n",
    "    path = dirCandidatoCassacaoAnalise\n",
    "    # csv files in the path\n",
    "    files = glob.glob(path + \"/*.csv\")\n",
    "    # defining an empty list to store \n",
    "    # content\n",
    "    data_frame_cassacao = pd.DataFrame()\n",
    "    content_situacao = []\n",
    "    # checking all the csv files in the \n",
    "    # specified path\n",
    "    for filename in files:\n",
    "        dfs = pd.read_csv(filename, encoding = \"Latin 1\", sep= \";\", decimal = ',', error_bad_lines=False, dtype={\"SQ_CANDIDATO\": int, \"ANO_ELEICAO\": int})\n",
    "        content_situacao.append(dfs)\n",
    "    # converting content to data frame\n",
    "    data_frame_cassacao = pd.concat(content_situacao).drop_duplicates()"
   ]
  },
  {
   "cell_type": "code",
   "execution_count": 16,
   "id": "0d6f7a39",
   "metadata": {},
   "outputs": [
    {
     "data": {
      "text/html": [
       "<div>\n",
       "<style scoped>\n",
       "    .dataframe tbody tr th:only-of-type {\n",
       "        vertical-align: middle;\n",
       "    }\n",
       "\n",
       "    .dataframe tbody tr th {\n",
       "        vertical-align: top;\n",
       "    }\n",
       "\n",
       "    .dataframe thead th {\n",
       "        text-align: right;\n",
       "    }\n",
       "</style>\n",
       "<table border=\"1\" class=\"dataframe\">\n",
       "  <thead>\n",
       "    <tr style=\"text-align: right;\">\n",
       "      <th></th>\n",
       "      <th>Coluna</th>\n",
       "      <th>Dados ausentes</th>\n",
       "      <th>Porcentagem</th>\n",
       "    </tr>\n",
       "  </thead>\n",
       "  <tbody>\n",
       "    <tr>\n",
       "      <th>DT_GERACAO</th>\n",
       "      <td>DT_GERACAO</td>\n",
       "      <td>0</td>\n",
       "      <td>0.0</td>\n",
       "    </tr>\n",
       "    <tr>\n",
       "      <th>HH_GERACAO</th>\n",
       "      <td>HH_GERACAO</td>\n",
       "      <td>0</td>\n",
       "      <td>0.0</td>\n",
       "    </tr>\n",
       "    <tr>\n",
       "      <th>ANO_ELEICAO</th>\n",
       "      <td>ANO_ELEICAO</td>\n",
       "      <td>0</td>\n",
       "      <td>0.0</td>\n",
       "    </tr>\n",
       "    <tr>\n",
       "      <th>CD_TIPO_ELEICAO</th>\n",
       "      <td>CD_TIPO_ELEICAO</td>\n",
       "      <td>0</td>\n",
       "      <td>0.0</td>\n",
       "    </tr>\n",
       "    <tr>\n",
       "      <th>NM_TIPO_ELEICAO</th>\n",
       "      <td>NM_TIPO_ELEICAO</td>\n",
       "      <td>0</td>\n",
       "      <td>0.0</td>\n",
       "    </tr>\n",
       "    <tr>\n",
       "      <th>CD_ELEICAO</th>\n",
       "      <td>CD_ELEICAO</td>\n",
       "      <td>0</td>\n",
       "      <td>0.0</td>\n",
       "    </tr>\n",
       "    <tr>\n",
       "      <th>DS_ELEICAO</th>\n",
       "      <td>DS_ELEICAO</td>\n",
       "      <td>0</td>\n",
       "      <td>0.0</td>\n",
       "    </tr>\n",
       "    <tr>\n",
       "      <th>SG_UF</th>\n",
       "      <td>SG_UF</td>\n",
       "      <td>0</td>\n",
       "      <td>0.0</td>\n",
       "    </tr>\n",
       "    <tr>\n",
       "      <th>SG_UE</th>\n",
       "      <td>SG_UE</td>\n",
       "      <td>0</td>\n",
       "      <td>0.0</td>\n",
       "    </tr>\n",
       "    <tr>\n",
       "      <th>NM_UE</th>\n",
       "      <td>NM_UE</td>\n",
       "      <td>0</td>\n",
       "      <td>0.0</td>\n",
       "    </tr>\n",
       "    <tr>\n",
       "      <th>SQ_CANDIDATO</th>\n",
       "      <td>SQ_CANDIDATO</td>\n",
       "      <td>0</td>\n",
       "      <td>0.0</td>\n",
       "    </tr>\n",
       "    <tr>\n",
       "      <th>DS_MOTIVO_CASSACAO</th>\n",
       "      <td>DS_MOTIVO_CASSACAO</td>\n",
       "      <td>0</td>\n",
       "      <td>0.0</td>\n",
       "    </tr>\n",
       "  </tbody>\n",
       "</table>\n",
       "</div>"
      ],
      "text/plain": [
       "                                Coluna  Dados ausentes  Porcentagem\n",
       "DT_GERACAO                  DT_GERACAO               0          0.0\n",
       "HH_GERACAO                  HH_GERACAO               0          0.0\n",
       "ANO_ELEICAO                ANO_ELEICAO               0          0.0\n",
       "CD_TIPO_ELEICAO        CD_TIPO_ELEICAO               0          0.0\n",
       "NM_TIPO_ELEICAO        NM_TIPO_ELEICAO               0          0.0\n",
       "CD_ELEICAO                  CD_ELEICAO               0          0.0\n",
       "DS_ELEICAO                  DS_ELEICAO               0          0.0\n",
       "SG_UF                            SG_UF               0          0.0\n",
       "SG_UE                            SG_UE               0          0.0\n",
       "NM_UE                            NM_UE               0          0.0\n",
       "SQ_CANDIDATO              SQ_CANDIDATO               0          0.0\n",
       "DS_MOTIVO_CASSACAO  DS_MOTIVO_CASSACAO               0          0.0"
      ]
     },
     "execution_count": 16,
     "metadata": {},
     "output_type": "execute_result"
    }
   ],
   "source": [
    "#Calcula o total e a % de valores ausentes\n",
    "num_ausentes = data_frame_cassacao.isna().sum()\n",
    "porc_ausentes = data_frame_cassacao.isna().sum() * 100 / len(data_frame_cassacao)\n",
    "df_ausentes = pd.DataFrame({\n",
    "    'Coluna': data_frame_cassacao.columns,\n",
    "    'Dados ausentes': num_ausentes,\n",
    "    'Porcentagem': porc_ausentes\n",
    "})\n",
    "df_ausentes"
   ]
  },
  {
   "cell_type": "code",
   "execution_count": 17,
   "id": "f8d5eb76",
   "metadata": {},
   "outputs": [
    {
     "data": {
      "text/html": [
       "<div>\n",
       "<style scoped>\n",
       "    .dataframe tbody tr th:only-of-type {\n",
       "        vertical-align: middle;\n",
       "    }\n",
       "\n",
       "    .dataframe tbody tr th {\n",
       "        vertical-align: top;\n",
       "    }\n",
       "\n",
       "    .dataframe thead th {\n",
       "        text-align: right;\n",
       "    }\n",
       "</style>\n",
       "<table border=\"1\" class=\"dataframe\">\n",
       "  <thead>\n",
       "    <tr style=\"text-align: right;\">\n",
       "      <th></th>\n",
       "      <th>DT_GERACAO</th>\n",
       "      <th>HH_GERACAO</th>\n",
       "      <th>ANO_ELEICAO</th>\n",
       "      <th>CD_TIPO_ELEICAO</th>\n",
       "      <th>NM_TIPO_ELEICAO</th>\n",
       "      <th>CD_ELEICAO</th>\n",
       "      <th>DS_ELEICAO</th>\n",
       "      <th>SG_UF</th>\n",
       "      <th>SG_UE</th>\n",
       "      <th>NM_UE</th>\n",
       "      <th>SQ_CANDIDATO</th>\n",
       "      <th>DS_MOTIVO_CASSACAO</th>\n",
       "    </tr>\n",
       "  </thead>\n",
       "  <tbody>\n",
       "    <tr>\n",
       "      <th>0</th>\n",
       "      <td>05/04/2021</td>\n",
       "      <td>18:39:43</td>\n",
       "      <td>2014</td>\n",
       "      <td>1</td>\n",
       "      <td>Eleição Suplementar</td>\n",
       "      <td>268</td>\n",
       "      <td>Eleição Suplementar Governador AM</td>\n",
       "      <td>AM</td>\n",
       "      <td>AM</td>\n",
       "      <td>AMAZONAS</td>\n",
       "      <td>1345306401</td>\n",
       "      <td>Ausência de requisito de registro</td>\n",
       "    </tr>\n",
       "    <tr>\n",
       "      <th>1</th>\n",
       "      <td>05/04/2021</td>\n",
       "      <td>18:39:43</td>\n",
       "      <td>2014</td>\n",
       "      <td>1</td>\n",
       "      <td>Eleição Suplementar</td>\n",
       "      <td>268</td>\n",
       "      <td>Eleição Suplementar Governador AM</td>\n",
       "      <td>AM</td>\n",
       "      <td>AM</td>\n",
       "      <td>AMAZONAS</td>\n",
       "      <td>1345306408</td>\n",
       "      <td>Ficha limpa (LC 64/90)</td>\n",
       "    </tr>\n",
       "    <tr>\n",
       "      <th>1</th>\n",
       "      <td>05/04/2021</td>\n",
       "      <td>18:39:43</td>\n",
       "      <td>2014</td>\n",
       "      <td>1</td>\n",
       "      <td>Eleição Suplementar</td>\n",
       "      <td>304</td>\n",
       "      <td>Eleição Suplementar Governador - TO</td>\n",
       "      <td>TO</td>\n",
       "      <td>TO</td>\n",
       "      <td>TOCANTINS</td>\n",
       "      <td>-582929209</td>\n",
       "      <td>Ausência de requisito de registro</td>\n",
       "    </tr>\n",
       "    <tr>\n",
       "      <th>2</th>\n",
       "      <td>05/04/2021</td>\n",
       "      <td>18:39:43</td>\n",
       "      <td>2014</td>\n",
       "      <td>1</td>\n",
       "      <td>Eleição Suplementar</td>\n",
       "      <td>304</td>\n",
       "      <td>Eleição Suplementar Governador - TO</td>\n",
       "      <td>TO</td>\n",
       "      <td>TO</td>\n",
       "      <td>TOCANTINS</td>\n",
       "      <td>-582929208</td>\n",
       "      <td>Ausência de requisito de registro</td>\n",
       "    </tr>\n",
       "    <tr>\n",
       "      <th>3</th>\n",
       "      <td>05/04/2021</td>\n",
       "      <td>18:39:43</td>\n",
       "      <td>2014</td>\n",
       "      <td>1</td>\n",
       "      <td>Eleição Suplementar</td>\n",
       "      <td>304</td>\n",
       "      <td>Eleição Suplementar Governador - TO</td>\n",
       "      <td>TO</td>\n",
       "      <td>TO</td>\n",
       "      <td>TOCANTINS</td>\n",
       "      <td>-582929203</td>\n",
       "      <td>Ausência de requisito de registro</td>\n",
       "    </tr>\n",
       "  </tbody>\n",
       "</table>\n",
       "</div>"
      ],
      "text/plain": [
       "   DT_GERACAO HH_GERACAO  ANO_ELEICAO CD_TIPO_ELEICAO      NM_TIPO_ELEICAO  \\\n",
       "0  05/04/2021   18:39:43         2014               1  Eleição Suplementar   \n",
       "1  05/04/2021   18:39:43         2014               1  Eleição Suplementar   \n",
       "1  05/04/2021   18:39:43         2014               1  Eleição Suplementar   \n",
       "2  05/04/2021   18:39:43         2014               1  Eleição Suplementar   \n",
       "3  05/04/2021   18:39:43         2014               1  Eleição Suplementar   \n",
       "\n",
       "  CD_ELEICAO                           DS_ELEICAO SG_UF SG_UE      NM_UE  \\\n",
       "0        268    Eleição Suplementar Governador AM    AM    AM   AMAZONAS   \n",
       "1        268    Eleição Suplementar Governador AM    AM    AM   AMAZONAS   \n",
       "1        304  Eleição Suplementar Governador - TO    TO    TO  TOCANTINS   \n",
       "2        304  Eleição Suplementar Governador - TO    TO    TO  TOCANTINS   \n",
       "3        304  Eleição Suplementar Governador - TO    TO    TO  TOCANTINS   \n",
       "\n",
       "   SQ_CANDIDATO                  DS_MOTIVO_CASSACAO  \n",
       "0    1345306401  Ausência de requisito de registro   \n",
       "1    1345306408              Ficha limpa (LC 64/90)  \n",
       "1    -582929209  Ausência de requisito de registro   \n",
       "2    -582929208  Ausência de requisito de registro   \n",
       "3    -582929203  Ausência de requisito de registro   "
      ]
     },
     "metadata": {},
     "output_type": "display_data"
    },
    {
     "data": {
      "text/html": [
       "<div>\n",
       "<style scoped>\n",
       "    .dataframe tbody tr th:only-of-type {\n",
       "        vertical-align: middle;\n",
       "    }\n",
       "\n",
       "    .dataframe tbody tr th {\n",
       "        vertical-align: top;\n",
       "    }\n",
       "\n",
       "    .dataframe thead th {\n",
       "        text-align: right;\n",
       "    }\n",
       "</style>\n",
       "<table border=\"1\" class=\"dataframe\">\n",
       "  <thead>\n",
       "    <tr style=\"text-align: right;\">\n",
       "      <th></th>\n",
       "      <th>DT_GERACAO</th>\n",
       "      <th>HH_GERACAO</th>\n",
       "      <th>ANO_ELEICAO</th>\n",
       "      <th>CD_TIPO_ELEICAO</th>\n",
       "      <th>NM_TIPO_ELEICAO</th>\n",
       "      <th>CD_ELEICAO</th>\n",
       "      <th>DS_ELEICAO</th>\n",
       "      <th>SG_UF</th>\n",
       "      <th>SG_UE</th>\n",
       "      <th>NM_UE</th>\n",
       "      <th>SQ_CANDIDATO</th>\n",
       "      <th>DS_MOTIVO_CASSACAO</th>\n",
       "    </tr>\n",
       "  </thead>\n",
       "  <tbody>\n",
       "    <tr>\n",
       "      <th>18143</th>\n",
       "      <td>26/02/2022</td>\n",
       "      <td>07:40:13</td>\n",
       "      <td>2020</td>\n",
       "      <td>2</td>\n",
       "      <td>Eleição Ordinária</td>\n",
       "      <td>426</td>\n",
       "      <td>Eleições Municipais 2020</td>\n",
       "      <td>MG</td>\n",
       "      <td>46094</td>\n",
       "      <td>ILICÍNEA</td>\n",
       "      <td>1152245766</td>\n",
       "      <td>Ausência de requisito de registro</td>\n",
       "    </tr>\n",
       "    <tr>\n",
       "      <th>18145</th>\n",
       "      <td>26/02/2022</td>\n",
       "      <td>07:40:13</td>\n",
       "      <td>2020</td>\n",
       "      <td>2</td>\n",
       "      <td>Eleição Ordinária</td>\n",
       "      <td>426</td>\n",
       "      <td>Eleições Municipais 2020</td>\n",
       "      <td>SP</td>\n",
       "      <td>62359</td>\n",
       "      <td>BOCAINA</td>\n",
       "      <td>892716418</td>\n",
       "      <td>Ausência de requisito de registro</td>\n",
       "    </tr>\n",
       "    <tr>\n",
       "      <th>18146</th>\n",
       "      <td>26/02/2022</td>\n",
       "      <td>07:40:13</td>\n",
       "      <td>2020</td>\n",
       "      <td>2</td>\n",
       "      <td>Eleição Ordinária</td>\n",
       "      <td>426</td>\n",
       "      <td>Eleições Municipais 2020</td>\n",
       "      <td>PA</td>\n",
       "      <td>4332</td>\n",
       "      <td>BRAGANÇA</td>\n",
       "      <td>-1732656223</td>\n",
       "      <td>Indeferimento de partido ou coligação.</td>\n",
       "    </tr>\n",
       "    <tr>\n",
       "      <th>18147</th>\n",
       "      <td>26/02/2022</td>\n",
       "      <td>07:40:13</td>\n",
       "      <td>2020</td>\n",
       "      <td>2</td>\n",
       "      <td>Eleição Ordinária</td>\n",
       "      <td>426</td>\n",
       "      <td>Eleições Municipais 2020</td>\n",
       "      <td>ES</td>\n",
       "      <td>56308</td>\n",
       "      <td>GOVERNADOR LINDENBERG</td>\n",
       "      <td>-1603432016</td>\n",
       "      <td>Ausência de requisito de registro</td>\n",
       "    </tr>\n",
       "    <tr>\n",
       "      <th>18148</th>\n",
       "      <td>26/02/2022</td>\n",
       "      <td>07:40:13</td>\n",
       "      <td>2020</td>\n",
       "      <td>2</td>\n",
       "      <td>Eleição Ordinária</td>\n",
       "      <td>426</td>\n",
       "      <td>Eleições Municipais 2020</td>\n",
       "      <td>SP</td>\n",
       "      <td>68535</td>\n",
       "      <td>PERUÍBE</td>\n",
       "      <td>892821909</td>\n",
       "      <td>Ficha limpa (LC 64/90)</td>\n",
       "    </tr>\n",
       "  </tbody>\n",
       "</table>\n",
       "</div>"
      ],
      "text/plain": [
       "       DT_GERACAO HH_GERACAO  ANO_ELEICAO CD_TIPO_ELEICAO    NM_TIPO_ELEICAO  \\\n",
       "18143  26/02/2022   07:40:13         2020               2  Eleição Ordinária   \n",
       "18145  26/02/2022   07:40:13         2020               2  Eleição Ordinária   \n",
       "18146  26/02/2022   07:40:13         2020               2  Eleição Ordinária   \n",
       "18147  26/02/2022   07:40:13         2020               2  Eleição Ordinária   \n",
       "18148  26/02/2022   07:40:13         2020               2  Eleição Ordinária   \n",
       "\n",
       "      CD_ELEICAO                DS_ELEICAO SG_UF  SG_UE  \\\n",
       "18143        426  Eleições Municipais 2020    MG  46094   \n",
       "18145        426  Eleições Municipais 2020    SP  62359   \n",
       "18146        426  Eleições Municipais 2020    PA   4332   \n",
       "18147        426  Eleições Municipais 2020    ES  56308   \n",
       "18148        426  Eleições Municipais 2020    SP  68535   \n",
       "\n",
       "                       NM_UE  SQ_CANDIDATO  \\\n",
       "18143               ILICÍNEA    1152245766   \n",
       "18145                BOCAINA     892716418   \n",
       "18146               BRAGANÇA   -1732656223   \n",
       "18147  GOVERNADOR LINDENBERG   -1603432016   \n",
       "18148                PERUÍBE     892821909   \n",
       "\n",
       "                           DS_MOTIVO_CASSACAO  \n",
       "18143      Ausência de requisito de registro   \n",
       "18145      Ausência de requisito de registro   \n",
       "18146  Indeferimento de partido ou coligação.  \n",
       "18147      Ausência de requisito de registro   \n",
       "18148                  Ficha limpa (LC 64/90)  "
      ]
     },
     "metadata": {},
     "output_type": "display_data"
    },
    {
     "data": {
      "text/plain": [
       "(39925, 12)"
      ]
     },
     "execution_count": 17,
     "metadata": {},
     "output_type": "execute_result"
    }
   ],
   "source": [
    "display(data_frame_cassacao.head())\n",
    "# Imprimindo as últimas linhas\n",
    "display(data_frame_cassacao.tail())\n",
    "# Informações do nosso DataFrame\n",
    "data_frame_cassacao.describe()\n",
    "# Dimensões do df_dados\n",
    "data_frame_cassacao.shape"
   ]
  },
  {
   "cell_type": "code",
   "execution_count": 18,
   "id": "479c13d0",
   "metadata": {},
   "outputs": [
    {
     "data": {
      "text/plain": [
       "Index(['DT_GERACAO', 'HH_GERACAO', 'ANO_ELEICAO', 'CD_TIPO_ELEICAO',\n",
       "       'NM_TIPO_ELEICAO', 'CD_ELEICAO', 'DS_ELEICAO', 'SG_UF', 'SG_UE',\n",
       "       'NM_UE', 'SQ_CANDIDATO', 'DS_MOTIVO_CASSACAO'],\n",
       "      dtype='object')"
      ]
     },
     "execution_count": 18,
     "metadata": {},
     "output_type": "execute_result"
    }
   ],
   "source": [
    "data_frame_cassacao.columns"
   ]
  },
  {
   "cell_type": "markdown",
   "id": "fd549823",
   "metadata": {},
   "source": [
    "<b> Dados dos Bens do Candidatos </b>"
   ]
  },
  {
   "cell_type": "code",
   "execution_count": null,
   "id": "77b57a59",
   "metadata": {},
   "outputs": [
    {
     "name": "stdout",
     "output_type": "stream",
     "text": [
      "Arquivos com extensão csv Bens:\n",
      "bem_candidato_2014_AC.csv\n",
      "bem_candidato_2014_AL.csv\n",
      "bem_candidato_2014_AM.csv\n",
      "bem_candidato_2014_AP.csv\n",
      "bem_candidato_2014_BA.csv\n",
      "bem_candidato_2014_BR.csv\n",
      "bem_candidato_2014_BRASIL.csv\n",
      "bem_candidato_2014_CE.csv\n",
      "bem_candidato_2014_DF.csv\n",
      "bem_candidato_2014_ES.csv\n",
      "bem_candidato_2014_GO.csv\n",
      "bem_candidato_2014_MA.csv\n",
      "bem_candidato_2014_MG.csv\n",
      "bem_candidato_2014_MS.csv\n",
      "bem_candidato_2014_MT.csv\n",
      "bem_candidato_2014_PA.csv\n",
      "bem_candidato_2014_PB.csv\n",
      "bem_candidato_2014_PE.csv\n",
      "bem_candidato_2014_PI.csv\n",
      "bem_candidato_2014_PR.csv\n",
      "bem_candidato_2014_RJ.csv\n",
      "bem_candidato_2014_RN.csv\n",
      "bem_candidato_2014_RO.csv\n",
      "bem_candidato_2014_RR.csv\n",
      "bem_candidato_2014_RS.csv\n",
      "bem_candidato_2014_SC.csv\n",
      "bem_candidato_2014_SE.csv\n",
      "bem_candidato_2014_SP.csv\n",
      "bem_candidato_2014_TO.csv\n",
      "bem_candidato_2016_AC.csv\n",
      "bem_candidato_2016_AL.csv\n",
      "bem_candidato_2016_AM.csv\n",
      "bem_candidato_2016_AP.csv\n",
      "bem_candidato_2016_BA.csv\n",
      "bem_candidato_2016_BRASIL.csv\n",
      "bem_candidato_2016_CE.csv\n",
      "bem_candidato_2016_ES.csv\n",
      "bem_candidato_2016_GO.csv\n",
      "bem_candidato_2016_MA.csv\n",
      "bem_candidato_2016_MG.csv\n",
      "bem_candidato_2016_MS.csv\n",
      "bem_candidato_2016_MT.csv\n",
      "bem_candidato_2016_PA.csv\n",
      "bem_candidato_2016_PB.csv\n",
      "bem_candidato_2016_PE.csv\n",
      "bem_candidato_2016_PI.csv\n",
      "bem_candidato_2016_PR.csv\n",
      "bem_candidato_2016_RJ.csv\n",
      "bem_candidato_2016_RN.csv\n",
      "bem_candidato_2016_RO.csv\n",
      "bem_candidato_2016_RR.csv\n",
      "bem_candidato_2016_RS.csv\n",
      "bem_candidato_2016_SC.csv\n",
      "bem_candidato_2016_SE.csv\n",
      "bem_candidato_2016_SP.csv\n",
      "bem_candidato_2016_TO.csv\n",
      "bem_candidato_2018_AC.csv\n",
      "bem_candidato_2018_AL.csv\n",
      "bem_candidato_2018_AM.csv\n",
      "bem_candidato_2018_AP.csv\n",
      "bem_candidato_2018_BA.csv\n",
      "bem_candidato_2018_BR.csv\n",
      "bem_candidato_2018_BRASIL.csv\n",
      "bem_candidato_2018_CE.csv\n",
      "bem_candidato_2018_DF.csv\n",
      "bem_candidato_2018_ES.csv\n",
      "bem_candidato_2018_GO.csv\n",
      "bem_candidato_2018_MA.csv\n",
      "bem_candidato_2018_MG.csv\n",
      "bem_candidato_2018_MS.csv\n",
      "bem_candidato_2018_MT.csv\n",
      "bem_candidato_2018_PA.csv\n",
      "bem_candidato_2018_PB.csv\n",
      "bem_candidato_2018_PE.csv\n",
      "bem_candidato_2018_PI.csv\n",
      "bem_candidato_2018_PR.csv\n",
      "bem_candidato_2018_RJ.csv\n",
      "bem_candidato_2018_RN.csv\n",
      "bem_candidato_2018_RO.csv\n",
      "bem_candidato_2018_RR.csv\n",
      "bem_candidato_2018_RS.csv\n",
      "bem_candidato_2018_SC.csv\n",
      "bem_candidato_2018_SE.csv\n",
      "bem_candidato_2018_SP.csv\n",
      "bem_candidato_2018_TO.csv\n",
      "bem_candidato_2020_AC.csv\n",
      "bem_candidato_2020_AL.csv\n",
      "bem_candidato_2020_AM.csv\n",
      "bem_candidato_2020_AP.csv\n",
      "bem_candidato_2020_BA.csv\n",
      "bem_candidato_2020_BRASIL.csv\n",
      "bem_candidato_2020_CE.csv\n",
      "bem_candidato_2020_ES.csv\n",
      "bem_candidato_2020_GO.csv\n",
      "bem_candidato_2020_MA.csv\n",
      "bem_candidato_2020_MG.csv\n",
      "bem_candidato_2020_MS.csv\n",
      "bem_candidato_2020_MT.csv\n",
      "bem_candidato_2020_PA.csv\n",
      "bem_candidato_2020_PB.csv\n",
      "bem_candidato_2020_PE.csv\n",
      "bem_candidato_2020_PI.csv\n",
      "bem_candidato_2020_PR.csv\n",
      "bem_candidato_2020_RJ.csv\n",
      "bem_candidato_2020_RN.csv\n",
      "bem_candidato_2020_RO.csv\n",
      "bem_candidato_2020_RR.csv\n",
      "bem_candidato_2020_RS.csv\n",
      "bem_candidato_2020_SC.csv\n",
      "bem_candidato_2020_SE.csv\n",
      "bem_candidato_2020_SP.csv\n",
      "bem_candidato_2020_TO.csv\n"
     ]
    }
   ],
   "source": [
    "print('Arquivos com extensão csv Bens:')\n",
    "concatenar = []\n",
    "with os.scandir(dirBemCandidato) as arqs:\n",
    "    for arq in arqs:\n",
    "        if arq.is_file() and  arq.name.endswith('.csv'):\n",
    "             print(arq.name)\n",
    "    path = dirBemCandidato\n",
    "    # csv files in the path\n",
    "    files = glob.glob(path + \"/*.csv\")\n",
    "    # defining an empty list to store \n",
    "    # content\n",
    "    data_frame_bem_candidato = pd.DataFrame()\n",
    "    content_situacao_bem = []\n",
    "    # checking all the csv files in the \n",
    "    # specified path\n",
    "    for filename in files:\n",
    "        dfsb = pd.read_csv(filename, encoding = \"Latin 1\", sep= \";\", decimal = ',', error_bad_lines=False, dtype={\"SQ_CANDIDATO\": int, \"ANO_ELEICAO\": int})\n",
    "        content_situacao_bem.append(dfsb)\n",
    "    # converting content to data frame\n",
    "    data_frame_bem_candidato = pd.concat(content_situacao_bem).drop_duplicates()"
   ]
  },
  {
   "cell_type": "code",
   "execution_count": null,
   "id": "f92f22c6",
   "metadata": {},
   "outputs": [],
   "source": [
    "display(data_frame_bem_candidato.head())\n",
    "# Imprimindo as últimas linhas\n",
    "display(data_frame_bem_candidato.tail())\n",
    "# Informações do nosso DataFrame\n",
    "data_frame_bem_candidato.describe()\n",
    "# Dimensões do df_dados\n",
    "data_frame_bem_candidato.shape\n",
    "data_frame_bem_candidato.describe().round(2).astype(str)"
   ]
  },
  {
   "cell_type": "markdown",
   "id": "3217075f",
   "metadata": {},
   "source": [
    "<b>ANÁLISE DADOS</b>"
   ]
  },
  {
   "cell_type": "markdown",
   "id": "a99174b9",
   "metadata": {},
   "source": [
    "<b> Agrupamento de dados selecionando dados de interesse: </b> Dados do candidato "
   ]
  },
  {
   "cell_type": "code",
   "execution_count": null,
   "id": "67e05482",
   "metadata": {},
   "outputs": [],
   "source": [
    "#removendo dados com todas linhas faltando dados\n",
    "data_frame.dropna(how='all', inplace=True)\n",
    "#descobrindo a idade média\n",
    "mediaIdade = round(data_frame['NR_IDADE_DATA_POSSE'].mean(),0)\n",
    "print(mediaIdade)\n",
    "# Preenchendo a coluna com o valor da média:\n",
    "data_frame.update(data_frame['NR_IDADE_DATA_POSSE'].fillna(mediaIdade))\n",
    "# Dimensões do df_dados\n",
    "data_frame.shape"
   ]
  },
  {
   "cell_type": "code",
   "execution_count": null,
   "id": "23a0c46e",
   "metadata": {},
   "outputs": [],
   "source": [
    "data_frame['NR_IDADE_DATA_POSSE'].describe().astype('int')"
   ]
  },
  {
   "cell_type": "markdown",
   "id": "e40b6cb4",
   "metadata": {},
   "source": []
  },
  {
   "cell_type": "code",
   "execution_count": null,
   "id": "2b1d3ef3",
   "metadata": {},
   "outputs": [],
   "source": [
    "idade_max = data_frame[data_frame['NR_IDADE_DATA_POSSE'] > 104]\n",
    "idade_min = data_frame[data_frame['NR_IDADE_DATA_POSSE'] < 18]"
   ]
  },
  {
   "cell_type": "code",
   "execution_count": null,
   "id": "ea7561a6",
   "metadata": {},
   "outputs": [],
   "source": [
    "#Seleção das colunas de interesse\n",
    "df_ida_max = idade_max[['SQ_CANDIDATO','ANO_ELEICAO','SG_UF','NR_CPF_CANDIDATO','NR_CANDIDATO','NR_IDADE_DATA_POSSE','DT_NASCIMENTO','NM_CANDIDATO','DT_NASCIMENTO','VR_DESPESA_MAX_CAMPANHA']]\n",
    "df_ida_max"
   ]
  },
  {
   "cell_type": "markdown",
   "id": "760c1084",
   "metadata": {},
   "source": [
    "Fonte: Repositório de dados eleitorais ( https://www.tse.jus.br/hotsites/catalogo-publicacoes/pdf/relatorio_eleicoes/relatorio-eleicoes-2014.pdf ) Relatório das Eleições 2014\n",
    "Parte III – Um Olhar Infográfico - 52 considerou idades com Inválidas e sem tratamentos"
   ]
  },
  {
   "cell_type": "markdown",
   "id": "ab165857",
   "metadata": {},
   "source": [
    "<b> Criação de DataSet com dados para tratamento de distorções: </b>"
   ]
  },
  {
   "cell_type": "markdown",
   "id": "e1ad1944",
   "metadata": {},
   "source": [
    "<b> Tratamento dos dados da Idade </b>"
   ]
  },
  {
   "cell_type": "code",
   "execution_count": null,
   "id": "18841b92",
   "metadata": {},
   "outputs": [],
   "source": [
    "#Seleção das colunas de interesse\n",
    "df_ida_min = idade_min[['SQ_CANDIDATO','ANO_ELEICAO','NR_CPF_CANDIDATO','SG_UF','NR_CANDIDATO','NR_IDADE_DATA_POSSE','DT_NASCIMENTO','NM_CANDIDATO','DT_NASCIMENTO']]\n",
    "df_ida_min"
   ]
  },
  {
   "cell_type": "code",
   "execution_count": null,
   "id": "dc7d1cde",
   "metadata": {},
   "outputs": [],
   "source": [
    "print('--------------------------------------')\n",
    "for index, row in df_ida_max.iterrows():\n",
    "    data_frame.at[index , 'NR_IDADE_DATA_POSSE' ] = mediaIdade\n",
    "    print('Id: ' + str(index))\n",
    "    print('Ano: ' + str(row['ANO_ELEICAO']))\n",
    "    print('Candidato: ' + str(row['SQ_CANDIDATO']))\n",
    "    print('CPF: ' + str(row['NR_CPF_CANDIDATO']))    \n",
    "    print('Nome: ' + str(row['NM_CANDIDATO']))\n",
    "    print('Data Nascimento: ' + str(row['DT_NASCIMENTO']))\n",
    "    print('Idade Antiga: ' + str(row['NR_IDADE_DATA_POSSE']))\n",
    "    print('Idade Aualizada: ' + str(mediaIdade))\n",
    "    print('--------------------------------------')"
   ]
  },
  {
   "cell_type": "code",
   "execution_count": null,
   "id": "bb32d802",
   "metadata": {},
   "outputs": [],
   "source": [
    "print('--------------------------------------')\n",
    "for index, row in df_ida_min.iterrows():\n",
    "    data_frame.at[index , 'NR_IDADE_DATA_POSSE' ] = 18\n",
    "    print('Id: ' + str(index))\n",
    "    print('Ano: ' + str(row['ANO_ELEICAO']))\n",
    "    print('Candidato: ' + str(row['SQ_CANDIDATO']))\n",
    "    print('CPF: ' + str(row['NR_CPF_CANDIDATO']))   \n",
    "    print('Nome: ' + str(row['NM_CANDIDATO']))\n",
    "    print('Data Nascimento: ' + str(row['DT_NASCIMENTO']))\n",
    "    print('Idade Antiga: ' + str(row['NR_IDADE_DATA_POSSE']))\n",
    "    print('Idade Atualizada: ' + str('18'))\n",
    "    print('--------------------------------------')"
   ]
  },
  {
   "cell_type": "code",
   "execution_count": null,
   "id": "569d7eef",
   "metadata": {},
   "outputs": [],
   "source": [
    "data_frame[data_frame['NR_IDADE_DATA_POSSE'] > 104]"
   ]
  },
  {
   "cell_type": "code",
   "execution_count": null,
   "id": "34d4f206",
   "metadata": {},
   "outputs": [],
   "source": [
    "data_frame[data_frame['NR_IDADE_DATA_POSSE'] < 18]"
   ]
  },
  {
   "cell_type": "code",
   "execution_count": null,
   "id": "cfbd8751",
   "metadata": {},
   "outputs": [],
   "source": [
    "data_frame['NR_IDADE_DATA_POSSE'].describe().astype('int')"
   ]
  },
  {
   "cell_type": "markdown",
   "id": "85e0f8c9",
   "metadata": {},
   "source": [
    "<b> Agrupamento de dados selecionando dados de interesse: </b>Dados do Cassação "
   ]
  },
  {
   "cell_type": "code",
   "execution_count": null,
   "id": "75b43227",
   "metadata": {},
   "outputs": [],
   "source": [
    "#Seleção das colunas de interesse\n",
    "df_consulta_candidato = data_frame[['SQ_CANDIDATO','ANO_ELEICAO','NR_CPF_CANDIDATO','NR_CANDIDATO', 'NM_CANDIDATO', 'DS_CARGO','NR_PARTIDO','SG_PARTIDO','SG_UF','SG_UE','DS_SIT_TOT_TURNO','NR_IDADE_DATA_POSSE','DS_GENERO', 'DS_GRAU_INSTRUCAO','DS_ESTADO_CIVIL','DS_COR_RACA','DS_SIT_TOT_TURNO','ST_REELEICAO', 'TP_ABRANGENCIA','DS_SIT_TOT_TURNO','ST_REELEICAO','ST_DECLARAR_BENS','CD_GENERO','CD_GRAU_INSTRUCAO','DS_SITUACAO_CANDIDATURA', 'DT_NASCIMENTO', 'VR_DESPESA_MAX_CAMPANHA']]"
   ]
  },
  {
   "cell_type": "code",
   "execution_count": null,
   "id": "5485730a",
   "metadata": {},
   "outputs": [],
   "source": [
    "#Seleção das colunas de interesse\n",
    "df_consulta_cassacao = data_frame_cassacao[['SQ_CANDIDATO','ANO_ELEICAO','DS_MOTIVO_CASSACAO']]\n",
    "display(df_consulta_cassacao.head())\n",
    "# Imprimindo as últimas linhas\n",
    "display(df_consulta_cassacao.tail())\n",
    "# Informações do nosso DataFrame\n",
    "df_consulta_cassacao.describe()"
   ]
  },
  {
   "cell_type": "code",
   "execution_count": null,
   "id": "93a9df51",
   "metadata": {},
   "outputs": [],
   "source": [
    "m_df_candidato_cassacao = pd.merge(df_consulta_candidato, df_consulta_cassacao, on=['SQ_CANDIDATO','ANO_ELEICAO'], how=\"left\")"
   ]
  },
  {
   "cell_type": "code",
   "execution_count": null,
   "id": "def1f723",
   "metadata": {},
   "outputs": [],
   "source": [
    "display(m_df_candidato_cassacao.head())\n",
    "# Imprimindo as últimas linhas\n",
    "display(m_df_candidato_cassacao.tail())\n",
    "# Informações do nosso DataFrame\n",
    "m_df_candidato_cassacao.describe()"
   ]
  },
  {
   "cell_type": "code",
   "execution_count": null,
   "id": "006cfd8d",
   "metadata": {},
   "outputs": [],
   "source": [
    "#Calcula o total e a % de valores ausentes\n",
    "num_ausentes = m_df_candidato_cassacao.isna().sum()\n",
    "porc_ausentes = m_df_candidato_cassacao.isna().sum() * 100 / len(m_df_candidato_cassacao)\n",
    "df_ausentes = pd.DataFrame({\n",
    "    'Coluna': m_df_candidato_cassacao.columns,\n",
    "    'Dados ausentes': num_ausentes,\n",
    "    'Porcentagem': porc_ausentes\n",
    "})\n",
    "df_ausentes"
   ]
  },
  {
   "cell_type": "code",
   "execution_count": null,
   "id": "6a1c2d3b",
   "metadata": {},
   "outputs": [],
   "source": [
    "# Definindo as configurações do Gráfico\n",
    "m_df_candidato_cassacao.hist(color=\"#cf1e4d\", figsize=(12,10))\n",
    "plt.show()"
   ]
  },
  {
   "cell_type": "markdown",
   "id": "d7eb5196",
   "metadata": {},
   "source": [
    "<b> Selecionando alguns dados para análise </b>"
   ]
  },
  {
   "cell_type": "code",
   "execution_count": null,
   "id": "f03aa995",
   "metadata": {},
   "outputs": [],
   "source": [
    "#Seleção das colunas de interesse\n",
    "df_candidato_cassacao = m_df_candidato_cassacao[['SQ_CANDIDATO','ANO_ELEICAO','NR_CPF_CANDIDATO','NR_CANDIDATO', 'NM_CANDIDATO', 'DS_CARGO','NR_PARTIDO','SG_PARTIDO' ,'SG_UF','SG_UE','DS_SIT_TOT_TURNO','NR_IDADE_DATA_POSSE','DS_GENERO', 'DS_GRAU_INSTRUCAO','DS_ESTADO_CIVIL','DS_COR_RACA','DS_SIT_TOT_TURNO','ST_REELEICAO', 'TP_ABRANGENCIA','DS_SIT_TOT_TURNO','ST_REELEICAO','ST_DECLARAR_BENS','CD_GENERO','CD_GRAU_INSTRUCAO', 'DS_MOTIVO_CASSACAO','DS_SITUACAO_CANDIDATURA','VR_DESPESA_MAX_CAMPANHA']]"
   ]
  },
  {
   "cell_type": "code",
   "execution_count": null,
   "id": "bde94dfc",
   "metadata": {},
   "outputs": [],
   "source": [
    "df_candidato_cassacao"
   ]
  },
  {
   "cell_type": "code",
   "execution_count": null,
   "id": "8718aaa0",
   "metadata": {},
   "outputs": [],
   "source": [
    "df_candidato_cassacao['DS_MOTIVO_CASSACAO'].unique()"
   ]
  },
  {
   "cell_type": "code",
   "execution_count": null,
   "id": "d5962871",
   "metadata": {},
   "outputs": [],
   "source": [
    "# Gráfico de Matriz de Correlação \n",
    "df_small = df_candidato_cassacao.copy()\n",
    "# O corr() método do Pandas DataFrame  é usado para calcular a matriz. \n",
    "# Por padrão, ele calcula o coeficiente de correlação de Pearson\n",
    "correlation_mat = df_small.corr(method='pearson')\n",
    "# Definindo as configurações do Gráfico\n",
    "fig = plt.figure(figsize=(8,4))\n",
    "eixo = fig.add_axes([0, 0, 1, 1])\n",
    "# Usando o método heatmap para traçar a Matriz\n",
    "# O parâmetro ' annot=True' exibe os valores do coeficiente de correlação em cada célula.\n",
    "sns.heatmap(correlation_mat, annot = True, linewidth=0.5)\n",
    "# Definindo titulo e labels do gráfico\n",
    "eixo.set_title('Matriz de Correlação dos atributos', fontsize=15, pad=20)\n",
    "eixo.set_xlabel (\"características do núcleo da célula\")\n",
    "eixo.set_ylabel (\"características do núcleo da célula\")"
   ]
  },
  {
   "cell_type": "code",
   "execution_count": null,
   "id": "19397abd",
   "metadata": {},
   "outputs": [],
   "source": [
    "# Gráfico Histogramas \n",
    "df_small = df_candidato_cassacao.copy()\n",
    "# Definindo as configurações do Gráfico\n",
    "df_small.hist(color=\"#cf1e4d\", figsize=(12,10))\n",
    "plt.show()"
   ]
  },
  {
   "cell_type": "code",
   "execution_count": null,
   "id": "eb439700",
   "metadata": {},
   "outputs": [],
   "source": [
    "df_candidato_cassacao['DS_MOTIVO_CASSACAO'].unique()"
   ]
  },
  {
   "cell_type": "markdown",
   "id": "381234fb",
   "metadata": {},
   "source": [
    "<b> Filtro Dados Cassação listando os dados diferente de nulo </b>"
   ]
  },
  {
   "cell_type": "code",
   "execution_count": null,
   "id": "17cd5547",
   "metadata": {},
   "outputs": [],
   "source": [
    "cassados = df_candidato_cassacao.loc[df_candidato_cassacao['DS_MOTIVO_CASSACAO'].notnull()]"
   ]
  },
  {
   "cell_type": "markdown",
   "id": "017c1b86",
   "metadata": {},
   "source": [
    "Para iniciar a exploração dos dados será apresentado um sumário estatístico \n",
    "das variáveis com dados numéricos"
   ]
  },
  {
   "cell_type": "code",
   "execution_count": null,
   "id": "5815a4c5",
   "metadata": {},
   "outputs": [],
   "source": [
    "#Seleção das colunas de interesse\n",
    "cassados[['SQ_CANDIDATO','ANO_ELEICAO','VR_DESPESA_MAX_CAMPANHA']]"
   ]
  },
  {
   "cell_type": "code",
   "execution_count": null,
   "id": "633ece77",
   "metadata": {},
   "outputs": [],
   "source": [
    "data_frame['DS_SIT_TOT_TURNO'].unique()"
   ]
  },
  {
   "cell_type": "code",
   "execution_count": null,
   "id": "59932c94",
   "metadata": {},
   "outputs": [],
   "source": [
    "#Criação de um dataframe final com candidatos eleitos\n",
    "df_eleitos = data_frame[~data_frame.DS_SIT_TOT_TURNO.isin(['#NULO#','2º TURNO', 'NÃO ELEITO'])]"
   ]
  },
  {
   "cell_type": "code",
   "execution_count": null,
   "id": "3fa99b54",
   "metadata": {},
   "outputs": [],
   "source": [
    "df_eleitos"
   ]
  },
  {
   "cell_type": "code",
   "execution_count": null,
   "id": "aa9b5a9d",
   "metadata": {},
   "outputs": [],
   "source": [
    "df_candidato_cassacao['DS_SITUACAO_CANDIDATURA'].unique()"
   ]
  },
  {
   "cell_type": "code",
   "execution_count": null,
   "id": "29b1cc14",
   "metadata": {},
   "outputs": [],
   "source": [
    "df_candidato_cassacao.info"
   ]
  },
  {
   "cell_type": "markdown",
   "id": "5c000073",
   "metadata": {},
   "source": [
    "<b>Regressão Linear</b> \n",
    "De acordo com o google: \"A regressão linear quantifica a relação entre uma ou mais variáveis ​​preditoras e uma variável de resultado. Por exemplo, a regressão linear pode ser usada para quantificar os impactos relativos de idade, sexo e dieta (as variáveis ​​preditoras) na altura (a variável de desfecho).\"\n",
    "\n",
    "O modelo de regressão linear é baseado em uma equação de primeiro grau, com a fórmula sendo: y = ax + b. O \"x\" é o coeficiente angular e o \"b\" é o coeficiente linear.\n",
    "\n",
    "Coeficiente angular: indica a inclinação da reta Coeficiente linear: realiza a intersecção com o eixo x\n",
    "\n",
    "A fórmula da regressão linear busca, justamente, encontrar o valor de a e de b. Neste caso, utilizaremos esse modelo para estimar um novo valor baseado nos atributos de entrada.\n",
    "\n",
    "Ajustaremos uma equação linear entre os dados observados, ou seja, encontraremo uma reta que melhor explica a relação entre os dados.\n",
    "\n",
    "Para saber mais sobre a regressão linear visite: https://oestatistico.com.br/regressao-linear-simples/"
   ]
  },
  {
   "cell_type": "code",
   "execution_count": null,
   "id": "2921beb0",
   "metadata": {},
   "outputs": [],
   "source": [
    "#Contagem das opções da coluna DS_GENERO\n",
    "genero_candidatos_eleitos = Counter(df_eleitos['DS_GENERO'])\n",
    "genero_candidatos_eleitos"
   ]
  },
  {
   "cell_type": "code",
   "execution_count": null,
   "id": "b1165f97",
   "metadata": {},
   "outputs": [],
   "source": [
    "#Contagem das opções da coluna DS_GENERO\n",
    "genero_candidatos_cassados = Counter(cassados['DS_GENERO'])\n",
    "genero_candidatos_cassados"
   ]
  },
  {
   "cell_type": "code",
   "execution_count": null,
   "id": "25b5b947",
   "metadata": {},
   "outputs": [],
   "source": [
    "#Plotagem das informações de gênero dos candidatos\n",
    "plt.style.use('seaborn-pastel')\n",
    "plt.pie(genero_candidatos_cassados.values(), labels = genero_candidatos_cassados.keys(), \n",
    "        autopct = '%1.1f%%', textprops={'fontsize': 16})\n",
    "plt.axis(\"image\")\n",
    "plt.title(\"Gênero dos Candidatos Cassados\", fontsize=18)\n",
    "plt.show()"
   ]
  },
  {
   "cell_type": "code",
   "execution_count": null,
   "id": "a40c591f",
   "metadata": {},
   "outputs": [],
   "source": [
    "idade_publico = Counter(df_candidato_cassacao['NR_IDADE_DATA_POSSE'])"
   ]
  },
  {
   "cell_type": "code",
   "execution_count": null,
   "id": "1e6f1c6c",
   "metadata": {},
   "outputs": [],
   "source": [
    "idade_cassados = Counter(cassados['NR_IDADE_DATA_POSSE'])"
   ]
  },
  {
   "cell_type": "code",
   "execution_count": null,
   "id": "d1edd912",
   "metadata": {},
   "outputs": [],
   "source": [
    "#Plotagem da idade dos candidatos\n",
    "plt.style.use('ggplot')\n",
    "plt.bar(idade_publico.keys(), idade_publico.values())\n",
    "plt.xlabel('Idade')\n",
    "plt.title('Idade dos Candidatos')\n",
    "plt.show()\n",
    "#------------------------------------\n",
    "#Plotagem da idade dos candidatos\n",
    "plt.style.use('ggplot')\n",
    "plt.bar(idade_cassados.keys(), idade_cassados.values())\n",
    "plt.xlabel('Idade')\n",
    "plt.title('Idade dos Candidatos Cassados')\n",
    "plt.show()"
   ]
  },
  {
   "cell_type": "code",
   "execution_count": null,
   "id": "89b804f8",
   "metadata": {},
   "outputs": [],
   "source": [
    "idade_cal = Counter(df_candidato_cassacao['NR_PARTIDO'])"
   ]
  },
  {
   "cell_type": "code",
   "execution_count": null,
   "id": "0708727d",
   "metadata": {},
   "outputs": [],
   "source": [
    "totalValor = np.array(df_candidato_cassacao['ANO_ELEICAO'])"
   ]
  },
  {
   "cell_type": "code",
   "execution_count": null,
   "id": "b5836c0a",
   "metadata": {},
   "outputs": [],
   "source": [
    "%matplotlib inline\n",
    "import matplotlib.pyplot as plt\n",
    "import seaborn; seaborn.set()  # set plot style\n",
    "plt.hist(totalValor)\n",
    "plt.title('Quantidade de Registros por Ano')\n",
    "plt.xlabel('Ano')"
   ]
  },
  {
   "cell_type": "code",
   "execution_count": null,
   "id": "63a5af08",
   "metadata": {},
   "outputs": [],
   "source": [
    "data_frame_bem_candidato['VR_BEM_CANDIDATO'].describe().astype('int')"
   ]
  },
  {
   "cell_type": "markdown",
   "id": "698a44c2",
   "metadata": {},
   "source": [
    "<b> Analise Bem </b>"
   ]
  },
  {
   "cell_type": "code",
   "execution_count": null,
   "id": "f868037e",
   "metadata": {},
   "outputs": [],
   "source": [
    "data_frame_bem_candidato.sort_values(by='VR_BEM_CANDIDATO', ascending=False, inplace = True)"
   ]
  },
  {
   "cell_type": "code",
   "execution_count": null,
   "id": "7e2185d9",
   "metadata": {},
   "outputs": [],
   "source": [
    "data_frame_bem_candidato.info"
   ]
  },
  {
   "cell_type": "code",
   "execution_count": null,
   "id": "ac3c88b3",
   "metadata": {},
   "outputs": [],
   "source": [
    "data_frame_bem_maior_10_mil = data_frame_bem_candidato.loc[(data_frame_bem_candidato['VR_BEM_CANDIDATO'] > 10000000)]"
   ]
  },
  {
   "cell_type": "code",
   "execution_count": null,
   "id": "dbd84bdb",
   "metadata": {},
   "outputs": [],
   "source": [
    "data_frame_bem_menor_10_mil = data_frame_bem_candidato.loc[(data_frame_bem_candidato['VR_BEM_CANDIDATO'] < 10000000)]"
   ]
  },
  {
   "cell_type": "code",
   "execution_count": null,
   "id": "c58a0a57",
   "metadata": {},
   "outputs": [],
   "source": [
    "print('------------------------------------')\n",
    "for index, row in data_frame_bem_maior_10_mil.iterrows():\n",
    "    print('Id: ' + str(index))\n",
    "    print('Ano: ' + str(row['ANO_ELEICAO']))\n",
    "    print('Candidato: ' + str(row['SQ_CANDIDATO']))\n",
    "    print('ID Bem: ' + str(row['CD_TIPO_BEM_CANDIDATO']))\n",
    "    print('Tipo de Bem: ' + str(row['DS_TIPO_BEM_CANDIDATO']))\n",
    "    print('Descrição: ' + str(row['DS_BEM_CANDIDATO']))\n",
    "    print('Valor ' + str(row['VR_BEM_CANDIDATO']))\n",
    "    print('------------------------------------')"
   ]
  },
  {
   "cell_type": "code",
   "execution_count": null,
   "id": "784ab216",
   "metadata": {},
   "outputs": [],
   "source": [
    "data_frame_bem_candidato['VR_BEM_CANDIDATO'].describe().astype('int')"
   ]
  },
  {
   "cell_type": "code",
   "execution_count": null,
   "id": "7163509c",
   "metadata": {},
   "outputs": [],
   "source": [
    "df_bem_candidato_total = data_frame_bem_candidato['VR_BEM_CANDIDATO']"
   ]
  },
  {
   "cell_type": "code",
   "execution_count": null,
   "id": "5b5d3da2",
   "metadata": {},
   "outputs": [],
   "source": [
    "print('------------------------------------')\n",
    "for index, row in data_frame_bem_maior_10_mil.iterrows():\n",
    "    print('Id: ' + str(index))\n",
    "    print('Ano: ' + str(row['ANO_ELEICAO']))\n",
    "    print('Candidato: ' + str(row['SQ_CANDIDATO']))\n",
    "    print('Tipo de Bem: ' + str(row['DS_TIPO_BEM_CANDIDATO']))\n",
    "    print('Descrição: ' + str(row['DS_BEM_CANDIDATO']))\n",
    "    print('Valor ' + str(row['VR_BEM_CANDIDATO']))\n",
    "    print('------------------------------------')"
   ]
  },
  {
   "cell_type": "markdown",
   "id": "8ca87cf0",
   "metadata": {},
   "source": [
    "#Criação de um dataframe com bens dos candidatos até R$  R$ 10.000.000,00 \n",
    "df_consolidado_10mi = cassados.loc[(cassados['VR_BEM_CANDIDATO'] < 10000000)]\n",
    "#Criação de um dataframe com bens dos candidatos eleitos até R$  R$ 10.000.000,00 \n",
    "df_consolidado_eleitos_10mi = cassados.loc[(cassados['VR_BEM_CANDIDATO'] < 10000000)]"
   ]
  },
  {
   "cell_type": "markdown",
   "id": "fae195c7",
   "metadata": {},
   "source": [
    "#Plotagem dos bens de candidatos até R$  R$ 10.000.000,00 \n",
    "df_consolidado_10mi.VR_BEM_CANDIDATO.hist(bins=100)\n",
    "plt.style.use('seaborn-pastel')\n",
    "plt.xlabel(\"Valor\")\n",
    "plt.ylabel(\"Número de candidatos\")\n",
    "plt.title(\"Total de bens dos candidatos até 10 mi\")\n",
    "plt.show()\n",
    "#Plotagem dos bens de candidatos eleitos até R$  R$ 10.000.000,00 \n",
    "df_consolidado_eleitos_10mi.VR_BEM_CANDIDATO.hist(bins=100)\n",
    "plt.style.use('ggplot')\n",
    "plt.xlabel(\"Valor\")\n",
    "plt.ylabel(\"Número de candidatos eleitos\")\n",
    "plt.title(\"Total de bens dos candidatos eleitos até 10 mi\")\n",
    "plt.show()"
   ]
  },
  {
   "cell_type": "code",
   "execution_count": null,
   "id": "d7d2a9e3",
   "metadata": {},
   "outputs": [],
   "source": [
    "data_frame_bem_maior_10_mil['VR_BEM_CANDIDATO']"
   ]
  },
  {
   "cell_type": "code",
   "execution_count": null,
   "id": "fd2a74fc",
   "metadata": {},
   "outputs": [],
   "source": [
    "print('------------------------------------')\n",
    "for index, row in data_frame_bem_maior_10_mil.iterrows():\n",
    "    print('Id: ' + str(index))\n",
    "    print('Ano: ' + str(row['ANO_ELEICAO']))\n",
    "    print('Candidato: ' + str(row['SQ_CANDIDATO'])) \n",
    "    print('Tipo de Bem: ' + str(row['DS_TIPO_BEM_CANDIDATO']))\n",
    "    print('Descrição: ' + str(row['DS_BEM_CANDIDATO']))\n",
    "    print('Valor ' + str(row['VR_BEM_CANDIDATO']))\n",
    "    print('------------------------------------')"
   ]
  },
  {
   "cell_type": "code",
   "execution_count": null,
   "id": "e6ddef43",
   "metadata": {},
   "outputs": [],
   "source": [
    "df_10_mil = data_frame_bem_candidato.loc[(data_frame_bem_candidato['VR_BEM_CANDIDATO'] > 10000000)]"
   ]
  },
  {
   "cell_type": "code",
   "execution_count": null,
   "id": "d8ddffbb",
   "metadata": {},
   "outputs": [],
   "source": [
    "df_10_mil.shape"
   ]
  },
  {
   "cell_type": "code",
   "execution_count": null,
   "id": "64d95bd7",
   "metadata": {},
   "outputs": [],
   "source": [
    "data_frame_bem_candidato['VR_BEM_CANDIDATO'].describe().astype('int')"
   ]
  },
  {
   "cell_type": "code",
   "execution_count": null,
   "id": "271909ec",
   "metadata": {},
   "outputs": [],
   "source": [
    "#Plotagem dos bens de candidatos até R$  R$ 10.000.000,00 \n",
    "data_frame_bem_candidato.VR_BEM_CANDIDATO.hist(bins=100)\n",
    "plt.style.use('seaborn-pastel')\n",
    "plt.xlabel(\"Valor\")\n",
    "plt.ylabel(\"Número de candidatos\")\n",
    "plt.title(\"Total de bens dos candidatos até 10 mi\")\n",
    "plt.show()\n",
    "#Plotagem dos bens de candidatos eleitos até R$  R$ 10.000.000,00 \n",
    "data_frame_bem_candidato.VR_BEM_CANDIDATO.hist(bins=100)\n",
    "plt.style.use('ggplot')\n",
    "plt.xlabel(\"Valor\")\n",
    "plt.ylabel(\"Número de candidatos eleitos\")\n",
    "plt.title(\"Total de bens dos candidatos eleitos até 10 mi\")\n",
    "plt.show()"
   ]
  },
  {
   "cell_type": "code",
   "execution_count": null,
   "id": "6050fa88",
   "metadata": {},
   "outputs": [],
   "source": [
    "# O corr() método do Pandas DataFrame  é usado para calcular a matriz. \n",
    "# Por padrão, ele calcula o coeficiente de correlação de Pearson\n",
    "correlation_mat = data_frame_bem_candidato.corr(method='pearson')\n",
    "# Definindo as configurações do Gráfico\n",
    "fig = plt.figure(figsize=(8,4))\n",
    "eixo = fig.add_axes([0, 0, 1, 1])\n",
    "# Usando o método heatmap para traçar a Matriz\n",
    "# O parâmetro ' annot=True' exibe os valores do coeficiente de correlação em cada célula.\n",
    "sns.heatmap(correlation_mat, annot = True, linewidth=0.5)\n",
    "# Definindo titulo e labels do gráfico\n",
    "eixo.set_title('Matriz de Correlação dos atributos', fontsize=15, pad=20)\n",
    "eixo.set_xlabel (\"características do núcleo da célula\")\n",
    "eixo.set_ylabel (\"características do núcleo da célula\")"
   ]
  },
  {
   "cell_type": "code",
   "execution_count": null,
   "id": "7e7fd930",
   "metadata": {},
   "outputs": [],
   "source": [
    "data_frame_bem_candidato[data_frame_bem_candidato['ANO_ELEICAO'] == 2014].groupby(['ANO_ELEICAO','SQ_CANDIDATO'])['VR_BEM_CANDIDATO'].sum()"
   ]
  },
  {
   "cell_type": "code",
   "execution_count": null,
   "id": "d8a72015",
   "metadata": {},
   "outputs": [],
   "source": [
    "df_b_total = data_frame_bem_candidato.groupby(['SQ_CANDIDATO','ANO_ELEICAO'])['VR_BEM_CANDIDATO'].sum()"
   ]
  },
  {
   "cell_type": "code",
   "execution_count": null,
   "id": "ded03d14",
   "metadata": {},
   "outputs": [],
   "source": [
    "df_b_total"
   ]
  },
  {
   "cell_type": "code",
   "execution_count": null,
   "id": "00af27b7",
   "metadata": {},
   "outputs": [],
   "source": [
    "res = seaborn.violinplot(x=data_frame['NR_IDADE_DATA_POSSE'])\n",
    "plt.show()"
   ]
  },
  {
   "cell_type": "code",
   "execution_count": null,
   "id": "74d4e364",
   "metadata": {},
   "outputs": [],
   "source": [
    "df_candidato_cassacao_fed_14_18 = data_frame[data_frame.ANO_ELEICAO.isin(['2014', '2018'])]"
   ]
  },
  {
   "cell_type": "code",
   "execution_count": null,
   "id": "409403b5",
   "metadata": {},
   "outputs": [],
   "source": [
    "res = seaborn.stripplot(x=df_candidato_cassacao_fed_14_18['SG_UF'],y=df_candidato_cassacao_fed_14_18['NR_IDADE_DATA_POSSE'])\n",
    "fig = plt.figure(figsize=(16,16))\n",
    "plt.show()"
   ]
  },
  {
   "cell_type": "code",
   "execution_count": null,
   "id": "18b5af31",
   "metadata": {},
   "outputs": [],
   "source": [
    "sns.boxplot(x='DS_GENERO', y='NR_IDADE_DATA_POSSE', data=df_candidato_cassacao_fed_14_18)\n",
    "plt.title('Distribuição de idade Eleições Federal por sexo')\n",
    "plt.show()\n",
    "\n",
    "\n"
   ]
  },
  {
   "cell_type": "code",
   "execution_count": null,
   "id": "54bda590",
   "metadata": {},
   "outputs": [],
   "source": [
    "df_candidato_cassacao_fed_14_18.describe().iloc[:,:2]"
   ]
  },
  {
   "cell_type": "code",
   "execution_count": null,
   "id": "888b0ae3",
   "metadata": {},
   "outputs": [],
   "source": [
    "sns.boxplot(x='ST_REELEICAO', y='NR_IDADE_DATA_POSSE', data=df_candidato_cassacao_fed_14_18)\n",
    "plt.title('Reeleição')\n",
    "plt.show()"
   ]
  },
  {
   "cell_type": "code",
   "execution_count": null,
   "id": "c5ff125b",
   "metadata": {},
   "outputs": [],
   "source": [
    "plt.scatter(df_candidato_cassacao_fed_14_18['NR_IDADE_DATA_POSSE'], df_candidato_cassacao_fed_14_18['DS_GENERO'])"
   ]
  },
  {
   "cell_type": "code",
   "execution_count": null,
   "id": "bd155448",
   "metadata": {},
   "outputs": [],
   "source": [
    "df_candidato_cassacao.head()"
   ]
  },
  {
   "cell_type": "code",
   "execution_count": null,
   "id": "98ec0f24",
   "metadata": {},
   "outputs": [],
   "source": [
    "df_candidato_cassacao.head()"
   ]
  },
  {
   "cell_type": "code",
   "execution_count": null,
   "id": "bc1dcf50",
   "metadata": {},
   "outputs": [],
   "source": []
  },
  {
   "cell_type": "code",
   "execution_count": null,
   "id": "9b366428",
   "metadata": {},
   "outputs": [],
   "source": [
    "df_candidato = df_candidato_cassacao.copy()\n",
    "\n",
    "df_candidato = df_candidato.drop(columns='DS_CARGO')\n",
    "df_candidato = df_candidato.drop(columns='SG_PARTIDO')\n",
    "df_candidato = df_candidato.drop(columns='DS_GENERO')\n",
    "df_candidato = df_candidato.drop(columns='DS_GRAU_INSTRUCAO')\n",
    "df_candidato = df_candidato.drop(columns='DS_ESTADO_CIVIL')\n",
    "df_candidato = df_candidato.drop(columns='DS_COR_RACA')\n",
    "df_candidato = df_candidato.drop(columns='TP_ABRANGENCIA')\n",
    "df_candidato = df_candidato.drop(columns='NR_CANDIDATO')\n",
    "df_candidato = df_candidato.drop(columns='DS_SITUACAO_CANDIDATURA')\n",
    "df_candidato = df_candidato.drop(columns='SQ_CANDIDATO')\n",
    "df_candidato = df_candidato.drop(columns='ST_REELEICAO')\n",
    "\n",
    "\n",
    "df_candidato.info"
   ]
  },
  {
   "cell_type": "markdown",
   "id": "7c638837",
   "metadata": {},
   "source": [
    "https://www.flai.com.br/juscudilio/parte-iii-como-utilizar-modelos-de-machine-learning-para-reduzir-o-churn/\n",
    "\n",
    "Separando as variáveis numéricas das categóricas\n",
    "Variáveis numéricas são aquelas variáveis que assumem valores numéricos, por exemplo a variável idade. As variáveis numéricas são classificadas como variáveis contínuas ou discreta.\n",
    "\n",
    "As variáveis contínuas assumem valores na reta real, como a variável Salário Estimado. E as variáveis discretas são aquelas que assumem valores inteiros, como a variável número de produtos.\n",
    "\n",
    "Variáveis categóricas são variáveis que não assumem valores numéricos. Por exemplo, a variável país.\n",
    "\n",
    "As variáveis categóricas são classificadas como nominais e ordinais. As variáveis categóricas nominais são aquelas que não tem nenhuma ordem envolvida, por exemplo, a variável sexo e ordinais quando temos uma ordem envolvida, como a variável grau de escolaridade.\n",
    "\n",
    "No pré processamento dos dados separamos as variáveis entre categóricas e numéricas, pois para cada tipo de variável utilizamos técnicas de processamento diferentes."
   ]
  },
  {
   "cell_type": "code",
   "execution_count": null,
   "id": "2cfe8397",
   "metadata": {},
   "outputs": [],
   "source": [
    "data_gd = pd.get_dummies(df_candidato, prefix_sep='_', drop_first=True)\n",
    "data_gd.head(20)"
   ]
  },
  {
   "cell_type": "code",
   "execution_count": null,
   "id": "0c9afe84",
   "metadata": {},
   "outputs": [],
   "source": [
    "#https://github.com/marcelpinheiro/malum/blob/master/Pandas%20get_dummies%20x%20Sklearn%20DictVectorizer.ipynb"
   ]
  },
  {
   "cell_type": "code",
   "execution_count": null,
   "id": "c411b152",
   "metadata": {},
   "outputs": [],
   "source": [
    "data_gd.columns"
   ]
  },
  {
   "cell_type": "code",
   "execution_count": null,
   "id": "dad79367",
   "metadata": {},
   "outputs": [],
   "source": [
    "import pandas\n",
    "from sklearn.neighbors import KNeighborsClassifier\n",
    "from sklearn.preprocessing import LabelEncoder\n",
    "from sklearn.model_selection import train_test_split"
   ]
  },
  {
   "cell_type": "code",
   "execution_count": null,
   "id": "17704628",
   "metadata": {},
   "outputs": [],
   "source": [
    "#Variáveis Continuas\n",
    "x_cont  = ['ST_REELEICAO','DS_CARGO','DS_ESTADO_CIVIL','DS_SIT_TOT_TURNO','VR_DESPESA_MAX_CAMPANHA','NR_IDADE_DATA_POSSE']\n",
    "#Variáveis Categóricas\n",
    "x_cat = list(set(data_gd) - set(x_cont))\n",
    "x_dummies = data_gd[x_cat]"
   ]
  },
  {
   "cell_type": "code",
   "execution_count": null,
   "id": "27b0bd07",
   "metadata": {},
   "outputs": [],
   "source": [
    "x_dummies.head(80)"
   ]
  },
  {
   "cell_type": "code",
   "execution_count": null,
   "id": "e1471d76",
   "metadata": {},
   "outputs": [],
   "source": []
  },
  {
   "cell_type": "markdown",
   "id": "85a94b46",
   "metadata": {},
   "source": [
    "<b> DADOS </b>"
   ]
  },
  {
   "cell_type": "code",
   "execution_count": null,
   "id": "c98cde86",
   "metadata": {},
   "outputs": [],
   "source": [
    "import pandas as pd\n",
    "from collections import Counter"
   ]
  },
  {
   "cell_type": "code",
   "execution_count": null,
   "id": "a218bafe",
   "metadata": {},
   "outputs": [],
   "source": [
    "df = data_gd.copy()"
   ]
  },
  {
   "cell_type": "code",
   "execution_count": null,
   "id": "779ccf12",
   "metadata": {},
   "outputs": [],
   "source": [
    "X_df = df[['ANO_ELEICAO','VR_DESPESA_MAX_CAMPANHA', 'NR_IDADE_DATA_POSSE']]\n",
    "Y_df = df['ANO_ELEICAO']\n",
    "\n",
    "Xdummies_df = pd.get_dummies(X_df)\n",
    "Ydummies_df = Y_df\n",
    "\n",
    "X = Xdummies_df.values\n",
    "Y = Ydummies_df.values\n",
    "\n",
    "porcentagem_de_treino = 0.8\n",
    "porcentagem_de_teste = 0.1\n",
    "\n",
    "tamanho_de_treino = int(porcentagem_de_treino * len(Y))\n",
    "tamanho_de_teste = int(porcentagem_de_teste * len(Y))\n",
    "tamanho_de_validacao = len(Y) - tamanho_de_treino - tamanho_de_teste\n",
    "\n",
    "treino_dados = X[:tamanho_de_treino]\n",
    "treino_marcacoes = Y[:tamanho_de_treino]\n",
    "\n",
    "fim_de_treino = tamanho_de_treino + tamanho_de_teste\n",
    "\n",
    "teste_dados = X[tamanho_de_treino:fim_de_treino]\n",
    "teste_marcacoes = Y[tamanho_de_treino:fim_de_treino]\n",
    "\n",
    "validacao_dados = X[fim_de_treino:]\n",
    "validacao_marcacoes = Y[fim_de_treino:]\n",
    "\n"
   ]
  },
  {
   "cell_type": "code",
   "execution_count": null,
   "id": "676959fe",
   "metadata": {},
   "outputs": [],
   "source": [
    "def fit_and_predict(nome, modelo, treino_dados, treino_marcacoes, teste_dados, teste_marcacoes):\n",
    "    modelo.fit(treino_dados, treino_marcacoes)\n",
    "    \n",
    "   \n",
    "    resultado = modelo.predict(teste_dados)\n",
    "\n",
    "    acertos = resultado == teste_marcacoes\n",
    "\n",
    "    total_de_acertos = sum(acertos)\n",
    "    total_de_elementos = len(teste_dados)\n",
    "\n",
    "    taxa_de_acerto = 100.0 * total_de_acertos / total_de_elementos\n",
    "\n",
    "    msg = \"Taxa de acerto do algoritmo {0}: {1}\".format(nome, taxa_de_acerto)\n",
    "\n",
    "    print(msg)\n",
    "    return taxa_de_acerto\n",
    "\n",
    "def teste_real(modelo, validacao_dados, validacao_marcacoes):\n",
    "    resultado = modelo.predict(validacao_dados)\n",
    "    acertos = resultado == validacao_marcacoes\n",
    "\n",
    "    total_de_acertos = sum(acertos)\n",
    "    total_de_elementos = len(validacao_marcacoes)\n",
    "\n",
    "    taxa_de_acerto = 100.0 * total_de_acertos / total_de_elementos\n",
    "\n",
    "    msg = \"Taxa de acerto do vencedor entre os dois algoritmos no mundo real: {0}\".format(taxa_de_acerto)\n",
    "    print(msg)\n"
   ]
  },
  {
   "cell_type": "code",
   "execution_count": null,
   "id": "8484034e",
   "metadata": {},
   "outputs": [],
   "source": [
    "resultados = {}"
   ]
  },
  {
   "cell_type": "code",
   "execution_count": null,
   "id": "7502043e",
   "metadata": {},
   "outputs": [],
   "source": [
    "#Ajuste do Modelo KNN - https://github.com/alura-cursos/machine-learning-introducao-a-classificacao-2/blob/master/situacao_do_cliente.py\n",
    "from sklearn.neighbors import KNeighborsClassifier #classificador\n",
    "knn = KNeighborsClassifier()\n",
    "knn.fit(treino_dados, treino_marcacoes)\n",
    "resultado_knn = knn.predict(teste_dados)    \n",
    "\n",
    "resultado_knn"
   ]
  },
  {
   "cell_type": "code",
   "execution_count": null,
   "id": "32efaa9d",
   "metadata": {},
   "outputs": [],
   "source": [
    "from sklearn.multiclass import OneVsRestClassifier\n",
    "from sklearn.svm import LinearSVC\n",
    "modeloOneVsRest = OneVsRestClassifier(LinearSVC(random_state = 0))\n",
    "resultadoOneVsRest = fit_and_predict(\"OneVsRest\", modeloOneVsRest, treino_dados, treino_marcacoes, teste_dados, teste_marcacoes)\n",
    "resultados[resultadoOneVsRest] = modeloOneVsRest"
   ]
  },
  {
   "cell_type": "code",
   "execution_count": null,
   "id": "23230d82",
   "metadata": {},
   "outputs": [],
   "source": [
    "from sklearn.multiclass import OneVsOneClassifier\n",
    "modeloOneVsOne = OneVsOneClassifier(LinearSVC(random_state=0))\n",
    "resultadoOneVsOne = fit_and_predict(\"OneVsOne\", modeloOneVsOne, treino_dados, treino_marcacoes, teste_dados, teste_marcacoes)\n",
    "resultados[resultadoOneVsOne] = modeloOneVsOne"
   ]
  },
  {
   "cell_type": "markdown",
   "id": "deaa647f",
   "metadata": {},
   "source": [
    "from sklearn.naive_bayes import MultinomialNB\n",
    "modeloMultinomial = MultinomialNB()\n",
    "resultadoMultinomial = fit_and_predict(\"MultinomialNB\", modeloMultinomial, treino_dados, treino_marcacoes, teste_dados, teste_marcacoes)\n",
    "resultados[resultadoMultinomial] = modeloMultinomial"
   ]
  },
  {
   "cell_type": "code",
   "execution_count": null,
   "id": "b963797d",
   "metadata": {},
   "outputs": [],
   "source": [
    "from sklearn.tree import DecisionTreeClassifier\n",
    "from sklearn import tree\n",
    "deputados_tree = DecisionTreeClassifier(random_state=0)\n",
    "resultadoOneVsOne = fit_and_predict(\"OneVsOne\", modeloOneVsOne, treino_dados, treino_marcacoes, teste_dados, teste_marcacoes)\n",
    "resultados[resultadoOneVsOne] = modeloOneVsOne\n"
   ]
  },
  {
   "cell_type": "code",
   "execution_count": null,
   "id": "fbc5a059",
   "metadata": {},
   "outputs": [],
   "source": [
    "from sklearn.ensemble import AdaBoostClassifier\n",
    "modeloAdaBoost = AdaBoostClassifier()\n",
    "resultadoAdaBoost = fit_and_predict(\"AdaBoostClassifier\", modeloAdaBoost, treino_dados, treino_marcacoes, teste_dados, teste_marcacoes)\n",
    "resultados[resultadoAdaBoost] = modeloAdaBoost"
   ]
  },
  {
   "cell_type": "code",
   "execution_count": null,
   "id": "0a8f478d",
   "metadata": {},
   "outputs": [],
   "source": [
    "print (resultados)\n",
    "maximo = max(resultados)\n",
    "vencedor = resultados[maximo]\n",
    "print (vencedor)\n",
    "\n",
    "resultado = vencedor.predict(validacao_dados)\n",
    "acertos = (resultado == validacao_marcacoes)\n",
    "\n",
    "total_de_acertos = sum(acertos)\n",
    "total_de_elementos = len(validacao_marcacoes)\n",
    "taxa_de_acerto = 100.0 * total_de_acertos / total_de_elementos\n",
    "\n",
    "msg = \"Taxa de acerto do vencedor entre os dois algoritmos no mundo real: {0}\".format(taxa_de_acerto)\n",
    "print(msg)\n"
   ]
  },
  {
   "cell_type": "code",
   "execution_count": null,
   "id": "601b14b9",
   "metadata": {},
   "outputs": [],
   "source": [
    "print(resultados)\n",
    "maximo = max(resultados)\n",
    "vencedor = resultados[maximo]\n",
    "print(\"VENCEDOR:\", vencedor)"
   ]
  },
  {
   "cell_type": "code",
   "execution_count": null,
   "id": "86172926",
   "metadata": {},
   "outputs": [],
   "source": [
    "# precisa fazer o FIT pois o FIT foi excluido pois não fazemos mais o treino\n",
    "vencedor.fit(treino_dados, treino_marcacoes)\n",
    "\n",
    "teste_real(vencedor, validacao_dados, validacao_marcacoes)\n",
    "\n",
    "print(\"Elementos testados: %d \" % len(validacao_dados))"
   ]
  },
  {
   "cell_type": "code",
   "execution_count": null,
   "id": "0636cfd1",
   "metadata": {},
   "outputs": [],
   "source": [
    "import seaborn as sns # statistical visualization"
   ]
  },
  {
   "cell_type": "code",
   "execution_count": null,
   "id": "416cd249",
   "metadata": {},
   "outputs": [],
   "source": [
    "# Distributions of the features\n",
    "fig, ax = plt.subplots(3, 4, figsize=(20, 12))\n",
    "sns.histplot(df_candidato_cassacao['NR_IDADE_DATA_POSSE'], kde=True, ax=ax[0, 0])\n",
    "sns.histplot(df_candidato_cassacao['DS_CARGO'], ax=ax[0, 1])\n",
    "sns.histplot(df_candidato_cassacao['DS_GENERO'], ax=ax[0, 2])\n",
    "sns.histplot(df_candidato_cassacao['NR_IDADE_DATA_POSSE'], ax=ax[0, 3])\n",
    "sns.histplot(df_candidato_cassacao['DS_SITUACAO_CANDIDATURA'], ax=ax[1, 0])\n",
    "sns.histplot(df_candidato_cassacao['DS_CARGO'], ax=ax[1, 1])\n",
    "#sns.histplot(df_candidato_cassacao['ST_REELEICAO'], kde=True, ax=ax[1, 2])\n",
    "sns.histplot(df_candidato_cassacao['SG_PARTIDO'], kde=True, ax=ax[2, 0])\n",
    "sns.histplot(df_candidato_cassacao['ANO_ELEICAO'], ax=ax[2, 1])\n",
    "sns.histplot(df_candidato_cassacao['NR_IDADE_DATA_POSSE'], ax=ax[2, 2])\n",
    "plt.show()"
   ]
  },
  {
   "cell_type": "code",
   "execution_count": null,
   "id": "04dfe8d6",
   "metadata": {},
   "outputs": [],
   "source": [
    "!pip install lazypredict\n",
    "#https://estatsite.com.br/2021/03/22/varios-modelos-numa-tacada-no-python/"
   ]
  },
  {
   "cell_type": "code",
   "execution_count": null,
   "id": "2830c140",
   "metadata": {},
   "outputs": [],
   "source": [
    "# carrega as bibliotecas necessarias\n",
    "import pandas as pd\n",
    "import numpy as np\n",
    "\n",
    "import lazypredict\n",
    "from lazypredict.Supervised import LazyClassifier\n",
    "\n",
    "from sklearn.model_selection import train_test_split\n",
    "\n",
    "# carrega os dados\n",
    "df = df_candidato_cassacao.copy()\n"
   ]
  },
  {
   "cell_type": "code",
   "execution_count": null,
   "id": "ec021b86",
   "metadata": {},
   "outputs": [],
   "source": [
    "# seleciona as features e variavel target\n",
    "X = df[['ANO_ELEICAO','VR_DESPESA_MAX_CAMPANHA', 'NR_IDADE_DATA_POSSE']]\n",
    "y = df['ANO_ELEICAO']\n",
    "\n",
    "# divide em treino e teste\n",
    "X_train, X_test, y_train, y_test = train_test_split(X, y, test_size = 0.3, random_state=999)"
   ]
  },
  {
   "cell_type": "code",
   "execution_count": null,
   "id": "60e61369",
   "metadata": {},
   "outputs": [],
   "source": [
    "clf = LazyClassifier(verbose=0,ignore_warnings=True)\n",
    "models, predictions = clf.fit(X_train, X_test, y_train, y_test)\n",
    "models"
   ]
  },
  {
   "cell_type": "code",
   "execution_count": null,
   "id": "52f29b6a",
   "metadata": {},
   "outputs": [],
   "source": []
  },
  {
   "cell_type": "code",
   "execution_count": null,
   "id": "64e15209",
   "metadata": {},
   "outputs": [],
   "source": []
  },
  {
   "cell_type": "code",
   "execution_count": null,
   "id": "5895db68",
   "metadata": {},
   "outputs": [],
   "source": []
  },
  {
   "cell_type": "code",
   "execution_count": null,
   "id": "91981b34",
   "metadata": {},
   "outputs": [],
   "source": []
  },
  {
   "cell_type": "markdown",
   "id": "55243c5f",
   "metadata": {},
   "source": [
    "# Dummy variables\n",
    "dummies = ['ANO_ELEICAO', 'DS_GENERO', 'SG_PARTIDO']\n",
    "prefixes = ['ANO_ELEICAO', 'DS_GENERO','SG_PARTIDO']\n",
    "cont = 0\n",
    "for i in dummies:\n",
    "    df_candidato_cassacao = df_candidato_cassacao.merge(\n",
    "        pd.get_dummies(df_candidato_cassacao[i], prefix=prefixes[cont], drop_first=True), \n",
    "        left_index=True, right_index=True)\n",
    "    cont += 1\n",
    "df_candidato_cassacao"
   ]
  },
  {
   "cell_type": "markdown",
   "id": "eb5ecb77",
   "metadata": {},
   "source": [
    "# Normalization\n",
    "from sklearn.preprocessing import StandardScaler\n",
    "df_scale = df_candidato_cassacao.copy()\n",
    "df_scale.drop(dummies, axis=1, inplace=True)\n",
    "df_scale.iloc[:, [0, 2, 3]] = StandardScaler().fit_transform(df_scale.iloc[:, [0, 2, 3]])\n",
    "df_scale"
   ]
  },
  {
   "cell_type": "code",
   "execution_count": null,
   "id": "84e9cd16",
   "metadata": {},
   "outputs": [],
   "source": []
  },
  {
   "cell_type": "code",
   "execution_count": null,
   "id": "3a63f06c",
   "metadata": {},
   "outputs": [],
   "source": [
    "fig, ax = plt.subplots(figsize=(10,6))\n",
    "grouped = df_candidato_cassacao.groupby('SG_UF').NR_PARTIDO.mean().sort_values(ascending=False)\n",
    "ax.bar(grouped.index, grouped, color='lightblue')\n",
    "ax.grid(False)\n",
    "ax.set_xlabel('')\n",
    "ax.set_xticklabels(grouped.index, rotation=45)\n",
    "ax.tick_params(colors='grey')\n",
    "ax.set_title('Impacto de Cada Estado na Inadimplência', fontsize=14, alpha=0.6)\n",
    "\n",
    "plt.tight_layout()"
   ]
  },
  {
   "cell_type": "code",
   "execution_count": null,
   "id": "59774c6f",
   "metadata": {},
   "outputs": [],
   "source": [
    "(df_candidato_cassacao.isnull().sum() / df_candidato_cassacao.shape[0] * 100).sort_values(ascending=False)"
   ]
  },
  {
   "cell_type": "code",
   "execution_count": null,
   "id": "f21ed7de",
   "metadata": {},
   "outputs": [],
   "source": [
    "#quantidade de valores únicos por cada coluna.\n",
    "df_candidato_cassacao.nunique().sort_values()"
   ]
  },
  {
   "cell_type": "code",
   "execution_count": null,
   "id": "6850920c",
   "metadata": {},
   "outputs": [],
   "source": [
    "fig, ax = plt.subplots(figsize=(10,6))\n",
    "grouped = df_candidato_cassacao.groupby('SG_UF').NR_PARTIDO.mean().sort_index()\n",
    "ax.bar(grouped.index, grouped, color='lightgreen')\n",
    "ax.grid(False)\n",
    "ax.set_xlabel('')\n",
    "ax.set_xticklabels(grouped.index, rotation=45)\n",
    "ax.set_xticks(range(0, 25))\n",
    "ax.tick_params(colors='grey')\n",
    "ax.set_title('Impacto de Cada Horário na Inadimplência', fontsize=14, alpha=0.6)\n",
    "\n",
    "plt.tight_layout()"
   ]
  },
  {
   "cell_type": "code",
   "execution_count": null,
   "id": "a10d2db1",
   "metadata": {},
   "outputs": [],
   "source": [
    "categorical = ['NR_PARTIDO','DS_CARGO','CD_GENERO']\n",
    "\n",
    "fig = plt.figure(figsize=(20,8))\n",
    "    \n",
    "for i in range(len(categorical)):\n",
    "    to_plot = df_candidato_cassacao.groupby(categorical[i]).NR_PARTIDO.mean().sort_values()\n",
    "    ax = fig.add_subplot(1, 3, i+1)\n",
    "    rects = ax.barh(to_plot.index, to_plot, color=sns.color_palette('Set1'), alpha=0.6)\n",
    "    ax.grid(False)\n",
    "    ax.tick_params(labelleft=True)\n",
    "    ax.set_title(f'{categorical[i].title()} vs Inadimplência', alpha=0.5)\n",
    "    ax.tick_params(colors='grey')\n",
    "    \n",
    "    for rect in (rects):\n",
    "        width = rect.get_width()\n",
    "        ax.text(y=rect.get_y() + rect.get_height() / 2, x=width * 0.5, s=round(width, 2), ha='center', va='center', alpha=0.5, fontweight='bold')\n",
    "\n",
    "plt.tight_layout()\n",
    "plt.show()"
   ]
  },
  {
   "cell_type": "code",
   "execution_count": null,
   "id": "5ac0c46e",
   "metadata": {},
   "outputs": [],
   "source": [
    "# Definindo as configurações do Gráfico\n",
    "resultadoAdaBoost.hist(color=\"#cf1e4d\", figsize=(12,10))\n",
    "plt.show()"
   ]
  },
  {
   "cell_type": "code",
   "execution_count": null,
   "id": "703dc33e",
   "metadata": {},
   "outputs": [],
   "source": []
  },
  {
   "cell_type": "code",
   "execution_count": null,
   "id": "66c1891f",
   "metadata": {},
   "outputs": [],
   "source": [
    "numeric = ['NR_PARTIDO','DS_CARGO','CD_GENERO']\n",
    "\n",
    "fig = plt.figure(figsize=(20, 15))\n",
    "\n",
    "for i in range(len(numeric)):\n",
    "    num_plot = df_candidato_cassacao.groupby(numeric[i]).NR_PARTIDO.mean()\n",
    "    ax = fig.add_subplot(3, 3, i+1)\n",
    "    ax.scatter(num_plot.index, num_plot)\n",
    "    ax.set_title(f'{numeric[i]} vs Inadimplência', alpha=0.6)\n",
    "    ax.tick_params(colors='grey')\n",
    "\n",
    "\n",
    "plt.tight_layout()\n",
    "#plt.savefig('num.png')\n",
    "plt.show()"
   ]
  }
 ],
 "metadata": {
  "kernelspec": {
   "display_name": "Python 3",
   "language": "python",
   "name": "python3"
  },
  "language_info": {
   "codemirror_mode": {
    "name": "ipython",
    "version": 3
   },
   "file_extension": ".py",
   "mimetype": "text/x-python",
   "name": "python",
   "nbconvert_exporter": "python",
   "pygments_lexer": "ipython3",
   "version": "3.6.13"
  }
 },
 "nbformat": 4,
 "nbformat_minor": 5
}
