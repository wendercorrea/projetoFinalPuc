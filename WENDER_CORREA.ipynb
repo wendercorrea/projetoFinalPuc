{
 "cells": [
  {
   "cell_type": "markdown",
   "id": "c65f1125",
   "metadata": {},
   "source": [
    "<h1><center>PUC Minas - PONTIFÍCIA UNIVERSIDADE CATÓLICA DE MINAS GERAIS</center></h1>\n",
    "\n",
    "<h2><center>Pós-Graduação em Ciência de Dados e Big Data</center></h2>\n",
    "\n",
    "<h3><center>TRABALHO DE CONCLUSÃO DE CURSO</center><br>\n",
    "TÍTULO:<br>\n",
    "<br>\n",
    "ALUNO: Wender Pereira Corrêa</h3>\n",
    "Matrícula:\n",
    "<p>Este notebook é referente ao Trabalho de Conclusão de Curso em Ciência de Dados e Big Data.</p>"
   ]
  },
  {
   "cell_type": "markdown",
   "id": "51598541",
   "metadata": {},
   "source": [
    "#Leitura dos dados e importação das bibliotecas utilizadas"
   ]
  },
  {
   "cell_type": "code",
   "execution_count": 1,
   "id": "6ec53464",
   "metadata": {},
   "outputs": [],
   "source": [
    "#IMPORTAÇÃO DAS BIBLIOTECAS\n",
    "import pandas as pd\n",
    "import numpy as np\n",
    "import zipfile\n",
    "import requests\n",
    "from io import BytesIO\n",
    "import os\n",
    "import glob\n",
    "import matplotlib.pyplot as plt\n",
    "import seaborn as sns\n",
    "sns.set_style('whitegrid')\n",
    "import time"
   ]
  },
  {
   "cell_type": "code",
   "execution_count": 2,
   "id": "f40a13ce",
   "metadata": {},
   "outputs": [],
   "source": [
    "#definição de configuração de dataframes\n",
    "#pd.set_option('display.max_rows',1000)\n",
    "#pd.set_option('display.max_columns',500)\n",
    "#pd.set_option('display.width',1200)\n",
    "#pd.set_option('display.precision',4)\n",
    "#pd.set_option('display.expand_frame_repr',False)\n"
   ]
  },
  {
   "cell_type": "code",
   "execution_count": 3,
   "id": "7350e7af",
   "metadata": {},
   "outputs": [],
   "source": [
    "#Configurando os plots para serem exibidos dirertamente no notebook\n",
    "#%matplotlib inline"
   ]
  },
  {
   "cell_type": "code",
   "execution_count": 4,
   "id": "4e594484",
   "metadata": {},
   "outputs": [],
   "source": [
    "# Definindo a pasta de trabalho\n",
    "dirCandidatoAnalise = \"./candidatoAnalise\"\n",
    "dirCandidatoCassacaoAnalise = \"./candidatoCassacaoAnalise\" \n",
    "dirBemCandidato = \"./bemCandidatoAnalise\" \n",
    " \n",
    "os.makedirs(dirCandidatoAnalise, exist_ok=True)\n",
    "os.makedirs(dirCandidatoCassacaoAnalise, exist_ok=True)\n",
    "os.makedirs(dirBemCandidato, exist_ok=True)\n"
   ]
  },
  {
   "cell_type": "code",
   "execution_count": 5,
   "id": "5e367389",
   "metadata": {},
   "outputs": [],
   "source": [
    "def descompactar(nome_arquivo_compactado, diretorio):\n",
    "    #Lê o arquivo compactado e extrai o conteúdo\n",
    "    #print(nome_arquivo_compactado)\n",
    "    filebytes = BytesIO(\n",
    "        requests.get(nome_arquivo_compactado).content\n",
    "    )\n",
    "    myzip = zipfile.ZipFile(filebytes)\n",
    "    myzip.extractall(diretorio)\n",
    "    return \"Concluído\""
   ]
  },
  {
   "cell_type": "markdown",
   "id": "99164951",
   "metadata": {},
   "source": [
    "<b>1) Dados Politicos</b>"
   ]
  },
  {
   "cell_type": "code",
   "execution_count": 6,
   "id": "ef4a0be6",
   "metadata": {},
   "outputs": [],
   "source": [
    "ca = 2014\n",
    "while ca < 2022:\n",
    "    urlCandidatoAnalise = \"https://cdn.tse.jus.br/estatistica/sead/odsele/consulta_cand/consulta_cand_\" + str(ca)+ \".zip\"\n",
    "    #descompactar(urlCandidatoAnalise,dirCandidatoAnalise)\n",
    "    urlCandidatoCassacaoAnalise = \"https://cdn.tse.jus.br/estatistica/sead/odsele/motivo_cassacao/motivo_cassacao_\" + str(ca)+ \".zip\"\n",
    "    #descompactar(urlCandidatoCassacaoAnalise,dirCandidatoCassacaoAnalise)\n",
    "    urlBemCandidatoAnalise = \"https://cdn.tse.jus.br/estatistica/sead/odsele/bem_candidato/bem_candidato_\" + str(ca)+ \".zip\"\n",
    "    #descompactar(urlBemCandidatoAnalise,dirBemCandidato)    \n",
    "    ca+=2\n"
   ]
  },
  {
   "cell_type": "markdown",
   "id": "391c6b73",
   "metadata": {},
   "source": [
    "<b>1) Dados Candidato</b>"
   ]
  },
  {
   "cell_type": "code",
   "execution_count": null,
   "id": "92f989ff",
   "metadata": {
    "scrolled": false
   },
   "outputs": [
    {
     "name": "stdout",
     "output_type": "stream",
     "text": [
      "Arquivos com extensão csv Candidato:\n",
      "consulta_cand_2014_AC.csv\n",
      "consulta_cand_2014_AL.csv\n",
      "consulta_cand_2014_AM.csv\n",
      "consulta_cand_2014_AP.csv\n",
      "consulta_cand_2014_BA.csv\n",
      "consulta_cand_2014_BR.csv\n",
      "consulta_cand_2014_BRASIL.csv\n",
      "consulta_cand_2014_CE.csv\n",
      "consulta_cand_2014_DF.csv\n",
      "consulta_cand_2014_ES.csv\n",
      "consulta_cand_2014_GO.csv\n",
      "consulta_cand_2014_MA.csv\n",
      "consulta_cand_2014_MG.csv\n",
      "consulta_cand_2014_MS.csv\n",
      "consulta_cand_2014_MT.csv\n",
      "consulta_cand_2014_PA.csv\n",
      "consulta_cand_2014_PB.csv\n",
      "consulta_cand_2014_PE.csv\n",
      "consulta_cand_2014_PI.csv\n",
      "consulta_cand_2014_PR.csv\n",
      "consulta_cand_2014_RJ.csv\n",
      "consulta_cand_2014_RN.csv\n",
      "consulta_cand_2014_RO.csv\n",
      "consulta_cand_2014_RR.csv\n",
      "consulta_cand_2014_RS.csv\n",
      "consulta_cand_2014_SC.csv\n",
      "consulta_cand_2014_SE.csv\n",
      "consulta_cand_2014_SP.csv\n",
      "consulta_cand_2014_TO.csv\n",
      "consulta_cand_2016_AC.csv\n",
      "consulta_cand_2016_AL.csv\n",
      "consulta_cand_2016_AM.csv\n",
      "consulta_cand_2016_AP.csv\n",
      "consulta_cand_2016_BA.csv\n",
      "consulta_cand_2016_BRASIL.csv\n",
      "consulta_cand_2016_CE.csv\n",
      "consulta_cand_2016_ES.csv\n",
      "consulta_cand_2016_GO.csv\n",
      "consulta_cand_2016_MA.csv\n",
      "consulta_cand_2016_MG.csv\n",
      "consulta_cand_2016_MS.csv\n",
      "consulta_cand_2016_MT.csv\n",
      "consulta_cand_2016_PA.csv\n",
      "consulta_cand_2016_PB.csv\n",
      "consulta_cand_2016_PE.csv\n",
      "consulta_cand_2016_PI.csv\n",
      "consulta_cand_2016_PR.csv\n",
      "consulta_cand_2016_RJ.csv\n",
      "consulta_cand_2016_RN.csv\n",
      "consulta_cand_2016_RO.csv\n",
      "consulta_cand_2016_RR.csv\n",
      "consulta_cand_2016_RS.csv\n",
      "consulta_cand_2016_SC.csv\n",
      "consulta_cand_2016_SE.csv\n",
      "consulta_cand_2016_SP.csv\n",
      "consulta_cand_2016_TO.csv\n",
      "consulta_cand_2018_AC.csv\n",
      "consulta_cand_2018_AL.csv\n",
      "consulta_cand_2018_AM.csv\n",
      "consulta_cand_2018_AP.csv\n",
      "consulta_cand_2018_BA.csv\n",
      "consulta_cand_2018_BR.csv\n",
      "consulta_cand_2018_BRASIL.csv\n",
      "consulta_cand_2018_CE.csv\n",
      "consulta_cand_2018_DF.csv\n",
      "consulta_cand_2018_ES.csv\n",
      "consulta_cand_2018_GO.csv\n",
      "consulta_cand_2018_MA.csv\n",
      "consulta_cand_2018_MG.csv\n",
      "consulta_cand_2018_MS.csv\n",
      "consulta_cand_2018_MT.csv\n",
      "consulta_cand_2018_PA.csv\n",
      "consulta_cand_2018_PB.csv\n",
      "consulta_cand_2018_PE.csv\n",
      "consulta_cand_2018_PI.csv\n",
      "consulta_cand_2018_PR.csv\n",
      "consulta_cand_2018_RJ.csv\n",
      "consulta_cand_2018_RN.csv\n",
      "consulta_cand_2018_RO.csv\n",
      "consulta_cand_2018_RR.csv\n",
      "consulta_cand_2018_RS.csv\n",
      "consulta_cand_2018_SC.csv\n",
      "consulta_cand_2018_SE.csv\n",
      "consulta_cand_2018_SP.csv\n",
      "consulta_cand_2018_TO.csv\n",
      "consulta_cand_2020_AC.csv\n",
      "consulta_cand_2020_AL.csv\n",
      "consulta_cand_2020_AM.csv\n",
      "consulta_cand_2020_AP.csv\n",
      "consulta_cand_2020_BA.csv\n",
      "consulta_cand_2020_BRASIL.csv\n",
      "consulta_cand_2020_CE.csv\n",
      "consulta_cand_2020_ES.csv\n",
      "consulta_cand_2020_GO.csv\n",
      "consulta_cand_2020_MA.csv\n",
      "consulta_cand_2020_MG.csv\n",
      "consulta_cand_2020_MS.csv\n",
      "consulta_cand_2020_MT.csv\n",
      "consulta_cand_2020_PA.csv\n",
      "consulta_cand_2020_PB.csv\n",
      "consulta_cand_2020_PE.csv\n",
      "consulta_cand_2020_PI.csv\n",
      "consulta_cand_2020_PR.csv\n",
      "consulta_cand_2020_RJ.csv\n",
      "consulta_cand_2020_RN.csv\n",
      "consulta_cand_2020_RO.csv\n",
      "consulta_cand_2020_RR.csv\n",
      "consulta_cand_2020_RS.csv\n",
      "consulta_cand_2020_SC.csv\n",
      "consulta_cand_2020_SE.csv\n",
      "consulta_cand_2020_SP.csv\n",
      "consulta_cand_2020_TO.csv\n"
     ]
    }
   ],
   "source": [
    "print('Arquivos com extensão csv Candidato:')\n",
    "concatenar = []\n",
    "with os.scandir(dirCandidatoAnalise) as arqs:\n",
    "    for arq in arqs:\n",
    "        if arq.is_file() and  arq.name.endswith('.csv'):\n",
    "             print(arq.name)\n",
    "    path = dirCandidatoAnalise\n",
    "    # csv files in the path\n",
    "    files = glob.glob(path + \"/*.csv\")\n",
    "    # defining an empty list to store \n",
    "    # content\n",
    "    data_frame = pd.DataFrame()\n",
    "    content = []\n",
    "    # checking all the csv files in the \n",
    "    # specified path\n",
    "    for filename in files:\n",
    "        df = pd.read_csv(filename, encoding = \"Latin 1\", sep= \";\", decimal = ',', \n",
    "            error_bad_lines=False,dtype={\"SQ_CANDIDATO\": int, \"ANO_ELEICAO\": int,\"SG_UF\" : \"string\", \"NR_TURNO\": int,\"HH_GERACAO\" : object ,\"CD_TIPO_ELEICAO\" : int,\"NM_TIPO_ELEICAO\" : \"string\",\"CD_ELEICAO\" : \"string\",\"DS_ELEICAO\" : \"string\",\"DT_ELEICAO\" : \"string\",\"TP_ABRANGENCIA\" : \"string\",\"SG_UE\" : \"string\",\"NM_UE\" : \"string\",\"CD_CARGO\" : int,\"DS_CARGO\" : \"string\",\"NR_CANDIDATO\" : int,\"NM_CANDIDATO\" : \"string\",\"NM_URNA_CANDIDATO\" : \"string\",\"NM_SOCIAL_CANDIDATO\" : \"string\",\"NR_CPF_CANDIDATO\" : \"string\",\"NM_EMAIL\" : \"string\",\"CD_SITUACAO_CANDIDATURA\" : \"string\",\"DS_SITUACAO_CANDIDATURA\" : \"string\",\"CD_DETALHE_SITUACAO_CAND\" : \"string\",\"DS_DETALHE_SITUACAO_CAND\" : \"string\",\"TP_AGREMIACAO\" : \"string\",\"NR_PARTIDO\" : int,\"SG_PARTIDO\" : \"string\",\"NM_PARTIDO\" : \"string\",\"SQ_COLIGACAO\" : \"string\",\"NM_COLIGACAO\" : \"string\",\"DS_COMPOSICAO_COLIGACAO\" : \"string\",\"CD_NACIONALIDADE\" : int,\"DS_NACIONALIDADE\" : \"string\",\"SG_UF_NASCIMENTO\" : \"string\",\"CD_MUNICIPIO_NASCIMENTO\" : \"string\",\"NM_MUNICIPIO_NASCIMENTO\" : \"string\",\"DT_NASCIMENTO\" : \"string\",\"NR_IDADE_DATA_POSSE\" : float ,\"NR_TITULO_ELEITORAL_CANDIDATO\" : \"string\",\"CD_GENERO\" : int,\"DS_GENERO\" : \"string\",\"CD_GRAU_INSTRUCAO\" : int,\"DS_GRAU_INSTRUCAO\" : \"string\",\"CD_ESTADO_CIVIL\" : int,\"DS_ESTADO_CIVIL\" : \"string\",\"CD_OCUPACAO\" : \"string\", \"DS_OCUPACAO\" : \"string\",\"VR_DESPESA_MAX_CAMPANHA\" : \"string\",\"CD_SIT_TOT_TURNO\" : \"string\",\"DS_SIT_TOT_TURNO\" : \"string\",\"ST_REELEICAO\" : \"string\",\"ST_DECLARAR_BENS\" : \"string\",\"NR_PROTOCOLO_CANDIDATURA\" : \"string\",\"NR_PROCESSO\" : \"string\" ,\"CD_SITUACAO_CANDIDATO_PLEITO\" : \"string\",\"DS_SITUACAO_CANDIDATO_PLEITO\" : \"string\",\"CD_SITUACAO_CANDIDATO_URNA\" : \"string\", \"DS_SITUACAO_CANDIDATO_URNA\" : \"string\",\"ST_CANDIDATO_INSERIDO_URNA\" : \"string\"})\n",
    "        df.drop_duplicates()\n",
    "        content.append(df)\n",
    "    # converting content to data frame\n",
    "    data_frame = pd.concat(content).drop_duplicates()"
   ]
  },
  {
   "cell_type": "code",
   "execution_count": null,
   "id": "28b2fa3b",
   "metadata": {},
   "outputs": [],
   "source": [
    "data_frame.dtypes"
   ]
  },
  {
   "cell_type": "code",
   "execution_count": null,
   "id": "9b17bb14",
   "metadata": {},
   "outputs": [],
   "source": [
    "#Calcula o total e a % de valores ausentes\n",
    "num_ausentes = data_frame.isna().sum()\n",
    "porc_ausentes = data_frame.isna().sum() * 100 / len(data_frame)\n",
    "df_ausentes = pd.DataFrame({\n",
    "    'Coluna': data_frame.columns,\n",
    "    'Dados ausentes': num_ausentes,\n",
    "    'Porcentagem': porc_ausentes\n",
    "})\n",
    "df_ausentes"
   ]
  },
  {
   "cell_type": "code",
   "execution_count": null,
   "id": "34e25595",
   "metadata": {
    "scrolled": true
   },
   "outputs": [],
   "source": [
    "display(data_frame.head())\n",
    "# Imprimindo as últimas linhas\n",
    "display(data_frame.tail())\n",
    "# Informações do nosso DataFrame\n",
    "data_frame.describe()\n",
    "# Dimensões do df_dados\n",
    "data_frame.shape\n",
    "plt.hist(x = data_frame['ANO_ELEICAO'] )\n"
   ]
  },
  {
   "cell_type": "code",
   "execution_count": null,
   "id": "2c9b4165",
   "metadata": {},
   "outputs": [],
   "source": []
  },
  {
   "cell_type": "markdown",
   "id": "4f66f19c",
   "metadata": {},
   "source": [
    "<b>2) Dados Cassacao</b>"
   ]
  },
  {
   "cell_type": "code",
   "execution_count": null,
   "id": "17292d23",
   "metadata": {},
   "outputs": [],
   "source": [
    "# O corr() método do Pandas DataFrame  é usado para calcular a matriz. \n",
    "# Por padrão, ele calcula o coeficiente de correlação de Pearson\n",
    "correlation_mat = data_frame.corr(method='pearson')\n",
    "# Definindo as configurações do Gráfico\n",
    "fig = plt.figure(figsize=(8,4))\n",
    "eixo = fig.add_axes([0, 0, 1, 1])\n",
    "# Usando o método heatmap para traçar a Matriz\n",
    "# O parâmetro ' annot=True' exibe os valores do coeficiente de correlação em cada célula.\n",
    "sns.heatmap(correlation_mat, annot = True, linewidth=0.5)\n",
    "# Definindo titulo e labels do gráfico\n",
    "eixo.set_title('Matriz de Correlação dos atributos', fontsize=15, pad=20)\n",
    "eixo.set_xlabel (\"características do núcleo da célula\")\n",
    "eixo.set_ylabel (\"características do núcleo da célula\")\n"
   ]
  },
  {
   "cell_type": "markdown",
   "id": "b579a1cf",
   "metadata": {},
   "source": [
    "<b> 3 - Dados Bens </b>"
   ]
  },
  {
   "cell_type": "code",
   "execution_count": null,
   "id": "0bd4c708",
   "metadata": {},
   "outputs": [],
   "source": [
    "print('Arquivos com extensão csv Cassação:')\n",
    "concatenar = []\n",
    "with os.scandir(dirCandidatoCassacaoAnalise) as arqs:\n",
    "    for arq in arqs:\n",
    "        if arq.is_file() and  arq.name.endswith('.csv'):\n",
    "             print(arq.name)\n",
    "    path = dirCandidatoCassacaoAnalise\n",
    "    # csv files in the path\n",
    "    files = glob.glob(path + \"/*.csv\")\n",
    "    # defining an empty list to store \n",
    "    # content\n",
    "    data_frame_cassacao = pd.DataFrame()\n",
    "    content_situacao = []\n",
    "    # checking all the csv files in the \n",
    "    # specified path\n",
    "    for filename in files:\n",
    "        dfs = pd.read_csv(filename, encoding = \"Latin 1\", sep= \";\", decimal = ',', error_bad_lines=False, dtype={\"SQ_CANDIDATO\": int, \"ANO_ELEICAO\": int})\n",
    "        content_situacao.append(dfs)\n",
    "    # converting content to data frame\n",
    "    data_frame_cassacao = pd.concat(content_situacao).drop_duplicates()"
   ]
  },
  {
   "cell_type": "code",
   "execution_count": null,
   "id": "f8d5eb76",
   "metadata": {},
   "outputs": [],
   "source": [
    "display(data_frame_cassacao.head())\n",
    "# Imprimindo as últimas linhas\n",
    "display(data_frame_cassacao.tail())\n",
    "# Informações do nosso DataFrame\n",
    "data_frame_cassacao.describe()\n",
    "# Dimensões do df_dados\n",
    "data_frame_cassacao.shape"
   ]
  },
  {
   "cell_type": "code",
   "execution_count": null,
   "id": "77b57a59",
   "metadata": {},
   "outputs": [],
   "source": [
    "print('Arquivos com extensão csv Bens:')\n",
    "concatenar = []\n",
    "with os.scandir(dirBemCandidato) as arqs:\n",
    "    for arq in arqs:\n",
    "        if arq.is_file() and  arq.name.endswith('.csv'):\n",
    "             print(arq.name)\n",
    "    path = dirBemCandidato\n",
    "    # csv files in the path\n",
    "    files = glob.glob(path + \"/*.csv\")\n",
    "    # defining an empty list to store \n",
    "    # content\n",
    "    data_frame_Bem_candidato = pd.DataFrame()\n",
    "    content_situacao_bem = []\n",
    "    # checking all the csv files in the \n",
    "    # specified path\n",
    "    for filename in files:\n",
    "        dfsb = pd.read_csv(filename, encoding = \"Latin 1\", sep= \";\", decimal = ',', error_bad_lines=False, dtype={\"SQ_CANDIDATO\": int, \"ANO_ELEICAO\": int})\n",
    "        content_situacao_bem.append(dfsb)\n",
    "    # converting content to data frame\n",
    "    data_frame_Bem_candidato = pd.concat(content_situacao_bem).drop_duplicates()"
   ]
  },
  {
   "cell_type": "code",
   "execution_count": null,
   "id": "4df63771",
   "metadata": {},
   "outputs": [],
   "source": [
    "dfAjuste = data_frame_Bem_candidato.loc[(data_frame_Bem_candidato['VR_BEM_CANDIDATO'] > 10000000)]\n",
    "dfAjuste.info()"
   ]
  },
  {
   "cell_type": "code",
   "execution_count": null,
   "id": "a70e2377",
   "metadata": {},
   "outputs": [],
   "source": []
  },
  {
   "cell_type": "code",
   "execution_count": null,
   "id": "a578a1cd",
   "metadata": {},
   "outputs": [],
   "source": [
    "data_frame_Bem_candidato['VR_BEM_CANDIDATO'].min()"
   ]
  },
  {
   "cell_type": "code",
   "execution_count": null,
   "id": "c006ecbc",
   "metadata": {},
   "outputs": [],
   "source": [
    "#Plotagem do histograma dos valores dos bens dos candidatos\n",
    "dfAjuste.VR_BEM_CANDIDATO.hist(bins=100) \n",
    "plt.style.use('seaborn-pastel')\n",
    "plt.xlabel(\"Valor\")\n",
    "plt.ylabel(\"Número de bens\")\n",
    "plt.title(\"Bens candidatos - valores\")\n",
    "plt.show()"
   ]
  },
  {
   "cell_type": "code",
   "execution_count": null,
   "id": "5479a235",
   "metadata": {},
   "outputs": [],
   "source": [
    "data_frame_Bem_candidato['VR_BEM_CANDIDATO'].describe().astype('int')"
   ]
  },
  {
   "cell_type": "code",
   "execution_count": null,
   "id": "ae44032c",
   "metadata": {},
   "outputs": [],
   "source": [
    "for index, row in dfAjuste.iterrows():\n",
    "    print(index)\n",
    "    print('Candidato: ' + str(row['SQ_CANDIDATO']))\n",
    "    print('Ano: ' + str(row['ANO_ELEICAO']))\n",
    "    print('Tipo de Bem: ' + str(row['DS_TIPO_BEM_CANDIDATO']))\n",
    "    print('Descrição: ' + str(row['DS_BEM_CANDIDATO']))\n",
    "    print('Valor ' + str(row['VR_BEM_CANDIDATO']) + '\\n')\n",
    "    "
   ]
  },
  {
   "cell_type": "code",
   "execution_count": null,
   "id": "b3799926",
   "metadata": {},
   "outputs": [],
   "source": [
    "data_frame_Bem_candidato.at[43715, 'VR_BEM_CANDIDATO' ] = 21000\n",
    "data_frame_Bem_candidato.at[27403, 'VR_BEM_CANDIDATO' ] = 50000"
   ]
  },
  {
   "cell_type": "code",
   "execution_count": null,
   "id": "0af7ff02",
   "metadata": {},
   "outputs": [],
   "source": [
    "data_frame_Bem_candidato.loc[(data_frame_Bem_candidato['SQ_CANDIDATO'] == -1669140533)]\n",
    "\n"
   ]
  },
  {
   "cell_type": "code",
   "execution_count": null,
   "id": "f92f22c6",
   "metadata": {},
   "outputs": [],
   "source": [
    "display(data_frame_Bem_candidato.head())\n",
    "# Imprimindo as últimas linhas\n",
    "display(data_frame_Bem_candidato.tail())\n",
    "# Informações do nosso DataFrame\n",
    "data_frame_Bem_candidato.describe()\n",
    "# Dimensões do df_dados\n",
    "data_frame_Bem_candidato.shape\n",
    "#CD_TIPO_BEM_CANDIDATO,DS_TIPO_BEM_CANDIDATO,DS_BEM_CANDIDATO,VR_BEM_CANDIDATO"
   ]
  },
  {
   "cell_type": "markdown",
   "id": "73df3c21",
   "metadata": {},
   "source": [
    "<b>3) Resultado Cassação </b>"
   ]
  },
  {
   "cell_type": "code",
   "execution_count": null,
   "id": "0d6f7a39",
   "metadata": {},
   "outputs": [],
   "source": [
    "#Calcula o total e a % de valores ausentes\n",
    "num_ausentes = data_frame_cassacao.isna().sum()\n",
    "porc_ausentes = data_frame_cassacao.isna().sum() * 100 / len(data_frame_cassacao)\n",
    "df_ausentes = pd.DataFrame({\n",
    "    'Coluna': data_frame_cassacao.columns,\n",
    "    'Dados ausentes': num_ausentes,\n",
    "    'Porcentagem': porc_ausentes\n",
    "})\n",
    "df_ausentes"
   ]
  },
  {
   "cell_type": "markdown",
   "id": "3217075f",
   "metadata": {},
   "source": [
    "ANALISE DADOS"
   ]
  },
  {
   "cell_type": "code",
   "execution_count": null,
   "id": "133cbfc4",
   "metadata": {},
   "outputs": [],
   "source": [
    "df_cpnt = data_frame.groupby('ANO_ELEICAO').sum()\n",
    "df_cpnt.info()"
   ]
  },
  {
   "cell_type": "code",
   "execution_count": null,
   "id": "70379d5b",
   "metadata": {},
   "outputs": [],
   "source": [
    "df_cpnt"
   ]
  },
  {
   "cell_type": "code",
   "execution_count": null,
   "id": "f4a51950",
   "metadata": {},
   "outputs": [],
   "source": [
    "df_cpnt['CD_CARGO'].unique()"
   ]
  },
  {
   "cell_type": "code",
   "execution_count": null,
   "id": "727e530b",
   "metadata": {},
   "outputs": [],
   "source": [
    "#Seleção das colunas de interesse\n",
    "df_consulta_candidato = data_frame[['SQ_CANDIDATO','ANO_ELEICAO','NR_CANDIDATO', 'NM_CANDIDATO', 'DS_CARGO','NR_PARTIDO','SG_PARTIDO','SG_UF','SG_UE','DS_SIT_TOT_TURNO','NR_IDADE_DATA_POSSE','DS_GENERO', 'DS_GRAU_INSTRUCAO','DS_ESTADO_CIVIL','DS_COR_RACA','DS_SIT_TOT_TURNO','ST_REELEICAO', 'TP_ABRANGENCIA','DS_SIT_TOT_TURNO','ST_REELEICAO','ST_DECLARAR_BENS','CD_GENERO','CD_GRAU_INSTRUCAO']]"
   ]
  },
  {
   "cell_type": "code",
   "execution_count": null,
   "id": "bdede393",
   "metadata": {},
   "outputs": [],
   "source": [
    "#Seleção das colunas de interesse\n",
    "df_consulta_cassacao = data_frame_cassacao[['SQ_CANDIDATO','ANO_ELEICAO','DS_MOTIVO_CASSACAO']]\n",
    "display(df_consulta_cassacao.head())\n",
    "# Imprimindo as últimas linhas\n",
    "display(df_consulta_cassacao.tail())\n",
    "# Informações do nosso DataFrame\n",
    "df_consulta_cassacao.describe()\n"
   ]
  },
  {
   "cell_type": "code",
   "execution_count": null,
   "id": "77dd6149",
   "metadata": {},
   "outputs": [],
   "source": [
    "# Definindo as configurações do Gráfico\n",
    "df_consulta_cassacao.hist(color=\"#cf1e4d\", figsize=(12,10))\n",
    "plt.show()"
   ]
  },
  {
   "cell_type": "code",
   "execution_count": null,
   "id": "29aa79b1",
   "metadata": {},
   "outputs": [],
   "source": [
    "data_frame['SQ_CANDIDATO'].unique()\n",
    "data_frame.dtypes"
   ]
  },
  {
   "cell_type": "code",
   "execution_count": null,
   "id": "ab1c2b9f",
   "metadata": {},
   "outputs": [],
   "source": [
    "mergeDf = pd.merge(df_consulta_candidato, df_consulta_cassacao, on=['SQ_CANDIDATO','ANO_ELEICAO'], how=\"left\")"
   ]
  },
  {
   "cell_type": "code",
   "execution_count": null,
   "id": "abb29a56",
   "metadata": {},
   "outputs": [],
   "source": [
    "display(mergeDf.head())\n",
    "# Imprimindo as últimas linhas\n",
    "display(mergeDf.tail())\n",
    "# Informações do nosso DataFrame\n",
    "mergeDf.describe()\n"
   ]
  },
  {
   "cell_type": "code",
   "execution_count": null,
   "id": "5654c492",
   "metadata": {},
   "outputs": [],
   "source": []
  },
  {
   "cell_type": "code",
   "execution_count": null,
   "id": "6a1c2d3b",
   "metadata": {},
   "outputs": [],
   "source": [
    "# Definindo as configurações do Gráfico\n",
    "mergeDf.hist(color=\"#cf1e4d\", figsize=(12,10))\n",
    "plt.show()"
   ]
  },
  {
   "cell_type": "code",
   "execution_count": null,
   "id": "59db725b",
   "metadata": {},
   "outputs": [],
   "source": [
    "pd.isnull(mergeDf['NR_IDADE_DATA_POSSE'])"
   ]
  },
  {
   "cell_type": "code",
   "execution_count": null,
   "id": "67e05482",
   "metadata": {},
   "outputs": [],
   "source": [
    "#removendo dados com todas linhas faltando dados\n",
    "mergeDf.dropna(how='all', inplace=True)\n",
    "#descobrindo a idade média\n",
    "media = round(mergeDf['NR_IDADE_DATA_POSSE'].mean(),0)\n",
    "print(media)\n",
    "# Preenchendo a coluna com o valor da média:\n",
    "mergeDf.update(mergeDf['NR_IDADE_DATA_POSSE'].fillna(media))\n",
    "# Dimensões do df_dados\n",
    "mergeDf.shape"
   ]
  },
  {
   "cell_type": "code",
   "execution_count": null,
   "id": "006cfd8d",
   "metadata": {},
   "outputs": [],
   "source": [
    "#Calcula o total e a % de valores ausentes\n",
    "num_ausentes = mergeDf.isna().sum()\n",
    "porc_ausentes = mergeDf.isna().sum() * 100 / len(mergeDf)\n",
    "df_ausentes = pd.DataFrame({\n",
    "    'Coluna': mergeDf.columns,\n",
    "    'Dados ausentes': num_ausentes,\n",
    "    'Porcentagem': porc_ausentes\n",
    "})\n",
    "df_ausentes"
   ]
  },
  {
   "cell_type": "code",
   "execution_count": null,
   "id": "59248b5a",
   "metadata": {},
   "outputs": [],
   "source": [
    "mergeDf['NR_IDADE_DATA_POSSE'].describe()"
   ]
  },
  {
   "cell_type": "code",
   "execution_count": null,
   "id": "ef7451d9",
   "metadata": {},
   "outputs": [],
   "source": []
  },
  {
   "cell_type": "code",
   "execution_count": null,
   "id": "f03aa995",
   "metadata": {},
   "outputs": [],
   "source": [
    "df_candidato_cassa = mergeDf[['SQ_CANDIDATO','ANO_ELEICAO','NR_CANDIDATO', 'NM_CANDIDATO', 'DS_CARGO','NR_PARTIDO','SG_PARTIDO' ,'SG_UF','SG_UE','DS_SIT_TOT_TURNO',\n",
    "'NR_IDADE_DATA_POSSE','DS_GENERO', 'DS_GRAU_INSTRUCAO','DS_ESTADO_CIVIL','DS_COR_RACA','DS_SIT_TOT_TURNO',\n",
    "'ST_REELEICAO', 'TP_ABRANGENCIA','DS_SIT_TOT_TURNO','ST_REELEICAO','ST_DECLARAR_BENS','CD_GENERO',\n",
    "'CD_GRAU_INSTRUCAO', 'DS_MOTIVO_CASSACAO']]\n",
    "\n",
    "\n"
   ]
  },
  {
   "cell_type": "code",
   "execution_count": null,
   "id": "bde94dfc",
   "metadata": {},
   "outputs": [],
   "source": [
    "df_candidato_cassa"
   ]
  },
  {
   "cell_type": "code",
   "execution_count": null,
   "id": "7ff5083e",
   "metadata": {},
   "outputs": [],
   "source": [
    "mergeCanBem = pd.merge(df_candidato_cassa, data_frame_Bem_candidato, on=['SQ_CANDIDATO','ANO_ELEICAO'], how=\"left\")"
   ]
  },
  {
   "cell_type": "code",
   "execution_count": null,
   "id": "856ed441",
   "metadata": {},
   "outputs": [],
   "source": [
    "mergeCanBem.isnull().sum()"
   ]
  },
  {
   "cell_type": "code",
   "execution_count": null,
   "id": "977035c4",
   "metadata": {},
   "outputs": [],
   "source": [
    "mergeCanBem.fillna(0, inplace = True)"
   ]
  },
  {
   "cell_type": "code",
   "execution_count": null,
   "id": "51e58edd",
   "metadata": {},
   "outputs": [],
   "source": [
    "mergeCanBem.info()"
   ]
  },
  {
   "cell_type": "code",
   "execution_count": null,
   "id": "5113a5ca",
   "metadata": {},
   "outputs": [],
   "source": [
    "mergeCanBem.isnull().sum()"
   ]
  },
  {
   "cell_type": "code",
   "execution_count": null,
   "id": "05982cd6",
   "metadata": {},
   "outputs": [],
   "source": [
    "mergeCanBem.info()"
   ]
  },
  {
   "cell_type": "code",
   "execution_count": null,
   "id": "0e90f82e",
   "metadata": {},
   "outputs": [],
   "source": [
    "mergeCanBem['DS_MOTIVO_CASSACAO'].unique()"
   ]
  },
  {
   "cell_type": "code",
   "execution_count": null,
   "id": "8d23180f",
   "metadata": {},
   "outputs": [],
   "source": [
    "mergeCanBem['DS_CARGO'].unique()"
   ]
  },
  {
   "cell_type": "code",
   "execution_count": null,
   "id": "2f8d6f20",
   "metadata": {},
   "outputs": [],
   "source": []
  },
  {
   "cell_type": "code",
   "execution_count": null,
   "id": "d5962871",
   "metadata": {},
   "outputs": [],
   "source": [
    "# Gráfico de Matriz de Correlação \n",
    "df_small = mergeCanBem.copy()\n",
    "# O corr() método do Pandas DataFrame  é usado para calcular a matriz. \n",
    "# Por padrão, ele calcula o coeficiente de correlação de Pearson\n",
    "correlation_mat = df_small.corr(method='pearson')\n",
    "# Definindo as configurações do Gráfico\n",
    "fig = plt.figure(figsize=(8,4))\n",
    "eixo = fig.add_axes([0, 0, 1, 1])\n",
    "# Usando o método heatmap para traçar a Matriz\n",
    "# O parâmetro ' annot=True' exibe os valores do coeficiente de correlação em cada célula.\n",
    "sns.heatmap(correlation_mat, annot = True, linewidth=0.5)\n",
    "# Definindo titulo e labels do gráfico\n",
    "eixo.set_title('Matriz de Correlação dos atributos', fontsize=15, pad=20)\n",
    "eixo.set_xlabel (\"características do núcleo da célula\")\n",
    "eixo.set_ylabel (\"características do núcleo da célula\")\n"
   ]
  },
  {
   "cell_type": "code",
   "execution_count": null,
   "id": "7ee54bfb",
   "metadata": {},
   "outputs": [],
   "source": [
    "correlation_mat = df_small.corr(method='pearson')\n",
    "corr_pairs = correlation_mat.unstack()\n",
    "corr_pairs"
   ]
  },
  {
   "cell_type": "code",
   "execution_count": null,
   "id": "dda4e198",
   "metadata": {},
   "outputs": [],
   "source": [
    "sorted_pairs = corr_pairs.sort_values(kind=\"quicksort\")\n",
    "print(sorted_pairs)"
   ]
  },
  {
   "cell_type": "code",
   "execution_count": null,
   "id": "a4d62cda",
   "metadata": {},
   "outputs": [],
   "source": [
    "negative_pairs = sorted_pairs[sorted_pairs < 0]\n",
    "print(negative_pairs)"
   ]
  },
  {
   "cell_type": "code",
   "execution_count": null,
   "id": "71643b92",
   "metadata": {},
   "outputs": [],
   "source": [
    "strong_pairs = sorted_pairs[abs(sorted_pairs) > 0.5]\n",
    "print(strong_pairs)"
   ]
  },
  {
   "cell_type": "code",
   "execution_count": null,
   "id": "59ada72b",
   "metadata": {},
   "outputs": [],
   "source": [
    "# Realizando a ordenação dos resultados\n",
    "mergeCanBem.skew().sort_values(kind=\"quicksort\")"
   ]
  },
  {
   "cell_type": "code",
   "execution_count": null,
   "id": "19397abd",
   "metadata": {},
   "outputs": [],
   "source": [
    "# Gráfico Histogramas \n",
    "df_small = mergeCanBem.copy()\n",
    "# Definindo as configurações do Gráfico\n",
    "df_small.hist(color=\"#cf1e4d\", figsize=(12,10))\n",
    "plt.show()"
   ]
  },
  {
   "cell_type": "code",
   "execution_count": null,
   "id": "91e40fed",
   "metadata": {
    "scrolled": true
   },
   "outputs": [],
   "source": [
    "mergeCanBem"
   ]
  },
  {
   "cell_type": "code",
   "execution_count": null,
   "id": "eb439700",
   "metadata": {},
   "outputs": [],
   "source": [
    "mergeCanBem['DS_MOTIVO_CASSACAO'].unique()"
   ]
  },
  {
   "cell_type": "code",
   "execution_count": null,
   "id": "47e3b6c0",
   "metadata": {},
   "outputs": [],
   "source": [
    "mergeCanBem['DS_CARGO'].unique()"
   ]
  },
  {
   "cell_type": "code",
   "execution_count": null,
   "id": "17cd5547",
   "metadata": {},
   "outputs": [],
   "source": [
    "cassados = mergeCanBem.loc[mergeCanBem['DS_MOTIVO_CASSACAO'].notnull()]"
   ]
  },
  {
   "cell_type": "code",
   "execution_count": null,
   "id": "b5c05a7e",
   "metadata": {},
   "outputs": [],
   "source": [
    "cassados['DS_CARGO'].unique()"
   ]
  },
  {
   "cell_type": "code",
   "execution_count": null,
   "id": "a24de7b6",
   "metadata": {},
   "outputs": [],
   "source": [
    "cassados.loc[cassados['ANO_ELEICAO'] == '2016']"
   ]
  },
  {
   "cell_type": "markdown",
   "id": "017c1b86",
   "metadata": {},
   "source": [
    "Para iniciar a exploração dos dados será apresentado um sumário estatístico \n",
    "das variáveis com dados numéricos"
   ]
  },
  {
   "cell_type": "code",
   "execution_count": null,
   "id": "ed861208",
   "metadata": {},
   "outputs": [],
   "source": [
    "data_frame_Bem_candidato.describe().round(2).astype(str)"
   ]
  },
  {
   "cell_type": "code",
   "execution_count": null,
   "id": "5815a4c5",
   "metadata": {},
   "outputs": [],
   "source": [
    "cassados[['SQ_CANDIDATO','ANO_ELEICAO','VR_BEM_CANDIDATO']]"
   ]
  },
  {
   "cell_type": "code",
   "execution_count": null,
   "id": "7593df3e",
   "metadata": {},
   "outputs": [],
   "source": [
    "cassados[['ANO_ELEICAO','VR_BEM_CANDIDATO']].boxplot(figsize=(16,4))"
   ]
  },
  {
   "cell_type": "code",
   "execution_count": null,
   "id": "7872e9a3",
   "metadata": {},
   "outputs": [],
   "source": [
    "fig, ax1 = plt.subplots(figsize=(15,5))\n",
    "ax2 = ax1.twinx()\n",
    "ax1.plot(cassados[['ANO_ELEICAO','VR_BEM_CANDIDATO']], 'b', linewidth=0.5)"
   ]
  },
  {
   "cell_type": "code",
   "execution_count": null,
   "id": "49bba978",
   "metadata": {},
   "outputs": [],
   "source": [
    "gk = cassados.groupby(['ANO_ELEICAO','DS_CARGO'])\n",
    "gk.first()"
   ]
  },
  {
   "cell_type": "code",
   "execution_count": null,
   "id": "447c9080",
   "metadata": {},
   "outputs": [],
   "source": [
    "gk = cassados.groupby('ANO_ELEICAO')['VR_BEM_CANDIDATO'].sum()\n",
    "gk"
   ]
  },
  {
   "cell_type": "code",
   "execution_count": null,
   "id": "8bae9a4d",
   "metadata": {},
   "outputs": [],
   "source": [
    "gk = cassados.groupby('ANO_ELEICAO')['VR_BEM_CANDIDATO'].mean()\n",
    "gk"
   ]
  },
  {
   "cell_type": "code",
   "execution_count": null,
   "id": "0572290f",
   "metadata": {},
   "outputs": [],
   "source": [
    "gk = cassados.groupby('ANO_ELEICAO')['VR_BEM_CANDIDATO'].min()\n",
    "gk"
   ]
  },
  {
   "cell_type": "code",
   "execution_count": null,
   "id": "c388e169",
   "metadata": {},
   "outputs": [],
   "source": [
    "gk = cassados.groupby('ANO_ELEICAO')['VR_BEM_CANDIDATO'].max()\n",
    "gk"
   ]
  },
  {
   "cell_type": "code",
   "execution_count": null,
   "id": "ee3c024d",
   "metadata": {},
   "outputs": [],
   "source": [
    "gk = cassados.groupby('SG_PARTIDO')['SG_PARTIDO'].count()\n",
    "gk"
   ]
  },
  {
   "cell_type": "code",
   "execution_count": null,
   "id": "3b81b414",
   "metadata": {},
   "outputs": [],
   "source": [
    "gk = cassados.groupby(['ANO_ELEICAO','DS_CARGO'])['DS_CARGO'].count()\n",
    "gk"
   ]
  },
  {
   "cell_type": "code",
   "execution_count": null,
   "id": "008ee696",
   "metadata": {},
   "outputs": [],
   "source": [
    "gk = cassados.groupby(['ANO_ELEICAO','DS_CARGO','SG_PARTIDO'])['SG_PARTIDO'].count()\n",
    "gk"
   ]
  },
  {
   "cell_type": "code",
   "execution_count": null,
   "id": "16f685c4",
   "metadata": {},
   "outputs": [],
   "source": [
    "gk = cassados.groupby(['ANO_ELEICAO','SG_PARTIDO','DS_CARGO'])['SG_PARTIDO'].count()\n",
    "gk.head()"
   ]
  },
  {
   "cell_type": "code",
   "execution_count": null,
   "id": "88c9d1c5",
   "metadata": {},
   "outputs": [],
   "source": [
    "gk = cassados.groupby(['ANO_ELEICAO','SG_PARTIDO','DS_CARGO'])['SG_PARTIDO'].count()\n",
    "gk"
   ]
  },
  {
   "cell_type": "code",
   "execution_count": null,
   "id": "907a91ec",
   "metadata": {},
   "outputs": [],
   "source": [
    "cassados['VR_BEM_CANDIDATO'].describe().astype('int')"
   ]
  },
  {
   "cell_type": "code",
   "execution_count": null,
   "id": "8e3ca3cf",
   "metadata": {},
   "outputs": [],
   "source": [
    "#Agrupamento dos bens por candidato\n",
    "df_bem = cassados.groupby(['SQ_CANDIDATO']).sum()"
   ]
  },
  {
   "cell_type": "code",
   "execution_count": null,
   "id": "2b78f06e",
   "metadata": {},
   "outputs": [],
   "source": [
    "df_bem.info()"
   ]
  },
  {
   "cell_type": "code",
   "execution_count": null,
   "id": "4ef38e4e",
   "metadata": {},
   "outputs": [],
   "source": [
    "#Descrição estatística do dataframe df_bem após agrupamento\n",
    "cassados['VR_BEM_CANDIDATO'].describe().astype('int')"
   ]
  },
  {
   "cell_type": "code",
   "execution_count": null,
   "id": "56538e00",
   "metadata": {},
   "outputs": [],
   "source": [
    "#Plotagem do histograma dos valores dos bens dos candidatos - corrigido\n",
    "cassados.VR_BEM_CANDIDATO.hist(bins=100)\n",
    "plt.style.use('seaborn-pastel')\n",
    "plt.xlabel(\"Valor\")\n",
    "plt.ylabel(\"Número de candidatos\")\n",
    "plt.title(\"Total de bens dos candidatos\")\n",
    "plt.show()"
   ]
  },
  {
   "cell_type": "code",
   "execution_count": null,
   "id": "16e66b97",
   "metadata": {},
   "outputs": [],
   "source": []
  },
  {
   "cell_type": "code",
   "execution_count": null,
   "id": "3de31798",
   "metadata": {},
   "outputs": [],
   "source": [
    "lula = cassados.loc[cassados['DS_CARGO'] == 'PRESIDENTE']\n"
   ]
  }
 ],
 "metadata": {
  "kernelspec": {
   "display_name": "Python 3",
   "language": "python",
   "name": "python3"
  },
  "language_info": {
   "codemirror_mode": {
    "name": "ipython",
    "version": 3
   },
   "file_extension": ".py",
   "mimetype": "text/x-python",
   "name": "python",
   "nbconvert_exporter": "python",
   "pygments_lexer": "ipython3",
   "version": "3.6.13"
  }
 },
 "nbformat": 4,
 "nbformat_minor": 5
}
