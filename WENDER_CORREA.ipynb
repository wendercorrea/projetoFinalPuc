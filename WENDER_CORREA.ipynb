{
 "cells": [
  {
   "cell_type": "markdown",
   "id": "c65f1125",
   "metadata": {},
   "source": [
    "# <h1><center>PUC Minas - PONTIFÍCIA UNIVERSIDADE CATÓLICA DE MINAS GERAIS</center></h1>\n",
    "\n",
    "<h2><center>Pós-Graduação em Ciência de Dados e Big Data</center></h2>\n",
    "\n",
    "<h3><center>TRABALHO DE CONCLUSÃO DE CURSO</center><br>\n",
    "TÍTULO:<br>\n",
    "<br>\n",
    "ALUNO: Wender Pereira Corrêa</h3>\n",
    "Matrícula:\n",
    "<p>Este notebook é referente ao Trabalho de Conclusão de Curso em Ciência de Dados e Big Data.</p>"
   ]
  },
  {
   "cell_type": "markdown",
   "id": "51598541",
   "metadata": {},
   "source": [
    "#Leitura dos dados e importação das bibliotecas utilizadas"
   ]
  },
  {
   "cell_type": "code",
   "execution_count": 1,
   "id": "6ec53464",
   "metadata": {},
   "outputs": [],
   "source": [
    "#IMPORTAÇÃO DAS BIBLIOTECAS\n",
    "import pandas as pd\n",
    "import numpy as np\n",
    "# dependências para importar e descompactar arquivos em zip\n",
    "import zipfile\n",
    "import requests\n",
    "from io import BytesIO\n",
    "import os\n",
    "import glob\n",
    "import seaborn as sns\n",
    "sns.set_theme(style=\"whitegrid\", palette=\"muted\")\n",
    "import time\n",
    "#Importação da função Counter e da biblioteca matplotlib.pyplot\n",
    "from collections import Counter\n",
    "import matplotlib.pyplot as plt\n",
    "#Plotação de um gráfico para mostrar a dispersão dos dados. \n",
    "#O % e inline significa que o gráfico será mostrado aqui no notebook, e não em um arquivo\n",
    "%matplotlib inline"
   ]
  },
  {
   "cell_type": "code",
   "execution_count": 2,
   "id": "1efc62df",
   "metadata": {},
   "outputs": [],
   "source": [
    "from io import StringIO "
   ]
  },
  {
   "cell_type": "code",
   "execution_count": 3,
   "id": "c7e0c54e",
   "metadata": {},
   "outputs": [],
   "source": [
    "import warnings\n",
    "warnings.filterwarnings(\"ignore\")"
   ]
  },
  {
   "cell_type": "code",
   "execution_count": 4,
   "id": "4e594484",
   "metadata": {},
   "outputs": [],
   "source": [
    "#Definindo a pasta de trabalho\n",
    "dirCandidatoAnalise         = \"./candidatoAnalise\"\n",
    "dirCandidatoCassacaoAnalise = \"./candidatoCassacaoAnalise\" \n",
    " \n",
    "os.makedirs(dirCandidatoAnalise, exist_ok=True)\n",
    "os.makedirs(dirCandidatoCassacaoAnalise, exist_ok=True)\n",
    "\n",
    "headers = {'User-Agent': 'Mozilla/5.0 (Windows NT 10.0; Win64; x64) AppleWebKit/537.36 (KHTML, like Gecko) Chrome/74.0.3729.169 Safari/537.36'}\n"
   ]
  },
  {
   "cell_type": "code",
   "execution_count": 5,
   "id": "5e367389",
   "metadata": {},
   "outputs": [],
   "source": [
    "def descompactar(nome_arquivo_compactado, diretorio):\n",
    "    #Lê o arquivo compactado e extrai o conteúdo\n",
    "    #print(nome_arquivo_compactado)\n",
    "    filebytes = BytesIO(\n",
    "        requests.get(nome_arquivo_compactado, stream=True, headers=headers).content\n",
    "    )\n",
    "    myzip = zipfile.ZipFile(filebytes)\n",
    "    myzip.extractall(diretorio)\n",
    "    return \"Concluído\""
   ]
  },
  {
   "cell_type": "markdown",
   "id": "99164951",
   "metadata": {},
   "source": [
    "<b>1) Dados Politicos</b>"
   ]
  },
  {
   "cell_type": "code",
   "execution_count": 6,
   "id": "ef4a0be6",
   "metadata": {},
   "outputs": [],
   "source": [
    "ca = 2014\n",
    "while ca < 2022:\n",
    "    urlCandidatoAnalise = \"https://cdn.tse.jus.br/estatistica/sead/odsele/consulta_cand/consulta_cand_\" + str(ca)+ \".zip\"\n",
    "    descompactar(urlCandidatoAnalise,dirCandidatoAnalise)\n",
    "    urlCandidatoCassacaoAnalise = \"https://cdn.tse.jus.br/estatistica/sead/odsele/motivo_cassacao/motivo_cassacao_\" + str(ca)+ \".zip\"\n",
    "    descompactar(urlCandidatoCassacaoAnalise,dirCandidatoCassacaoAnalise)\n",
    "    ca+=2"
   ]
  },
  {
   "cell_type": "markdown",
   "id": "391c6b73",
   "metadata": {},
   "source": [
    "<b>1) Dados Candidato</b>"
   ]
  },
  {
   "cell_type": "code",
   "execution_count": null,
   "id": "15932791",
   "metadata": {},
   "outputs": [
    {
     "name": "stdout",
     "output_type": "stream",
     "text": [
      "Arquivos com extensão csv Candidato:\n",
      "consulta_cand_2014_AC.csv\n",
      "consulta_cand_2014_AL.csv\n",
      "consulta_cand_2014_AM.csv\n",
      "consulta_cand_2014_AP.csv\n",
      "consulta_cand_2014_BA.csv\n",
      "consulta_cand_2014_BR.csv\n",
      "consulta_cand_2014_BRASIL.csv\n",
      "consulta_cand_2014_CE.csv\n",
      "consulta_cand_2014_DF.csv\n",
      "consulta_cand_2014_ES.csv\n",
      "consulta_cand_2014_GO.csv\n",
      "consulta_cand_2014_MA.csv\n",
      "consulta_cand_2014_MG.csv\n",
      "consulta_cand_2014_MS.csv\n",
      "consulta_cand_2014_MT.csv\n",
      "consulta_cand_2014_PA.csv\n",
      "consulta_cand_2014_PB.csv\n",
      "consulta_cand_2014_PE.csv\n",
      "consulta_cand_2014_PI.csv\n",
      "consulta_cand_2014_PR.csv\n",
      "consulta_cand_2014_RJ.csv\n",
      "consulta_cand_2014_RN.csv\n",
      "consulta_cand_2014_RO.csv\n",
      "consulta_cand_2014_RR.csv\n",
      "consulta_cand_2014_RS.csv\n",
      "consulta_cand_2014_SC.csv\n",
      "consulta_cand_2014_SE.csv\n",
      "consulta_cand_2014_SP.csv\n",
      "consulta_cand_2014_TO.csv\n",
      "consulta_cand_2016_AC.csv\n",
      "consulta_cand_2016_AL.csv\n",
      "consulta_cand_2016_AM.csv\n",
      "consulta_cand_2016_AP.csv\n",
      "consulta_cand_2016_BA.csv\n",
      "consulta_cand_2016_BRASIL.csv\n",
      "consulta_cand_2016_CE.csv\n",
      "consulta_cand_2016_ES.csv\n",
      "consulta_cand_2016_GO.csv\n",
      "consulta_cand_2016_MA.csv\n",
      "consulta_cand_2016_MG.csv\n",
      "consulta_cand_2016_MS.csv\n",
      "consulta_cand_2016_MT.csv\n",
      "consulta_cand_2016_PA.csv\n",
      "consulta_cand_2016_PB.csv\n",
      "consulta_cand_2016_PE.csv\n",
      "consulta_cand_2016_PI.csv\n",
      "consulta_cand_2016_PR.csv\n",
      "consulta_cand_2016_RJ.csv\n",
      "consulta_cand_2016_RN.csv\n",
      "consulta_cand_2016_RO.csv\n",
      "consulta_cand_2016_RR.csv\n",
      "consulta_cand_2016_RS.csv\n",
      "consulta_cand_2016_SC.csv\n",
      "consulta_cand_2016_SE.csv\n",
      "consulta_cand_2016_SP.csv\n",
      "consulta_cand_2016_TO.csv\n",
      "consulta_cand_2018_AC.csv\n",
      "consulta_cand_2018_AL.csv\n",
      "consulta_cand_2018_AM.csv\n",
      "consulta_cand_2018_AP.csv\n",
      "consulta_cand_2018_BA.csv\n",
      "consulta_cand_2018_BR.csv\n",
      "consulta_cand_2018_BRASIL.csv\n",
      "consulta_cand_2018_CE.csv\n",
      "consulta_cand_2018_DF.csv\n",
      "consulta_cand_2018_ES.csv\n",
      "consulta_cand_2018_GO.csv\n",
      "consulta_cand_2018_MA.csv\n",
      "consulta_cand_2018_MG.csv\n",
      "consulta_cand_2018_MS.csv\n",
      "consulta_cand_2018_MT.csv\n",
      "consulta_cand_2018_PA.csv\n",
      "consulta_cand_2018_PB.csv\n",
      "consulta_cand_2018_PE.csv\n",
      "consulta_cand_2018_PI.csv\n",
      "consulta_cand_2018_PR.csv\n",
      "consulta_cand_2018_RJ.csv\n",
      "consulta_cand_2018_RN.csv\n",
      "consulta_cand_2018_RO.csv\n",
      "consulta_cand_2018_RR.csv\n",
      "consulta_cand_2018_RS.csv\n",
      "consulta_cand_2018_SC.csv\n",
      "consulta_cand_2018_SE.csv\n",
      "consulta_cand_2018_SP.csv\n",
      "consulta_cand_2018_TO.csv\n",
      "consulta_cand_2020_AC.csv\n",
      "consulta_cand_2020_AL.csv\n",
      "consulta_cand_2020_AM.csv\n",
      "consulta_cand_2020_AP.csv\n",
      "consulta_cand_2020_BA.csv\n",
      "consulta_cand_2020_BRASIL.csv\n",
      "consulta_cand_2020_CE.csv\n",
      "consulta_cand_2020_ES.csv\n",
      "consulta_cand_2020_GO.csv\n",
      "consulta_cand_2020_MA.csv\n",
      "consulta_cand_2020_MG.csv\n",
      "consulta_cand_2020_MS.csv\n",
      "consulta_cand_2020_MT.csv\n",
      "consulta_cand_2020_PA.csv\n",
      "consulta_cand_2020_PB.csv\n",
      "consulta_cand_2020_PE.csv\n",
      "consulta_cand_2020_PI.csv\n",
      "consulta_cand_2020_PR.csv\n",
      "consulta_cand_2020_RJ.csv\n",
      "consulta_cand_2020_RN.csv\n",
      "consulta_cand_2020_RO.csv\n",
      "consulta_cand_2020_RR.csv\n",
      "consulta_cand_2020_RS.csv\n",
      "consulta_cand_2020_SC.csv\n",
      "consulta_cand_2020_SE.csv\n",
      "consulta_cand_2020_SP.csv\n",
      "consulta_cand_2020_TO.csv\n"
     ]
    }
   ],
   "source": [
    "print('Arquivos com extensão csv Candidato:')\n",
    "concatenar = []\n",
    "with os.scandir(dirCandidatoAnalise) as arqs:\n",
    "    for arq in arqs:\n",
    "        if arq.is_file() and  arq.name.endswith('.csv'):\n",
    "             print(arq.name)\n",
    "    path = dirCandidatoAnalise\n",
    "    # csv files in the path\n",
    "    files = glob.glob(path + \"/*.csv\")\n",
    "    # defining an empty list to store \n",
    "    # content\n",
    "    data_frame = pd.DataFrame()\n",
    "    content = []\n",
    "    # checking all the csv files in the \n",
    "    # specified path\n",
    "    for filename in files:\n",
    "        df = pd.read_csv(filename, encoding = \"Latin 1\", sep= \";\", decimal = ',', \n",
    "            error_bad_lines=False,dtype={\"SQ_CANDIDATO\": int, \"ANO_ELEICAO\": int,\"SG_UF\" : \"string\", \"NR_TURNO\": int,\"HH_GERACAO\" : object ,\"CD_TIPO_ELEICAO\" : int,\"NM_TIPO_ELEICAO\" : \"string\",\"CD_ELEICAO\" : \"string\",\"DS_ELEICAO\" :\"string\",\"TP_ABRANGENCIA\" : \"string\",\"SG_UE\" : \"string\",\"NM_UE\" : \"string\",\"CD_CARGO\" : int,\"DS_CARGO\" : \"string\",\"NR_CANDIDATO\" : int,\"NM_CANDIDATO\" : \"string\",\"NM_URNA_CANDIDATO\" : \"string\",\"NM_SOCIAL_CANDIDATO\" : \"string\",\"NR_CPF_CANDIDATO\" : \"string\",\"NM_EMAIL\" : \"string\",\"CD_SITUACAO_CANDIDATURA\" : \"string\",\"DS_SITUACAO_CANDIDATURA\" : \"string\",\"CD_DETALHE_SITUACAO_CAND\" : \"string\",\"DS_DETALHE_SITUACAO_CAND\" : \"string\",\"TP_AGREMIACAO\" : \"string\",\"NR_PARTIDO\" : int,\"SG_PARTIDO\" : \"string\",\"NM_PARTIDO\" : \"string\",\"SQ_COLIGACAO\" : \"string\",\"NM_COLIGACAO\" : \"string\",\"DS_COMPOSICAO_COLIGACAO\" : \"string\",\"CD_NACIONALIDADE\" : int,\"DS_NACIONALIDADE\" : \"string\",\"SG_UF_NASCIMENTO\" : \"string\",\"CD_MUNICIPIO_NASCIMENTO\" : \"string\",\"NM_MUNICIPIO_NASCIMENTO\" : \"string\",\"DT_NASCIMENTO\" : \"string\",\"NR_IDADE_DATA_POSSE\" : float ,\"NR_TITULO_ELEITORAL_CANDIDATO\" : \"string\",\"CD_GENERO\" : int,\"DS_GENERO\" : \"string\",\"CD_GRAU_INSTRUCAO\" : int,\"DS_GRAU_INSTRUCAO\" : \"string\",\"CD_ESTADO_CIVIL\" : int,\"DS_ESTADO_CIVIL\" : \"string\",\"CD_OCUPACAO\" : \"string\", \"DS_OCUPACAO\" : \"string\",\"VR_DESPESA_MAX_CAMPANHA\" : \"string\",\"CD_SIT_TOT_TURNO\" : \"string\",\"DS_SIT_TOT_TURNO\" : \"string\",\"ST_REELEICAO\" : \"string\",\"ST_DECLARAR_BENS\" : \"string\",\"NR_PROTOCOLO_CANDIDATURA\" : \"string\",\"NR_PROCESSO\" : \"string\" ,\"CD_SITUACAO_CANDIDATO_PLEITO\" : \"string\",\"DS_SITUACAO_CANDIDATO_PLEITO\" : \"string\",\"CD_SITUACAO_CANDIDATO_URNA\" : \"string\", \"DS_SITUACAO_CANDIDATO_URNA\" : \"string\",\"ST_CANDIDATO_INSERIDO_URNA\" : \"string\"})\n",
    "        df.drop_duplicates()\n",
    "        content.append(df)\n",
    "    # converting content to data frame\n",
    "    data_frame = pd.concat(content).drop_duplicates()"
   ]
  },
  {
   "cell_type": "code",
   "execution_count": null,
   "id": "5d6342a3",
   "metadata": {},
   "outputs": [],
   "source": [
    "data_frame"
   ]
  },
  {
   "cell_type": "code",
   "execution_count": null,
   "id": "28b2fa3b",
   "metadata": {},
   "outputs": [],
   "source": [
    "data_frame.dtypes"
   ]
  },
  {
   "cell_type": "code",
   "execution_count": null,
   "id": "61f9d660",
   "metadata": {},
   "outputs": [],
   "source": [
    "idade_publico = Counter(data_frame['NR_IDADE_DATA_POSSE'])\n",
    "#Plotagem da idade dos candidatos\n",
    "plt.style.use('ggplot')\n",
    "plt.bar(idade_publico.keys(), idade_publico.values())\n",
    "plt.xlabel('Idade')\n",
    "plt.title('Idade dos Candidatos')\n",
    "plt.show()"
   ]
  },
  {
   "cell_type": "code",
   "execution_count": null,
   "id": "990e2d8d",
   "metadata": {},
   "outputs": [],
   "source": [
    "categorical_columns_df = [cname for cname in data_frame.columns if data_frame[cname].dtype == \"object\"]\n",
    "categorical_columns_df"
   ]
  },
  {
   "cell_type": "code",
   "execution_count": null,
   "id": "9b17bb14",
   "metadata": {
    "scrolled": false
   },
   "outputs": [],
   "source": [
    "#Calcula o total e a % de valores ausentes\n",
    "num_ausentes = data_frame.isna().sum()\n",
    "porc_ausentes = data_frame.isna().sum() * 100 / len(data_frame)\n",
    "df_ausentes = pd.DataFrame({\n",
    "    'Coluna': data_frame.columns,\n",
    "    'Dados ausentes': num_ausentes,\n",
    "    'Porcentagem': porc_ausentes\n",
    "})\n",
    "df_ausentes"
   ]
  },
  {
   "cell_type": "code",
   "execution_count": null,
   "id": "34e25595",
   "metadata": {
    "scrolled": false
   },
   "outputs": [],
   "source": [
    "#imprimindo as primeiras linhas\n",
    "display(data_frame.head())\n",
    "# Imprimindo as últimas linhas\n",
    "display(data_frame.tail())\n",
    "# Informações do nosso DataFrame\n",
    "data_frame.describe()\n",
    "# Dimensões do df_dados\n",
    "data_frame.shape"
   ]
  },
  {
   "cell_type": "code",
   "execution_count": null,
   "id": "742615ff",
   "metadata": {},
   "outputs": [],
   "source": [
    "res = sns.scatterplot(x=data_frame['ANO_ELEICAO'],y=data_frame['DS_CARGO'])\n",
    "fig = plt.figure(figsize=(16,8))\n",
    "plt.show()"
   ]
  },
  {
   "cell_type": "code",
   "execution_count": null,
   "id": "7dd0fa2c",
   "metadata": {},
   "outputs": [],
   "source": [
    "data_frame.values"
   ]
  },
  {
   "cell_type": "code",
   "execution_count": null,
   "id": "ac3e8ac3",
   "metadata": {},
   "outputs": [],
   "source": [
    "data_frame.columns"
   ]
  },
  {
   "cell_type": "code",
   "execution_count": null,
   "id": "afc2c52d",
   "metadata": {},
   "outputs": [],
   "source": [
    "data_frame.index"
   ]
  },
  {
   "cell_type": "markdown",
   "id": "34daae8a",
   "metadata": {},
   "source": [
    "<b> Matriz de correlação de atributos </b>"
   ]
  },
  {
   "cell_type": "code",
   "execution_count": null,
   "id": "17292d23",
   "metadata": {},
   "outputs": [],
   "source": [
    "# O corr() método do Pandas DataFrame  é usado para calcular a matriz. \n",
    "# Por padrão, ele calcula o coeficiente de correlação de Pearson\n",
    "correlation_mat = data_frame.corr(method='pearson')\n",
    "# Definindo as configurações do Gráfico\n",
    "fig = plt.figure(figsize=(8,4))\n",
    "eixo = fig.add_axes([0, 0, 1, 1])\n",
    "# Usando o método heatmap para traçar a Matriz\n",
    "# O parâmetro ' annot=True' exibe os valores do coeficiente de correlação em cada célula.\n",
    "sns.heatmap(correlation_mat, annot = True, linewidth=0.5)\n",
    "# Definindo titulo e labels do gráfico\n",
    "eixo.set_title('Matriz de Correlação dos atributos', fontsize=15, pad=20)\n",
    "eixo.set_xlabel (\"características do núcleo da célula\")\n",
    "eixo.set_ylabel (\"características do núcleo da célula\")"
   ]
  },
  {
   "cell_type": "markdown",
   "id": "b579a1cf",
   "metadata": {},
   "source": [
    "<b> 2 - Dados Cassação </b>"
   ]
  },
  {
   "cell_type": "code",
   "execution_count": null,
   "id": "0bd4c708",
   "metadata": {},
   "outputs": [],
   "source": [
    "print('Arquivos com extensão csv Cassação:')\n",
    "concatenar = []\n",
    "with os.scandir(dirCandidatoCassacaoAnalise) as arqs:\n",
    "    for arq in arqs:\n",
    "        if arq.is_file() and  arq.name.endswith('.csv'):\n",
    "             print(arq.name)\n",
    "    path = dirCandidatoCassacaoAnalise\n",
    "    # csv files in the path\n",
    "    files = glob.glob(path + \"/*.csv\")\n",
    "    # defining an empty list to store \n",
    "    # content\n",
    "    data_frame_cassacao = pd.DataFrame()\n",
    "    content_situacao = []\n",
    "    # checking all the csv files in the \n",
    "    # specified path\n",
    "    for filename in files:\n",
    "        dfs = pd.read_csv(filename, encoding = \"Latin 1\", sep= \";\", decimal = ',', error_bad_lines=False, dtype={\"SQ_CANDIDATO\": int, \"ANO_ELEICAO\": int})\n",
    "        content_situacao.append(dfs)\n",
    "    # converting content to data frame\n",
    "    data_frame_cassacao = pd.concat(content_situacao).drop_duplicates()"
   ]
  },
  {
   "cell_type": "code",
   "execution_count": null,
   "id": "da18c85a",
   "metadata": {},
   "outputs": [],
   "source": [
    "data_frame_cassacao"
   ]
  },
  {
   "cell_type": "code",
   "execution_count": null,
   "id": "0d6f7a39",
   "metadata": {},
   "outputs": [],
   "source": [
    "#Calcula o total e a % de valores ausentes\n",
    "num_ausentes = data_frame_cassacao.isna().sum()\n",
    "porc_ausentes = data_frame_cassacao.isna().sum() * 100 / len(data_frame_cassacao)\n",
    "df_ausentes = pd.DataFrame({\n",
    "    'Coluna': data_frame_cassacao.columns,\n",
    "    'Dados ausentes': num_ausentes,\n",
    "    'Porcentagem': porc_ausentes\n",
    "})\n",
    "df_ausentes"
   ]
  },
  {
   "cell_type": "code",
   "execution_count": null,
   "id": "f8d5eb76",
   "metadata": {},
   "outputs": [],
   "source": [
    "display(data_frame_cassacao.head())\n",
    "# Imprimindo as últimas linhas\n",
    "display(data_frame_cassacao.tail())\n",
    "# Informações do nosso DataFrame\n",
    "data_frame_cassacao.describe()\n",
    "# Dimensões do df_dados\n",
    "data_frame_cassacao.shape"
   ]
  },
  {
   "cell_type": "code",
   "execution_count": null,
   "id": "479c13d0",
   "metadata": {},
   "outputs": [],
   "source": [
    "data_frame_cassacao.columns"
   ]
  },
  {
   "cell_type": "code",
   "execution_count": null,
   "id": "92f989ff",
   "metadata": {
    "scrolled": false
   },
   "outputs": [],
   "source": [
    "print('Arquivos com extensão csv Candidato:')\n",
    "concatenar = []\n",
    "with os.scandir(dirCandidatoAnalise) as arqs:\n",
    "    for arq in arqs:\n",
    "        if arq.is_file() and  arq.name.endswith('.csv'):\n",
    "             print(arq.name)\n",
    "    path = dirCandidatoAnalise\n",
    "    # csv files in the path\n",
    "    files = glob.glob(path + \"/*.csv\")\n",
    "    # defining an empty list to store \n",
    "    # content\n",
    "    data_frame = pd.DataFrame()\n",
    "    content = []\n",
    "    # checking all the csv files in the \n",
    "    # specified path\n",
    "    for filename in files:\n",
    "        df = pd.read_csv(filename, encoding = \"Latin 1\", sep= \";\", decimal = ',', \n",
    "            error_bad_lines=False,dtype={\"SQ_CANDIDATO\": int, \"ANO_ELEICAO\": int,\"SG_UF\" : \"string\", \"NR_TURNO\": int,\"HH_GERACAO\" : object ,\"CD_TIPO_ELEICAO\" : int,\"NM_TIPO_ELEICAO\" : \"string\",\"CD_ELEICAO\" : \"string\",\"DS_ELEICAO\" :\"string\",\"TP_ABRANGENCIA\" : \"string\",\"SG_UE\" : \"string\",\"NM_UE\" : \"string\",\"CD_CARGO\" : int,\"DS_CARGO\" : \"string\",\"NR_CANDIDATO\" : int,\"NM_CANDIDATO\" : \"string\",\"NM_URNA_CANDIDATO\" : \"string\",\"NM_SOCIAL_CANDIDATO\" : \"string\",\"NR_CPF_CANDIDATO\" : \"string\",\"NM_EMAIL\" : \"string\",\"CD_SITUACAO_CANDIDATURA\" : \"string\",\"DS_SITUACAO_CANDIDATURA\" : \"string\",\"CD_DETALHE_SITUACAO_CAND\" : \"string\",\"DS_DETALHE_SITUACAO_CAND\" : \"string\",\"TP_AGREMIACAO\" : \"string\",\"NR_PARTIDO\" : int,\"SG_PARTIDO\" : \"string\",\"NM_PARTIDO\" : \"string\",\"SQ_COLIGACAO\" : \"string\",\"NM_COLIGACAO\" : \"string\",\"DS_COMPOSICAO_COLIGACAO\" : \"string\",\"CD_NACIONALIDADE\" : int,\"DS_NACIONALIDADE\" : \"string\",\"SG_UF_NASCIMENTO\" : \"string\",\"CD_MUNICIPIO_NASCIMENTO\" : \"string\",\"NM_MUNICIPIO_NASCIMENTO\" : \"string\",\"DT_NASCIMENTO\" : \"string\",\"NR_IDADE_DATA_POSSE\" : float ,\"NR_TITULO_ELEITORAL_CANDIDATO\" : \"string\",\"CD_GENERO\" : int,\"DS_GENERO\" : \"string\",\"CD_GRAU_INSTRUCAO\" : int,\"DS_GRAU_INSTRUCAO\" : \"string\",\"CD_ESTADO_CIVIL\" : int,\"DS_ESTADO_CIVIL\" : \"string\",\"CD_OCUPACAO\" : \"string\", \"DS_OCUPACAO\" : \"string\",\"VR_DESPESA_MAX_CAMPANHA\" : \"string\",\"CD_SIT_TOT_TURNO\" : \"string\",\"DS_SIT_TOT_TURNO\" : \"string\",\"ST_REELEICAO\" : \"string\",\"ST_DECLARAR_BENS\" : \"string\",\"NR_PROTOCOLO_CANDIDATURA\" : \"string\",\"NR_PROCESSO\" : \"string\" ,\"CD_SITUACAO_CANDIDATO_PLEITO\" : \"string\",\"DS_SITUACAO_CANDIDATO_PLEITO\" : \"string\",\"CD_SITUACAO_CANDIDATO_URNA\" : \"string\", \"DS_SITUACAO_CANDIDATO_URNA\" : \"string\",\"ST_CANDIDATO_INSERIDO_URNA\" : \"string\"})\n",
    "        df.drop_duplicates()\n",
    "        content.append(df)\n",
    "    # converting content to data frame\n",
    "    data_frame = pd.concat(content).drop_duplicates()"
   ]
  },
  {
   "cell_type": "code",
   "execution_count": null,
   "id": "bb76a765",
   "metadata": {},
   "outputs": [],
   "source": [
    "idade_publico = Counter(data_frame['NR_IDADE_DATA_POSSE'])\n",
    "#Plotagem da idade dos candidatos\n",
    "plt.style.use('ggplot')\n",
    "plt.bar(idade_publico.keys(), idade_publico.values())\n",
    "plt.xlabel('Idade')\n",
    "plt.title('Idade dos Candidatos')\n",
    "plt.show()"
   ]
  },
  {
   "cell_type": "markdown",
   "id": "3217075f",
   "metadata": {},
   "source": [
    "<b>ANÁLISE DADOS</b>"
   ]
  },
  {
   "cell_type": "markdown",
   "id": "a99174b9",
   "metadata": {},
   "source": [
    "<b> Agrupamento de dados selecionando dados de interesse: </b> Dados do candidato "
   ]
  },
  {
   "cell_type": "code",
   "execution_count": null,
   "id": "67e05482",
   "metadata": {},
   "outputs": [],
   "source": [
    "#removendo dados com todas linhas faltando dados\n",
    "data_frame.dropna(how='all', inplace=True)\n",
    "#descobrindo a idade média\n",
    "mediaIdade = round(data_frame['NR_IDADE_DATA_POSSE'].mean(),0)\n",
    "print(mediaIdade)\n",
    "# Preenchendo a coluna com o valor da média:\n",
    "data_frame.update(data_frame['NR_IDADE_DATA_POSSE'].fillna(mediaIdade))\n",
    "# Dimensões do df_dados\n",
    "data_frame.shape"
   ]
  },
  {
   "cell_type": "code",
   "execution_count": null,
   "id": "23a0c46e",
   "metadata": {},
   "outputs": [],
   "source": [
    "data_frame['NR_IDADE_DATA_POSSE'].describe().astype('int')"
   ]
  },
  {
   "cell_type": "code",
   "execution_count": null,
   "id": "2b1d3ef3",
   "metadata": {},
   "outputs": [],
   "source": [
    "idade_max = data_frame[data_frame['NR_IDADE_DATA_POSSE'] > 104]\n",
    "idade_min = data_frame[data_frame['NR_IDADE_DATA_POSSE'] < 18]"
   ]
  },
  {
   "cell_type": "code",
   "execution_count": null,
   "id": "ea7561a6",
   "metadata": {},
   "outputs": [],
   "source": [
    "#Seleção das colunas de interesse\n",
    "df_ida_max = idade_max[['SQ_CANDIDATO','ANO_ELEICAO','SG_UF','NR_CPF_CANDIDATO','NR_CANDIDATO','NR_IDADE_DATA_POSSE','DT_NASCIMENTO','NM_CANDIDATO','CD_SITUACAO_CANDIDATO_URNA','ST_CANDIDATO_INSERIDO_URNA','VR_DESPESA_MAX_CAMPANHA']]\n",
    "df_ida_max"
   ]
  },
  {
   "cell_type": "markdown",
   "id": "760c1084",
   "metadata": {},
   "source": [
    "Fonte: Repositório de dados eleitorais ( https://www.tse.jus.br/hotsites/catalogo-publicacoes/pdf/relatorio_eleicoes/relatorio-eleicoes-2014.pdf ) Relatório das Eleições 2014\n",
    "Parte III – Um Olhar Infográfico - 52 considerou idades com Inválidas e sem tratamentos"
   ]
  },
  {
   "cell_type": "markdown",
   "id": "ab165857",
   "metadata": {},
   "source": [
    "<b> Criação de DataSet com dados para tratamento de distorções: </b>"
   ]
  },
  {
   "cell_type": "markdown",
   "id": "e1ad1944",
   "metadata": {},
   "source": [
    "<b> Tratamento dos dados da Idade </b>"
   ]
  },
  {
   "cell_type": "code",
   "execution_count": null,
   "id": "18841b92",
   "metadata": {},
   "outputs": [],
   "source": [
    "#Seleção das colunas de interesse\n",
    "df_ida_min = idade_min[['SQ_CANDIDATO','ANO_ELEICAO','NR_CPF_CANDIDATO','SG_UF','NR_CANDIDATO','NR_IDADE_DATA_POSSE','DT_NASCIMENTO','NM_CANDIDATO','CD_SITUACAO_CANDIDATO_URNA','ST_CANDIDATO_INSERIDO_URNA','VR_DESPESA_MAX_CAMPANHA']]\n",
    "df_ida_min"
   ]
  },
  {
   "cell_type": "code",
   "execution_count": null,
   "id": "dc7d1cde",
   "metadata": {},
   "outputs": [],
   "source": [
    "print('--------------------------------------')\n",
    "for index, row in df_ida_max.iterrows():\n",
    "    data_frame.at[index , 'NR_IDADE_DATA_POSSE' ] = mediaIdade\n",
    "    print('Id: ' + str(index))\n",
    "    print('Ano: ' + str(row['ANO_ELEICAO']))\n",
    "    print('Candidato: ' + str(row['SQ_CANDIDATO']))\n",
    "    print('CPF: ' + str(row['NR_CPF_CANDIDATO']))    \n",
    "    print('Nome: ' + str(row['NM_CANDIDATO']))\n",
    "    print('Data Nascimento: ' + str(row['DT_NASCIMENTO']))\n",
    "    print('Idade Antiga: ' + str(row['NR_IDADE_DATA_POSSE']))\n",
    "    print('Idade Aualizada: ' + str(mediaIdade))\n",
    "    print('--------------------------------------')"
   ]
  },
  {
   "cell_type": "code",
   "execution_count": null,
   "id": "bb32d802",
   "metadata": {},
   "outputs": [],
   "source": [
    "print('--------------------------------------')\n",
    "for index, row in df_ida_min.iterrows():\n",
    "    data_frame.at[index , 'NR_IDADE_DATA_POSSE' ] = 18\n",
    "    print('Id: ' + str(index))\n",
    "    print('Ano: ' + str(row['ANO_ELEICAO']))\n",
    "    print('Candidato: ' + str(row['SQ_CANDIDATO']))\n",
    "    print('CPF: ' + str(row['NR_CPF_CANDIDATO']))   \n",
    "    print('Nome: ' + str(row['NM_CANDIDATO']))\n",
    "    print('Data Nascimento: ' + str(row['DT_NASCIMENTO']))\n",
    "    print('Idade Antiga: ' + str(row['NR_IDADE_DATA_POSSE']))\n",
    "    print('Idade Atualizada: ' + str('18'))\n",
    "    print('--------------------------------------')"
   ]
  },
  {
   "cell_type": "code",
   "execution_count": null,
   "id": "569d7eef",
   "metadata": {},
   "outputs": [],
   "source": [
    "data_frame[data_frame['NR_IDADE_DATA_POSSE'] > 104]"
   ]
  },
  {
   "cell_type": "code",
   "execution_count": null,
   "id": "34d4f206",
   "metadata": {},
   "outputs": [],
   "source": [
    "data_frame[data_frame['NR_IDADE_DATA_POSSE'] < 18]"
   ]
  },
  {
   "cell_type": "code",
   "execution_count": null,
   "id": "ad8e45ac",
   "metadata": {},
   "outputs": [],
   "source": [
    "data_frame['NR_IDADE_DATA_POSSE'].describe().astype('int')"
   ]
  },
  {
   "cell_type": "markdown",
   "id": "85e0f8c9",
   "metadata": {},
   "source": [
    "<b> Agrupamento de dados selecionando dados de interesse: </b>Dados do Cassação "
   ]
  },
  {
   "cell_type": "code",
   "execution_count": null,
   "id": "75b43227",
   "metadata": {},
   "outputs": [],
   "source": [
    "#Seleção das colunas de interesse\n",
    "df_consulta_candidato = data_frame[['SQ_CANDIDATO','ANO_ELEICAO','NR_CPF_CANDIDATO','NR_CANDIDATO', 'NM_CANDIDATO','CD_CARGO','DS_CARGO','NR_PARTIDO','SG_PARTIDO','SG_UF','DS_SIT_TOT_TURNO','NR_IDADE_DATA_POSSE','CD_GENERO','DS_GENERO', 'DT_NASCIMENTO','DS_GRAU_INSTRUCAO', 'DS_ESTADO_CIVIL','CD_COR_RACA','DS_COR_RACA','ST_REELEICAO','TP_ABRANGENCIA','ST_DECLARAR_BENS','CD_GRAU_INSTRUCAO','DS_SITUACAO_CANDIDATURA','CD_SITUACAO_CANDIDATO_URNA','ST_CANDIDATO_INSERIDO_URNA','VR_DESPESA_MAX_CAMPANHA']]"
   ]
  },
  {
   "cell_type": "raw",
   "id": "ebb81a9b",
   "metadata": {},
   "source": [
    "profile = pp.ProfileReport(df,n_extreme_obs=5, title='Análise Exploratória',explorative=True)\n",
    "profile"
   ]
  },
  {
   "cell_type": "code",
   "execution_count": null,
   "id": "5485730a",
   "metadata": {},
   "outputs": [],
   "source": [
    "#Seleção das colunas de interesse\n",
    "df_consulta_cassacao = data_frame_cassacao[['SQ_CANDIDATO','ANO_ELEICAO','DS_MOTIVO_CASSACAO']]\n",
    "display(df_consulta_cassacao.head())\n",
    "# Imprimindo as últimas linhas\n",
    "display(df_consulta_cassacao.tail())\n",
    "# Informações do nosso DataFrame\n",
    "df_consulta_cassacao.describe()"
   ]
  },
  {
   "cell_type": "code",
   "execution_count": null,
   "id": "93a9df51",
   "metadata": {},
   "outputs": [],
   "source": [
    "m_df_candidato_cassacao = pd.merge(df_consulta_candidato, df_consulta_cassacao, on=['SQ_CANDIDATO','ANO_ELEICAO'], how=\"left\")"
   ]
  },
  {
   "cell_type": "code",
   "execution_count": null,
   "id": "ee6bf720",
   "metadata": {},
   "outputs": [],
   "source": [
    "display(m_df_candidato_cassacao.head())\n",
    "# Imprimindo as últimas linhas\n",
    "display(m_df_candidato_cassacao.tail())\n",
    "# Informações do nosso DataFrame\n",
    "m_df_candidato_cassacao.describe()"
   ]
  },
  {
   "cell_type": "code",
   "execution_count": null,
   "id": "1541cb81",
   "metadata": {},
   "outputs": [],
   "source": [
    "m_df_candidato_cassacao"
   ]
  },
  {
   "cell_type": "code",
   "execution_count": null,
   "id": "006cfd8d",
   "metadata": {},
   "outputs": [],
   "source": [
    "#Calcula o total e a % de valores ausentes\n",
    "num_ausentes = m_df_candidato_cassacao.isna().sum()\n",
    "porc_ausentes = m_df_candidato_cassacao.isna().sum() * 100 / len(m_df_candidato_cassacao)\n",
    "df_ausentes = pd.DataFrame({\n",
    "    'Coluna': m_df_candidato_cassacao.columns,\n",
    "    'Dados ausentes': num_ausentes,\n",
    "    'Porcentagem': porc_ausentes\n",
    "})\n",
    "df_ausentes"
   ]
  },
  {
   "cell_type": "markdown",
   "id": "d7eb5196",
   "metadata": {},
   "source": [
    "<b> Selecionando alguns dados para análise </b>"
   ]
  },
  {
   "cell_type": "code",
   "execution_count": null,
   "id": "f03aa995",
   "metadata": {},
   "outputs": [],
   "source": [
    "#Seleção das colunas de interesse\n",
    "df_candidato_cassacao = m_df_candidato_cassacao[['SQ_CANDIDATO','ANO_ELEICAO','NR_CPF_CANDIDATO','NR_CANDIDATO', 'NM_CANDIDATO','CD_CARGO','DS_CARGO','NR_PARTIDO','SG_PARTIDO','SG_UF','DS_SIT_TOT_TURNO','NR_IDADE_DATA_POSSE','CD_GENERO','DS_GENERO','DS_MOTIVO_CASSACAO','DS_ESTADO_CIVIL','CD_COR_RACA','DS_COR_RACA','ST_REELEICAO', 'TP_ABRANGENCIA','ST_DECLARAR_BENS','DS_GRAU_INSTRUCAO','CD_GRAU_INSTRUCAO','DS_SITUACAO_CANDIDATURA','DT_NASCIMENTO','CD_SITUACAO_CANDIDATO_URNA','ST_CANDIDATO_INSERIDO_URNA','VR_DESPESA_MAX_CAMPANHA']]"
   ]
  },
  {
   "cell_type": "code",
   "execution_count": null,
   "id": "bde94dfc",
   "metadata": {},
   "outputs": [],
   "source": [
    "df_candidato_cassacao"
   ]
  },
  {
   "cell_type": "code",
   "execution_count": null,
   "id": "95ea31b0",
   "metadata": {},
   "outputs": [],
   "source": [
    "df_candidato_cassacao.groupby('DS_CARGO')['NR_CPF_CANDIDATO'].count().sort_values(ascending=False)"
   ]
  },
  {
   "cell_type": "code",
   "execution_count": null,
   "id": "8e8692f2",
   "metadata": {},
   "outputs": [],
   "source": [
    "sns.set(style=\"darkgrid\")       #style the plot background to become a grid\n",
    "fig = plt.figure(figsize=(12,4))\n",
    "eixo = fig.add_axes([0, 0, 1, 1])\n",
    "plt.xticks(rotation=90)\n",
    "genderCount  = sns.countplot(x=\"DS_CARGO\", data=df_candidato_cassacao).set_title(\"NR_CPF_CANDIDATO\")"
   ]
  },
  {
   "cell_type": "code",
   "execution_count": null,
   "id": "a47381f8",
   "metadata": {},
   "outputs": [],
   "source": [
    "cols_dados = [\"ANO_ELEICAO\", \"NR_PARTIDO\",\"SG_PARTIDO\",\"SG_UF\",\"ST_REELEICAO\",\"DS_SIT_TOT_TURNO\",\"DS_MOTIVO_CASSACAO\"]\n",
    "df_candidato_cassacao[cols_dados]"
   ]
  },
  {
   "cell_type": "code",
   "execution_count": null,
   "id": "e257c3b9",
   "metadata": {},
   "outputs": [],
   "source": [
    "df_candidato_cassacao.groupby('DS_SIT_TOT_TURNO')['NR_CPF_CANDIDATO'].count().sort_values(ascending=False)"
   ]
  },
  {
   "cell_type": "code",
   "execution_count": null,
   "id": "ec94a834",
   "metadata": {},
   "outputs": [],
   "source": [
    "sns.set(style=\"darkgrid\")       #style the plot background to become a grid\n",
    "fig = plt.figure(figsize=(12,4))\n",
    "eixo = fig.add_axes([0, 0, 1, 1])\n",
    "genderCount  = sns.countplot(x=\"DS_SIT_TOT_TURNO\", data=df_candidato_cassacao).set_title(\"NR_CPF_CANDIDATO\")"
   ]
  },
  {
   "cell_type": "code",
   "execution_count": null,
   "id": "88c5bff5",
   "metadata": {},
   "outputs": [],
   "source": [
    "df_candidato_cassacao.groupby('DS_MOTIVO_CASSACAO')['NR_CPF_CANDIDATO'].count().sort_values(ascending=False)"
   ]
  },
  {
   "cell_type": "code",
   "execution_count": null,
   "id": "abb45baf",
   "metadata": {},
   "outputs": [],
   "source": [
    "sns.set(style=\"darkgrid\")       #style the plot background to become a grid\n",
    "fig = plt.figure(figsize=(12,4))\n",
    "eixo = fig.add_axes([0, 0, 1, 1])\n",
    "plt.xticks(rotation=90)\n",
    "genderCount  = sns.countplot(x=\"DS_MOTIVO_CASSACAO\", data=df_candidato_cassacao).set_title(\"NR_CPF_CANDIDATO\")"
   ]
  },
  {
   "cell_type": "code",
   "execution_count": null,
   "id": "d5962871",
   "metadata": {},
   "outputs": [],
   "source": [
    "# Gráfico de Matriz de Correlação \n",
    "df_small = df_candidato_cassacao.copy()\n",
    "# O corr() método do Pandas DataFrame  é usado para calcular a matriz. \n",
    "# Por padrão, ele calcula o coeficiente de correlação de Pearson\n",
    "correlation_mat = df_small.corr(method='pearson')\n",
    "# Definindo as configurações do Gráfico\n",
    "fig = plt.figure(figsize=(8,4))\n",
    "eixo = fig.add_axes([0, 0, 1, 1])\n",
    "# Usando o método heatmap para traçar a Matriz\n",
    "# O parâmetro ' annot=True' exibe os valores do coeficiente de correlação em cada célula.\n",
    "sns.heatmap(correlation_mat, annot = True, linewidth=0.5)\n",
    "# Definindo titulo e labels do gráfico\n",
    "eixo.set_title('Matriz de Correlação dos atributos', fontsize=15, pad=20)\n",
    "eixo.set_xlabel (\"características do núcleo da célula\")\n",
    "eixo.set_ylabel (\"características do núcleo da célula\")"
   ]
  },
  {
   "cell_type": "code",
   "execution_count": null,
   "id": "eb439700",
   "metadata": {},
   "outputs": [],
   "source": [
    "df_candidato_cassacao['DS_MOTIVO_CASSACAO'].unique()"
   ]
  },
  {
   "cell_type": "markdown",
   "id": "017c1b86",
   "metadata": {},
   "source": [
    "Para iniciar a exploração dos dados será apresentado um sumário estatístico \n",
    "das variáveis com dados numéricos"
   ]
  },
  {
   "cell_type": "code",
   "execution_count": null,
   "id": "c8787b8e",
   "metadata": {},
   "outputs": [],
   "source": [
    "df_candidato_cassacao.groupby('DS_MOTIVO_CASSACAO')['NR_CPF_CANDIDATO'].count().sort_values(ascending=False)"
   ]
  },
  {
   "cell_type": "code",
   "execution_count": null,
   "id": "1880f0fa",
   "metadata": {},
   "outputs": [],
   "source": [
    "data_frame.groupby('DS_SIT_TOT_TURNO')['NR_CPF_CANDIDATO'].count().sort_values(ascending=False)"
   ]
  },
  {
   "cell_type": "code",
   "execution_count": null,
   "id": "d23fc71c",
   "metadata": {},
   "outputs": [],
   "source": [
    "sns.set(style=\"darkgrid\")       #style the plot background to become a grid\n",
    "fig = plt.figure(figsize=(12,4))\n",
    "eixo = fig.add_axes([0, 0, 1, 1])\n",
    "genderCount  = sns.countplot(x=\"DS_SIT_TOT_TURNO\", data=data_frame).set_title(\"NR_CPF_CANDIDATO\")"
   ]
  },
  {
   "cell_type": "code",
   "execution_count": null,
   "id": "beccf479",
   "metadata": {},
   "outputs": [],
   "source": [
    "df_candidato_cassacao.shape"
   ]
  },
  {
   "cell_type": "code",
   "execution_count": null,
   "id": "aa9b5a9d",
   "metadata": {},
   "outputs": [],
   "source": [
    "df_candidato_cassacao.groupby('DS_SITUACAO_CANDIDATURA')['NR_CPF_CANDIDATO'].count().sort_values(ascending=False)"
   ]
  },
  {
   "cell_type": "code",
   "execution_count": null,
   "id": "5819c7e3",
   "metadata": {},
   "outputs": [],
   "source": [
    "data_frame.groupby('ST_CANDIDATO_INSERIDO_URNA')['NR_CPF_CANDIDATO'].count().sort_values(ascending=False)"
   ]
  },
  {
   "cell_type": "code",
   "execution_count": null,
   "id": "d1edd912",
   "metadata": {},
   "outputs": [],
   "source": [
    "idade_publico = Counter(df_candidato_cassacao['NR_IDADE_DATA_POSSE'])\n",
    "#Plotagem da idade dos candidatos\n",
    "plt.style.use('ggplot')\n",
    "plt.bar(idade_publico.keys(), idade_publico.values())\n",
    "plt.xlabel('Idade')\n",
    "plt.title('Idade dos Candidatos')\n",
    "plt.show()"
   ]
  },
  {
   "cell_type": "code",
   "execution_count": null,
   "id": "89b804f8",
   "metadata": {},
   "outputs": [],
   "source": [
    "idade_cal = Counter(df_candidato_cassacao['NR_PARTIDO'])"
   ]
  },
  {
   "cell_type": "code",
   "execution_count": null,
   "id": "0708727d",
   "metadata": {},
   "outputs": [],
   "source": [
    "totalValor = np.array(df_candidato_cassacao['ANO_ELEICAO'])"
   ]
  },
  {
   "cell_type": "code",
   "execution_count": null,
   "id": "98ec0f24",
   "metadata": {},
   "outputs": [],
   "source": [
    "df_candidato_cassacao.head()"
   ]
  },
  {
   "cell_type": "code",
   "execution_count": null,
   "id": "bd61c5c7",
   "metadata": {},
   "outputs": [],
   "source": [
    "#Criação de um dataframe final com candidatos eleitos\n",
    "df_eleitos = df_candidato_cassacao[~df_candidato_cassacao.DS_SIT_TOT_TURNO.isin(['#NULO#','2º TURNO', 'NÃO ELEITO'])]"
   ]
  },
  {
   "cell_type": "code",
   "execution_count": null,
   "id": "d7cb19df",
   "metadata": {},
   "outputs": [],
   "source": [
    "df_eleitos"
   ]
  },
  {
   "cell_type": "code",
   "execution_count": null,
   "id": "e3b55eee",
   "metadata": {},
   "outputs": [],
   "source": [
    "df_eleitos_cassados = df_eleitos[~df_eleitos.DS_MOTIVO_CASSACAO.isnull()]"
   ]
  },
  {
   "cell_type": "code",
   "execution_count": null,
   "id": "2f5bcc08",
   "metadata": {},
   "outputs": [],
   "source": [
    "df_eleitos_cassados"
   ]
  },
  {
   "cell_type": "code",
   "execution_count": null,
   "id": "ef27c468",
   "metadata": {},
   "outputs": [],
   "source": [
    "#Criação de um dataframe final com candidatos eleitos\n",
    "df_nao_eleitos = df_candidato_cassacao[df_candidato_cassacao.DS_SIT_TOT_TURNO.isin(['#NULO#','2º TURNO', 'NÃO ELEITO'])]"
   ]
  },
  {
   "cell_type": "code",
   "execution_count": null,
   "id": "6a998406",
   "metadata": {},
   "outputs": [],
   "source": [
    "df_nao_eleitos"
   ]
  },
  {
   "cell_type": "code",
   "execution_count": null,
   "id": "72d427b0",
   "metadata": {},
   "outputs": [],
   "source": [
    "df_nao_eleitos_cassados = df_nao_eleitos[~df_nao_eleitos.DS_MOTIVO_CASSACAO.isnull()]"
   ]
  },
  {
   "cell_type": "code",
   "execution_count": null,
   "id": "9c15a31b",
   "metadata": {},
   "outputs": [],
   "source": [
    "df_nao_eleitos_cassados"
   ]
  },
  {
   "cell_type": "code",
   "execution_count": null,
   "id": "bf3cff03",
   "metadata": {},
   "outputs": [],
   "source": [
    "cassados = df_eleitos.loc[df_eleitos['DS_MOTIVO_CASSACAO'].notnull()]\n",
    "#Contagem das opções da coluna DS_GENERO\n",
    "genero_candidatos_cassados = Counter(cassados['DS_GENERO'])\n",
    "genero_candidatos_cassados"
   ]
  },
  {
   "cell_type": "code",
   "execution_count": null,
   "id": "d18a76a1",
   "metadata": {},
   "outputs": [],
   "source": [
    "cassados_nao_eleito = df_nao_eleitos_cassados.loc[df_nao_eleitos_cassados['DS_MOTIVO_CASSACAO'].notnull()]\n",
    "#Contagem das opções da coluna DS_GENERO\n",
    "genero_candidatos_cassados_nao_eleito = Counter(cassados_nao_eleito['DS_GENERO'])\n",
    "genero_candidatos_cassados_nao_eleito"
   ]
  },
  {
   "cell_type": "code",
   "execution_count": null,
   "id": "3ac383fa",
   "metadata": {},
   "outputs": [],
   "source": [
    "# Distributions of the features\n",
    "fig, ax = plt.subplots(3, 4, figsize=(20, 12))\n",
    "sns.histplot(df_eleitos_cassados['NR_CANDIDATO'],kde=True, ax=ax[0, 0])\n",
    "sns.histplot(df_eleitos_cassados['SQ_CANDIDATO'], kde=True, ax=ax[0,1])\n",
    "sns.histplot(df_eleitos_cassados['CD_GRAU_INSTRUCAO'], ax=ax[0, 2])\n",
    "sns.histplot(df_eleitos_cassados['CD_GENERO'], ax=ax[0, 3])\n",
    "sns.histplot(df_eleitos_cassados['NR_IDADE_DATA_POSSE'], ax=ax[1, 0])\n",
    "sns.histplot(df_eleitos_cassados['CD_CARGO'], ax=ax[1, 1])\n",
    "sns.histplot(df_eleitos_cassados['SQ_CANDIDATO'], kde=True, ax=ax[1, 2])\n",
    "sns.histplot(df_eleitos_cassados['CD_GRAU_INSTRUCAO'], kde=True, ax=ax[2, 0])\n",
    "sns.histplot(df_eleitos_cassados['NR_PARTIDO'], ax=ax[2, 1])\n",
    "sns.histplot(df_eleitos_cassados['ANO_ELEICAO'], ax=ax[2, 2])\n",
    "plt.show()"
   ]
  },
  {
   "cell_type": "code",
   "execution_count": null,
   "id": "5774b344",
   "metadata": {},
   "outputs": [],
   "source": [
    "# Distributions of the features\n",
    "fig, ax = plt.subplots(3, 4, figsize=(20, 12))\n",
    "sns.histplot(df_nao_eleitos_cassados['NR_IDADE_DATA_POSSE'], kde=True, ax=ax[0, 0])\n",
    "sns.histplot(df_nao_eleitos_cassados['CD_GRAU_INSTRUCAO'], ax=ax[0, 1])\n",
    "sns.histplot(df_nao_eleitos_cassados['NR_CANDIDATO'], ax=ax[0, 2])\n",
    "sns.histplot(df_nao_eleitos_cassados['NR_PARTIDO'], ax=ax[0, 3])\n",
    "sns.histplot(df_nao_eleitos_cassados['ANO_ELEICAO'], ax=ax[1, 0])\n",
    "sns.histplot(df_nao_eleitos_cassados['CD_GENERO'], ax=ax[1, 1])\n",
    "sns.histplot(df_nao_eleitos_cassados['CD_GRAU_INSTRUCAO'], kde=True, ax=ax[1, 2])\n",
    "sns.histplot(df_nao_eleitos_cassados['ANO_ELEICAO'], kde=True, ax=ax[2, 0])\n",
    "sns.histplot(df_nao_eleitos_cassados['NR_PARTIDO'], ax=ax[2, 1])\n",
    "sns.histplot(df_nao_eleitos_cassados['ANO_ELEICAO'], ax=ax[2, 2])\n",
    "plt.show()"
   ]
  },
  {
   "cell_type": "code",
   "execution_count": null,
   "id": "bd44f317",
   "metadata": {},
   "outputs": [],
   "source": [
    "df_eleitos_cassados.groupby('DS_MOTIVO_CASSACAO')['NR_CPF_CANDIDATO'].count().sort_values(ascending=False)"
   ]
  },
  {
   "cell_type": "code",
   "execution_count": null,
   "id": "d29350e8",
   "metadata": {},
   "outputs": [],
   "source": [
    "sns.set(style=\"darkgrid\")       #style the plot background to become a grid\n",
    "fig = plt.figure(figsize=(12,4))\n",
    "eixo = fig.add_axes([0, 0, 1, 1])\n",
    "plt.xticks(rotation=90)\n",
    "genderCount  = sns.countplot(x=\"DS_MOTIVO_CASSACAO\", data=df_eleitos_cassados).set_title(\"Motico Cassação Candidatos Eleitos\")"
   ]
  },
  {
   "cell_type": "code",
   "execution_count": null,
   "id": "1beb3124",
   "metadata": {},
   "outputs": [],
   "source": [
    "df_nao_eleitos_cassados.groupby('DS_MOTIVO_CASSACAO')['NR_CPF_CANDIDATO'].count().sort_values(ascending=False)"
   ]
  },
  {
   "cell_type": "code",
   "execution_count": null,
   "id": "f2006954",
   "metadata": {},
   "outputs": [],
   "source": [
    "sns.set(style=\"darkgrid\")       #style the plot background to become a grid\n",
    "fig = plt.figure(figsize=(12,4))\n",
    "eixo = fig.add_axes([0, 0, 1, 1])\n",
    "plt.xticks(rotation=90)\n",
    "genderCount  = sns.countplot(x=\"DS_MOTIVO_CASSACAO\", data=df_nao_eleitos_cassados).set_title(\"Motico Cassação Candidatos Não Eleitos\")"
   ]
  },
  {
   "cell_type": "code",
   "execution_count": null,
   "id": "c4db007a",
   "metadata": {},
   "outputs": [],
   "source": [
    "#Contagem das opções da coluna DS_GENERO\n",
    "genero_candidatos_eleitos = Counter(df_eleitos['DS_GENERO'])\n",
    "genero_candidatos_eleitos"
   ]
  },
  {
   "cell_type": "code",
   "execution_count": null,
   "id": "60797bc8",
   "metadata": {},
   "outputs": [],
   "source": [
    "sns.boxplot(x='ST_REELEICAO', y='NR_IDADE_DATA_POSSE', data=df_eleitos)\n",
    "plt.title('Reeleição total')\n",
    "plt.show()"
   ]
  },
  {
   "cell_type": "code",
   "execution_count": null,
   "id": "0d298dc0",
   "metadata": {},
   "outputs": [],
   "source": [
    "sns.boxplot(x='ST_REELEICAO', y='NR_IDADE_DATA_POSSE', data=df_eleitos_cassados)\n",
    "plt.title('Candidatos Eleitos Reeleição')\n",
    "plt.show()"
   ]
  },
  {
   "cell_type": "code",
   "execution_count": null,
   "id": "1da3e033",
   "metadata": {},
   "outputs": [],
   "source": [
    "sns.boxplot(x='ST_REELEICAO', y='NR_IDADE_DATA_POSSE', data=df_nao_eleitos_cassados)\n",
    "plt.title('Candidatos não Eleitos Reeleição')\n",
    "plt.show()"
   ]
  },
  {
   "cell_type": "code",
   "execution_count": null,
   "id": "cb5ecf36",
   "metadata": {},
   "outputs": [],
   "source": [
    "df_candidato = df_candidato_cassacao.copy()"
   ]
  },
  {
   "cell_type": "code",
   "execution_count": null,
   "id": "9b366428",
   "metadata": {},
   "outputs": [],
   "source": [
    "df_candidato"
   ]
  },
  {
   "cell_type": "code",
   "execution_count": null,
   "id": "e45ad0e6",
   "metadata": {},
   "outputs": [],
   "source": [
    "categorical_columns = [cname for cname in df_candidato.columns if df_candidato[cname].dtype == \"object\"]"
   ]
  },
  {
   "cell_type": "code",
   "execution_count": null,
   "id": "25fd6247",
   "metadata": {},
   "outputs": [],
   "source": [
    "categorical_columns"
   ]
  },
  {
   "cell_type": "code",
   "execution_count": null,
   "id": "3ea253c1",
   "metadata": {},
   "outputs": [],
   "source": [
    "sns.set(style=\"darkgrid\")       #style the plot background to become a grid\n",
    "fig = plt.figure(figsize=(12,4))\n",
    "eixo = fig.add_axes([0, 0, 1, 1])\n",
    "genderCount  = sns.countplot(x=\"DS_COR_RACA\", data=df_candidato).set_title(\"Gender_Count\")"
   ]
  },
  {
   "cell_type": "code",
   "execution_count": null,
   "id": "6413348a",
   "metadata": {},
   "outputs": [],
   "source": [
    "sns.set(style=\"darkgrid\")       #style the plot background to become a grid\n",
    "fig = plt.figure(figsize=(12,4))\n",
    "eixo = fig.add_axes([0, 0, 1, 1])\n",
    "genderCount  = sns.countplot(x=\"DS_COR_RACA\", data=df_nao_eleitos_cassados).set_title(\"Gender_Count\")"
   ]
  },
  {
   "cell_type": "code",
   "execution_count": null,
   "id": "7c3621e3",
   "metadata": {},
   "outputs": [],
   "source": [
    "sns.set(style=\"darkgrid\")       #style the plot background to become a grid\n",
    "fig = plt.figure(figsize=(12,4))\n",
    "eixo = fig.add_axes([0, 0, 1, 1])\n",
    "genderCount  = sns.countplot(x=\"DS_COR_RACA\", data=df_eleitos_cassados).set_title(\"Gender_Count\")"
   ]
  },
  {
   "cell_type": "code",
   "execution_count": null,
   "id": "fcfb0d5d",
   "metadata": {},
   "outputs": [],
   "source": [
    "df_candidato.isnull().sum()"
   ]
  },
  {
   "cell_type": "markdown",
   "id": "7c638837",
   "metadata": {},
   "source": [
    "https://www.flai.com.br/juscudilio/parte-iii-como-utilizar-modelos-de-machine-learning-para-reduzir-o-churn/\n",
    "\n",
    "Separando as variáveis numéricas das categóricas\n",
    "Variáveis numéricas são aquelas variáveis que assumem valores numéricos, por exemplo a variável idade. As variáveis numéricas são classificadas como variáveis contínuas ou discreta.\n",
    "\n",
    "As variáveis contínuas assumem valores na reta real, como a variável Salário Estimado. E as variáveis discretas são aquelas que assumem valores inteiros, como a variável número de produtos.\n",
    "\n",
    "Variáveis categóricas são variáveis que não assumem valores numéricos. Por exemplo, a variável país.\n",
    "\n",
    "As variáveis categóricas são classificadas como nominais e ordinais. As variáveis categóricas nominais são aquelas que não tem nenhuma ordem envolvida, por exemplo, a variável sexo e ordinais quando temos uma ordem envolvida, como a variável grau de escolaridade.\n",
    "\n",
    "No pré processamento dos dados separamos as variáveis entre categóricas e numéricas, pois para cada tipo de variável utilizamos técnicas de processamento diferentes."
   ]
  },
  {
   "cell_type": "code",
   "execution_count": null,
   "id": "2cfe8397",
   "metadata": {},
   "outputs": [],
   "source": [
    "data_gd = pd.get_dummies(df_candidato, prefix_sep='_', drop_first=True)\n",
    "data_gd.head(8)"
   ]
  },
  {
   "cell_type": "code",
   "execution_count": null,
   "id": "7c94a0a5",
   "metadata": {},
   "outputs": [],
   "source": [
    "# O corr() método do Pandas DataFrame  é usado para calcular a matriz. \n",
    "# Por padrão, ele calcula o coeficiente de correlação de Pearson\n",
    "correlation_mat = df_candidato.corr(method='pearson')\n",
    "# Definindo as configurações do Gráfico\n",
    "fig = plt.figure(figsize=(8,4))\n",
    "eixo = fig.add_axes([0, 0, 1, 1])\n",
    "# Usando o método heatmap para traçar a Matriz\n",
    "# O parâmetro ' annot=True' exibe os valores do coeficiente de correlação em cada célula.\n",
    "sns.heatmap(correlation_mat, annot = True, linewidth=0.5)\n",
    "# Definindo titulo e labels do gráfico\n",
    "eixo.set_title('Matriz de Correlação dos atributos', fontsize=15, pad=20)\n",
    "eixo.set_xlabel (\"características do núcleo da célula\")\n",
    "eixo.set_ylabel (\"características do núcleo da célula\")"
   ]
  },
  {
   "cell_type": "code",
   "execution_count": null,
   "id": "e35d972a",
   "metadata": {},
   "outputs": [],
   "source": [
    "data_gd.columns"
   ]
  },
  {
   "cell_type": "code",
   "execution_count": null,
   "id": "dad79367",
   "metadata": {},
   "outputs": [],
   "source": [
    "from sklearn.neighbors import KNeighborsClassifier\n",
    "from sklearn.preprocessing import LabelEncoder\n",
    "from sklearn.model_selection import train_test_split"
   ]
  },
  {
   "cell_type": "code",
   "execution_count": null,
   "id": "17704628",
   "metadata": {},
   "outputs": [],
   "source": [
    "#Variáveis Continuas\n",
    "x_cont  = ['ST_REELEICAO','DS_CARGO','DS_ESTADO_CIVIL','DS_SIT_TOT_TURNO','VR_DESPESA_MAX_CAMPANHA','NR_IDADE_DATA_POSSE','SG_PARTIDO','DS_CARGO','TP_ABRANGENCIA']\n"
   ]
  },
  {
   "cell_type": "code",
   "execution_count": null,
   "id": "49bf81d0",
   "metadata": {},
   "outputs": [],
   "source": [
    "#Variáveis Categóricas\n",
    "x_cat = list(set(data_gd) - set(x_cont))\n",
    "x_dummies = data_gd[x_cat]"
   ]
  },
  {
   "cell_type": "code",
   "execution_count": null,
   "id": "b02bbf84",
   "metadata": {},
   "outputs": [],
   "source": [
    "data_gd"
   ]
  },
  {
   "cell_type": "code",
   "execution_count": null,
   "id": "00399f6a",
   "metadata": {},
   "outputs": [],
   "source": [
    "##Substituindo a variável sexo para 0 e 1\n",
    "from sklearn.preprocessing import LabelEncoder\n",
    "le = LabelEncoder()\n",
    "data_gd['DS_SIT_TOT_TURNO'] = le.fit_transform(data_gd['DS_SIT_TOT_TURNO']) \n",
    "data_gd.head(10)"
   ]
  },
  {
   "cell_type": "code",
   "execution_count": null,
   "id": "9ec92811",
   "metadata": {},
   "outputs": [],
   "source": [
    "#https://datagy.io/pandas-get-dummies/"
   ]
  },
  {
   "cell_type": "code",
   "execution_count": null,
   "id": "43a4d2b6",
   "metadata": {},
   "outputs": [],
   "source": [
    "x_final = pd.get_dummies(data = data_gd, \n",
    "                          columns = ['SG_UF','DS_SIT_TOT_TURNO','DS_GRAU_INSTRUCAO','SG_PARTIDO','DS_CARGO','TP_ABRANGENCIA'],\n",
    "                          prefix_sep='_',\n",
    "                          dummy_na=False,\n",
    "                          sparse=False,\n",
    "                          drop_first=False,\n",
    "                          dtype=None\n",
    "                         )\n",
    "x_final"
   ]
  },
  {
   "cell_type": "code",
   "execution_count": null,
   "id": "e3f96b69",
   "metadata": {},
   "outputs": [],
   "source": [
    "x_dummies.head(8)"
   ]
  },
  {
   "cell_type": "code",
   "execution_count": null,
   "id": "6ffdeb99",
   "metadata": {},
   "outputs": [],
   "source": [
    "x_dummies.columns"
   ]
  },
  {
   "cell_type": "code",
   "execution_count": null,
   "id": "6f6bf170",
   "metadata": {},
   "outputs": [],
   "source": [
    "# Distributions of the features\n",
    "fig, ax = plt.subplots(3, 4, figsize=(20, 12))\n",
    "sns.histplot(df_candidato_cassacao['NR_IDADE_DATA_POSSE'], kde=True, ax=ax[0, 0])\n",
    "sns.histplot(df_candidato_cassacao['CD_GRAU_INSTRUCAO'], ax=ax[0, 1])\n",
    "sns.histplot(df_candidato_cassacao['NR_CANDIDATO'], ax=ax[0, 2])\n",
    "sns.histplot(df_candidato_cassacao['NR_PARTIDO'], ax=ax[0, 3])\n",
    "sns.histplot(df_candidato_cassacao['ANO_ELEICAO'], ax=ax[1, 0])\n",
    "sns.histplot(df_candidato_cassacao['CD_GENERO'], ax=ax[1, 1])\n",
    "sns.histplot(df_candidato_cassacao['CD_GRAU_INSTRUCAO'], kde=True, ax=ax[1, 2])\n",
    "sns.histplot(df_candidato_cassacao['ANO_ELEICAO'], kde=True, ax=ax[2, 0])\n",
    "sns.histplot(df_candidato_cassacao['NR_PARTIDO'], ax=ax[2, 1])\n",
    "sns.histplot(df_candidato_cassacao['CD_CARGO'], ax=ax[2, 2])\n",
    "plt.show()"
   ]
  },
  {
   "cell_type": "markdown",
   "id": "85a94b46",
   "metadata": {},
   "source": [
    "<b> DADOS </b>"
   ]
  },
  {
   "cell_type": "code",
   "execution_count": null,
   "id": "fe1970b2",
   "metadata": {},
   "outputs": [],
   "source": [
    "df = x_final.copy()"
   ]
  },
  {
   "cell_type": "code",
   "execution_count": null,
   "id": "c1ca167d",
   "metadata": {},
   "outputs": [],
   "source": [
    "df.columns"
   ]
  },
  {
   "cell_type": "code",
   "execution_count": null,
   "id": "b39c27d1",
   "metadata": {},
   "outputs": [],
   "source": [
    "df"
   ]
  },
  {
   "cell_type": "code",
   "execution_count": null,
   "id": "779ccf12",
   "metadata": {},
   "outputs": [],
   "source": [
    "X_df = df[['NR_PARTIDO', 'NR_PARTIDO','CD_CARGO','NR_IDADE_DATA_POSSE','ANO_ELEICAO']]\n",
    "Y_df = df['ANO_ELEICAO']\n",
    "\n",
    "Xdummies_df = pd.get_dummies(X_df)\n",
    "Ydummies_df = Y_df\n",
    "\n",
    "X = Xdummies_df.values\n",
    "Y = Ydummies_df.values\n",
    "\n",
    "porcentagem_de_treino = 0.8\n",
    "porcentagem_de_teste = 0.1\n",
    "\n",
    "tamanho_de_treino = int(porcentagem_de_treino * len(Y))\n",
    "tamanho_de_teste = int(porcentagem_de_teste * len(Y))\n",
    "tamanho_de_validacao = len(Y) - tamanho_de_treino - tamanho_de_teste\n",
    "\n",
    "treino_dados = X[:tamanho_de_treino]\n",
    "treino_marcacoes = Y[:tamanho_de_treino]\n",
    "\n",
    "fim_de_treino = tamanho_de_treino + tamanho_de_teste\n",
    "\n",
    "teste_dados = X[tamanho_de_treino:fim_de_treino]\n",
    "teste_marcacoes = Y[tamanho_de_treino:fim_de_treino]\n",
    "\n",
    "validacao_dados = X[fim_de_treino:]\n",
    "validacao_marcacoes = Y[fim_de_treino:]"
   ]
  },
  {
   "cell_type": "code",
   "execution_count": null,
   "id": "d8a1f710",
   "metadata": {},
   "outputs": [],
   "source": [
    "from sklearn.metrics import confusion_matrix, classification_report\n",
    "from pickle import dump, load"
   ]
  },
  {
   "cell_type": "code",
   "execution_count": null,
   "id": "676959fe",
   "metadata": {},
   "outputs": [],
   "source": [
    "def fit_and_predict(nome, modelo, X_train, Y_train, teste_dados, teste_marcacoes):\n",
    "    modelo.fit(X_train, Y_train) \n",
    "    \n",
    "    #Testa para ver a sua veracidade\n",
    "    predictions = modelo.predict(teste_dados)\n",
    "    print(confusion_matrix(teste_marcacoes, predictions))\n",
    "    print(classification_report(teste_marcacoes, predictions))\n",
    "\n",
    "    #Salva para uso futuro\n",
    "    filename = 'binary_class_model.sav'\n",
    "    #dump(modelo, open(filename, 'wb'))\n",
    "\n",
    "    #Le o arquivo do disco\n",
    "    #loaded_model = load(open('binary_class_model.sav', 'rb'))\n",
    "    \n",
    "    resultado = modelo.predict(teste_dados)\n",
    "    acertos = resultado == teste_marcacoes\n",
    "    total_de_acertos = sum(acertos)\n",
    "    total_de_elementos = len(teste_dados)\n",
    "    taxa_de_acerto = 100.0 * total_de_acertos / total_de_elementos\n",
    "    msg = \"Taxa de acerto do algoritmo {0}: {1}\".format(nome, taxa_de_acerto)\n",
    "    print(msg)\n",
    "    return taxa_de_acerto\n",
    "\n",
    "\n",
    "def teste_real(modelo, validacao_dados, validacao_marcacoes):\n",
    "    resultado = modelo.predict(validacao_dados)\n",
    "    acertos = resultado == validacao_marcacoes\n",
    "    total_de_acertos = sum(acertos)\n",
    "    total_de_elementos = len(validacao_marcacoes)\n",
    "    taxa_de_acerto = 100.0 * total_de_acertos / total_de_elementos\n",
    "    msg = \"Taxa de acerto do vencedor entre os dois algoritmos no mundo real: {0}\".format(taxa_de_acerto)\n",
    "    print(msg)"
   ]
  },
  {
   "cell_type": "code",
   "execution_count": null,
   "id": "8484034e",
   "metadata": {},
   "outputs": [],
   "source": [
    "resultados = {}"
   ]
  },
  {
   "cell_type": "code",
   "execution_count": null,
   "id": "7502043e",
   "metadata": {},
   "outputs": [],
   "source": [
    "#Ajuste do Modelo KNN - https://github.com/alura-cursos/machine-learning-introducao-a-classificacao-2/blob/master/situacao_do_cliente.py\n",
    "from sklearn.neighbors import KNeighborsClassifier #classificador\n",
    "knn = KNeighborsClassifier()\n",
    "knn.fit(treino_dados, treino_marcacoes)\n",
    "resultado_knn = knn.predict(teste_dados)    \n",
    "\n",
    "resultado_knn"
   ]
  },
  {
   "cell_type": "code",
   "execution_count": null,
   "id": "32efaa9d",
   "metadata": {},
   "outputs": [],
   "source": [
    "from sklearn.multiclass import OneVsRestClassifier\n",
    "from sklearn.svm import LinearSVC\n",
    "modeloOneVsRest = OneVsRestClassifier(LinearSVC(random_state = 0))\n",
    "resultadoOneVsRest = fit_and_predict(\"OneVsRest\", modeloOneVsRest, treino_dados, treino_marcacoes, teste_dados, teste_marcacoes)\n",
    "resultados[resultadoOneVsRest] = modeloOneVsRest"
   ]
  },
  {
   "cell_type": "code",
   "execution_count": null,
   "id": "702b2c39",
   "metadata": {},
   "outputs": [],
   "source": [
    "from sklearn.multiclass import OneVsOneClassifier\n",
    "modeloOneVsOne = OneVsOneClassifier(LinearSVC(random_state=0))\n",
    "resultadoOneVsOne = fit_and_predict(\"OneVsOne\", modeloOneVsOne, treino_dados, treino_marcacoes, teste_dados, teste_marcacoes)\n",
    "resultados[resultadoOneVsOne] = modeloOneVsOne"
   ]
  },
  {
   "cell_type": "code",
   "execution_count": null,
   "id": "f6734bea",
   "metadata": {},
   "outputs": [],
   "source": [
    "from sklearn.naive_bayes import MultinomialNB\n",
    "modeloMultinomial = MultinomialNB()\n",
    "resultadoMultinomial = fit_and_predict(\"MultinomialNB\", modeloMultinomial, treino_dados, treino_marcacoes, teste_dados, teste_marcacoes)\n",
    "resultados[resultadoMultinomial] = modeloMultinomial"
   ]
  },
  {
   "cell_type": "code",
   "execution_count": null,
   "id": "fbc5a059",
   "metadata": {},
   "outputs": [],
   "source": [
    "from sklearn.ensemble import AdaBoostClassifier\n",
    "modeloAdaBoost = AdaBoostClassifier()\n",
    "resultadoAdaBoost = fit_and_predict(\"AdaBoostClassifier\", modeloAdaBoost, treino_dados, treino_marcacoes, teste_dados, teste_marcacoes)\n",
    "resultados[resultadoAdaBoost] = modeloAdaBoost"
   ]
  },
  {
   "cell_type": "code",
   "execution_count": null,
   "id": "0a8f478d",
   "metadata": {},
   "outputs": [],
   "source": [
    "print (resultados)\n",
    "maximo = max(resultados)\n",
    "vencedor = resultados[maximo]\n",
    "print (vencedor)\n",
    "\n",
    "resultado = vencedor.predict(validacao_dados)\n",
    "acertos = (resultado == validacao_marcacoes)\n",
    "\n",
    "total_de_acertos = sum(acertos)\n",
    "total_de_elementos = len(validacao_marcacoes)\n",
    "taxa_de_acerto = 100.0 * total_de_acertos / total_de_elementos\n",
    "\n",
    "msg = \"Taxa de acerto do vencedor entre os dois algoritmos no mundo real: {0}\".format(taxa_de_acerto)\n",
    "print(msg)"
   ]
  },
  {
   "cell_type": "code",
   "execution_count": null,
   "id": "601b14b9",
   "metadata": {},
   "outputs": [],
   "source": [
    "print(resultados)\n",
    "maximo = max(resultados)\n",
    "vencedor = resultados[maximo]\n",
    "print(\"VENCEDOR:\", vencedor)"
   ]
  },
  {
   "cell_type": "code",
   "execution_count": null,
   "id": "86172926",
   "metadata": {},
   "outputs": [],
   "source": [
    "# precisa fazer o FIT pois o FIT foi excluido pois não fazemos mais o treino\n",
    "vencedor.fit(treino_dados, treino_marcacoes)\n",
    "\n",
    "teste_real(vencedor, validacao_dados, validacao_marcacoes)\n",
    "\n",
    "print(\"Elementos testados: %d \" % len(validacao_dados))"
   ]
  },
  {
   "cell_type": "code",
   "execution_count": null,
   "id": "8a54cc1c",
   "metadata": {},
   "outputs": [],
   "source": [
    "#Salva para uso futuro\n",
    "filename = 'binary_class_model.sav'\n",
    "dump(resultadoAdaBoost, open(filename, 'wb'))\n",
    "\n",
    "#Le o arquivo do disco\n",
    "loaded_model = load(open('binary_class_model.sav', 'rb'))"
   ]
  },
  {
   "cell_type": "code",
   "execution_count": null,
   "id": "66165e79",
   "metadata": {},
   "outputs": [],
   "source": [
    "import seaborn as sns # statistical visualization"
   ]
  },
  {
   "cell_type": "code",
   "execution_count": null,
   "id": "59774c6f",
   "metadata": {},
   "outputs": [],
   "source": [
    "(df_candidato_cassacao.isnull().sum() / df_candidato_cassacao.shape[0] * 100).sort_values(ascending=False)"
   ]
  },
  {
   "cell_type": "code",
   "execution_count": null,
   "id": "f21ed7de",
   "metadata": {},
   "outputs": [],
   "source": [
    "#quantidade de valores únicos por cada coluna.\n",
    "df_candidato_cassacao.nunique().sort_values()"
   ]
  },
  {
   "cell_type": "code",
   "execution_count": null,
   "id": "1af4a94c",
   "metadata": {},
   "outputs": [],
   "source": [
    "# describing categorical features\n",
    "df_candidato_cassacao.describe(include=['O'])"
   ]
  },
  {
   "cell_type": "code",
   "execution_count": null,
   "id": "58e6c655",
   "metadata": {},
   "outputs": [],
   "source": [
    "# plotting this correlation between features\n",
    "fig, ax = plt.subplots(figsize=(17, 17))\n",
    "sns.heatmap(data=df_candidato_cassacao.corr().round(2), annot=True, cmap=\"PiYG\", ax=ax)"
   ]
  },
  {
   "cell_type": "code",
   "execution_count": null,
   "id": "a135d94b",
   "metadata": {},
   "outputs": [],
   "source": [
    "# pair plot diagnosis + 10 features (mean)\n",
    "sns.pairplot(data=df_candidato_cassacao.iloc[:,0:11], hue='NR_PARTIDO', diag_kind='kde')"
   ]
  },
  {
   "cell_type": "code",
   "execution_count": null,
   "id": "7e69cc6d",
   "metadata": {},
   "outputs": [],
   "source": [
    "# plotting this correlation between features\n",
    "fig, ax = plt.subplots(figsize=(17, 17))\n",
    "sns.heatmap(data=df_candidato.corr().round(2), annot=True, cmap=\"PiYG\", ax=ax)"
   ]
  },
  {
   "cell_type": "code",
   "execution_count": null,
   "id": "b7058f53",
   "metadata": {},
   "outputs": [],
   "source": [
    "df.values"
   ]
  },
  {
   "cell_type": "code",
   "execution_count": null,
   "id": "02c45e90",
   "metadata": {},
   "outputs": [],
   "source": []
  },
  {
   "cell_type": "code",
   "execution_count": null,
   "id": "dc740d38",
   "metadata": {},
   "outputs": [],
   "source": []
  },
  {
   "cell_type": "code",
   "execution_count": null,
   "id": "9423deea",
   "metadata": {},
   "outputs": [],
   "source": []
  },
  {
   "cell_type": "code",
   "execution_count": null,
   "id": "4000c72a",
   "metadata": {},
   "outputs": [],
   "source": []
  }
 ],
 "metadata": {
  "kernelspec": {
   "display_name": "Python 3 (ipykernel)",
   "language": "python",
   "name": "python3"
  },
  "language_info": {
   "codemirror_mode": {
    "name": "ipython",
    "version": 3
   },
   "file_extension": ".py",
   "mimetype": "text/x-python",
   "name": "python",
   "nbconvert_exporter": "python",
   "pygments_lexer": "ipython3",
   "version": "3.9.12"
  }
 },
 "nbformat": 4,
 "nbformat_minor": 5
}
